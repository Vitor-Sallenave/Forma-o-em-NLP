{
  "nbformat": 4,
  "nbformat_minor": 0,
  "metadata": {
    "colab": {
      "provenance": [],
      "authorship_tag": "ABX9TyNelityHf50Q84S/NEDAaNb",
      "include_colab_link": true
    },
    "kernelspec": {
      "name": "python3",
      "display_name": "Python 3"
    },
    "language_info": {
      "name": "python"
    }
  },
  "cells": [
    {
      "cell_type": "markdown",
      "metadata": {
        "id": "view-in-github",
        "colab_type": "text"
      },
      "source": [
        "<a href=\"https://colab.research.google.com/github/Vitor-Sallenave/Formacao-em-NLP/blob/main/Spacy/Spacy.ipynb\" target=\"_parent\"><img src=\"https://colab.research.google.com/assets/colab-badge.svg\" alt=\"Open In Colab\"/></a>"
      ]
    },
    {
      "cell_type": "code",
      "execution_count": 1,
      "metadata": {
        "id": "tgzeqVyR08Ex",
        "colab": {
          "base_uri": "https://localhost:8080/"
        },
        "outputId": "889187ed-0243-463b-b609-ba2dde9f9992"
      },
      "outputs": [
        {
          "output_type": "stream",
          "name": "stdout",
          "text": [
            "Requirement already satisfied: spacy in /usr/local/lib/python3.10/dist-packages (3.6.1)\n",
            "Requirement already satisfied: spacy-legacy<3.1.0,>=3.0.11 in /usr/local/lib/python3.10/dist-packages (from spacy) (3.0.12)\n",
            "Requirement already satisfied: spacy-loggers<2.0.0,>=1.0.0 in /usr/local/lib/python3.10/dist-packages (from spacy) (1.0.4)\n",
            "Requirement already satisfied: murmurhash<1.1.0,>=0.28.0 in /usr/local/lib/python3.10/dist-packages (from spacy) (1.0.9)\n",
            "Requirement already satisfied: cymem<2.1.0,>=2.0.2 in /usr/local/lib/python3.10/dist-packages (from spacy) (2.0.7)\n",
            "Requirement already satisfied: preshed<3.1.0,>=3.0.2 in /usr/local/lib/python3.10/dist-packages (from spacy) (3.0.8)\n",
            "Requirement already satisfied: thinc<8.2.0,>=8.1.8 in /usr/local/lib/python3.10/dist-packages (from spacy) (8.1.12)\n",
            "Requirement already satisfied: wasabi<1.2.0,>=0.9.1 in /usr/local/lib/python3.10/dist-packages (from spacy) (1.1.2)\n",
            "Requirement already satisfied: srsly<3.0.0,>=2.4.3 in /usr/local/lib/python3.10/dist-packages (from spacy) (2.4.7)\n",
            "Requirement already satisfied: catalogue<2.1.0,>=2.0.6 in /usr/local/lib/python3.10/dist-packages (from spacy) (2.0.9)\n",
            "Requirement already satisfied: typer<0.10.0,>=0.3.0 in /usr/local/lib/python3.10/dist-packages (from spacy) (0.9.0)\n",
            "Requirement already satisfied: pathy>=0.10.0 in /usr/local/lib/python3.10/dist-packages (from spacy) (0.10.2)\n",
            "Requirement already satisfied: smart-open<7.0.0,>=5.2.1 in /usr/local/lib/python3.10/dist-packages (from spacy) (6.3.0)\n",
            "Requirement already satisfied: tqdm<5.0.0,>=4.38.0 in /usr/local/lib/python3.10/dist-packages (from spacy) (4.66.1)\n",
            "Requirement already satisfied: numpy>=1.15.0 in /usr/local/lib/python3.10/dist-packages (from spacy) (1.23.5)\n",
            "Requirement already satisfied: requests<3.0.0,>=2.13.0 in /usr/local/lib/python3.10/dist-packages (from spacy) (2.31.0)\n",
            "Requirement already satisfied: pydantic!=1.8,!=1.8.1,<3.0.0,>=1.7.4 in /usr/local/lib/python3.10/dist-packages (from spacy) (2.3.0)\n",
            "Requirement already satisfied: jinja2 in /usr/local/lib/python3.10/dist-packages (from spacy) (3.1.2)\n",
            "Requirement already satisfied: setuptools in /usr/local/lib/python3.10/dist-packages (from spacy) (67.7.2)\n",
            "Requirement already satisfied: packaging>=20.0 in /usr/local/lib/python3.10/dist-packages (from spacy) (23.1)\n",
            "Requirement already satisfied: langcodes<4.0.0,>=3.2.0 in /usr/local/lib/python3.10/dist-packages (from spacy) (3.3.0)\n",
            "Requirement already satisfied: annotated-types>=0.4.0 in /usr/local/lib/python3.10/dist-packages (from pydantic!=1.8,!=1.8.1,<3.0.0,>=1.7.4->spacy) (0.5.0)\n",
            "Requirement already satisfied: pydantic-core==2.6.3 in /usr/local/lib/python3.10/dist-packages (from pydantic!=1.8,!=1.8.1,<3.0.0,>=1.7.4->spacy) (2.6.3)\n",
            "Requirement already satisfied: typing-extensions>=4.6.1 in /usr/local/lib/python3.10/dist-packages (from pydantic!=1.8,!=1.8.1,<3.0.0,>=1.7.4->spacy) (4.7.1)\n",
            "Requirement already satisfied: charset-normalizer<4,>=2 in /usr/local/lib/python3.10/dist-packages (from requests<3.0.0,>=2.13.0->spacy) (3.2.0)\n",
            "Requirement already satisfied: idna<4,>=2.5 in /usr/local/lib/python3.10/dist-packages (from requests<3.0.0,>=2.13.0->spacy) (3.4)\n",
            "Requirement already satisfied: urllib3<3,>=1.21.1 in /usr/local/lib/python3.10/dist-packages (from requests<3.0.0,>=2.13.0->spacy) (2.0.4)\n",
            "Requirement already satisfied: certifi>=2017.4.17 in /usr/local/lib/python3.10/dist-packages (from requests<3.0.0,>=2.13.0->spacy) (2023.7.22)\n",
            "Requirement already satisfied: blis<0.8.0,>=0.7.8 in /usr/local/lib/python3.10/dist-packages (from thinc<8.2.0,>=8.1.8->spacy) (0.7.10)\n",
            "Requirement already satisfied: confection<1.0.0,>=0.0.1 in /usr/local/lib/python3.10/dist-packages (from thinc<8.2.0,>=8.1.8->spacy) (0.1.1)\n",
            "Requirement already satisfied: click<9.0.0,>=7.1.1 in /usr/local/lib/python3.10/dist-packages (from typer<0.10.0,>=0.3.0->spacy) (8.1.7)\n",
            "Requirement already satisfied: MarkupSafe>=2.0 in /usr/local/lib/python3.10/dist-packages (from jinja2->spacy) (2.1.3)\n"
          ]
        }
      ],
      "source": [
        "# Installing the most recent version of the lib Spacy\n",
        "!pip install -U spacy"
      ]
    },
    {
      "cell_type": "code",
      "source": [
        "# Downloading 1 of the 3 existing pre-trained models\n",
        "!python -m spacy download 'pt_core_news_lg'"
      ],
      "metadata": {
        "id": "DMjpXlgFAoer",
        "colab": {
          "base_uri": "https://localhost:8080/"
        },
        "outputId": "304732b3-3abb-4811-b3ec-691885af556f"
      },
      "execution_count": 2,
      "outputs": [
        {
          "output_type": "stream",
          "name": "stdout",
          "text": [
            "2023-09-08 01:20:56.944369: I tensorflow/core/platform/cpu_feature_guard.cc:182] This TensorFlow binary is optimized to use available CPU instructions in performance-critical operations.\n",
            "To enable the following instructions: AVX2 FMA, in other operations, rebuild TensorFlow with the appropriate compiler flags.\n",
            "2023-09-08 01:20:58.097489: W tensorflow/compiler/tf2tensorrt/utils/py_utils.cc:38] TF-TRT Warning: Could not find TensorRT\n",
            "Collecting pt-core-news-lg==3.6.0\n",
            "  Downloading https://github.com/explosion/spacy-models/releases/download/pt_core_news_lg-3.6.0/pt_core_news_lg-3.6.0-py3-none-any.whl (568.2 MB)\n",
            "\u001b[2K     \u001b[90m━━━━━━━━━━━━━━━━━━━━━━━━━━━━━━━━━━━━━━━\u001b[0m \u001b[32m568.2/568.2 MB\u001b[0m \u001b[31m2.3 MB/s\u001b[0m eta \u001b[36m0:00:00\u001b[0m\n",
            "\u001b[?25hRequirement already satisfied: spacy<3.7.0,>=3.6.0 in /usr/local/lib/python3.10/dist-packages (from pt-core-news-lg==3.6.0) (3.6.1)\n",
            "Requirement already satisfied: spacy-legacy<3.1.0,>=3.0.11 in /usr/local/lib/python3.10/dist-packages (from spacy<3.7.0,>=3.6.0->pt-core-news-lg==3.6.0) (3.0.12)\n",
            "Requirement already satisfied: spacy-loggers<2.0.0,>=1.0.0 in /usr/local/lib/python3.10/dist-packages (from spacy<3.7.0,>=3.6.0->pt-core-news-lg==3.6.0) (1.0.4)\n",
            "Requirement already satisfied: murmurhash<1.1.0,>=0.28.0 in /usr/local/lib/python3.10/dist-packages (from spacy<3.7.0,>=3.6.0->pt-core-news-lg==3.6.0) (1.0.9)\n",
            "Requirement already satisfied: cymem<2.1.0,>=2.0.2 in /usr/local/lib/python3.10/dist-packages (from spacy<3.7.0,>=3.6.0->pt-core-news-lg==3.6.0) (2.0.7)\n",
            "Requirement already satisfied: preshed<3.1.0,>=3.0.2 in /usr/local/lib/python3.10/dist-packages (from spacy<3.7.0,>=3.6.0->pt-core-news-lg==3.6.0) (3.0.8)\n",
            "Requirement already satisfied: thinc<8.2.0,>=8.1.8 in /usr/local/lib/python3.10/dist-packages (from spacy<3.7.0,>=3.6.0->pt-core-news-lg==3.6.0) (8.1.12)\n",
            "Requirement already satisfied: wasabi<1.2.0,>=0.9.1 in /usr/local/lib/python3.10/dist-packages (from spacy<3.7.0,>=3.6.0->pt-core-news-lg==3.6.0) (1.1.2)\n",
            "Requirement already satisfied: srsly<3.0.0,>=2.4.3 in /usr/local/lib/python3.10/dist-packages (from spacy<3.7.0,>=3.6.0->pt-core-news-lg==3.6.0) (2.4.7)\n",
            "Requirement already satisfied: catalogue<2.1.0,>=2.0.6 in /usr/local/lib/python3.10/dist-packages (from spacy<3.7.0,>=3.6.0->pt-core-news-lg==3.6.0) (2.0.9)\n",
            "Requirement already satisfied: typer<0.10.0,>=0.3.0 in /usr/local/lib/python3.10/dist-packages (from spacy<3.7.0,>=3.6.0->pt-core-news-lg==3.6.0) (0.9.0)\n",
            "Requirement already satisfied: pathy>=0.10.0 in /usr/local/lib/python3.10/dist-packages (from spacy<3.7.0,>=3.6.0->pt-core-news-lg==3.6.0) (0.10.2)\n",
            "Requirement already satisfied: smart-open<7.0.0,>=5.2.1 in /usr/local/lib/python3.10/dist-packages (from spacy<3.7.0,>=3.6.0->pt-core-news-lg==3.6.0) (6.3.0)\n",
            "Requirement already satisfied: tqdm<5.0.0,>=4.38.0 in /usr/local/lib/python3.10/dist-packages (from spacy<3.7.0,>=3.6.0->pt-core-news-lg==3.6.0) (4.66.1)\n",
            "Requirement already satisfied: numpy>=1.15.0 in /usr/local/lib/python3.10/dist-packages (from spacy<3.7.0,>=3.6.0->pt-core-news-lg==3.6.0) (1.23.5)\n",
            "Requirement already satisfied: requests<3.0.0,>=2.13.0 in /usr/local/lib/python3.10/dist-packages (from spacy<3.7.0,>=3.6.0->pt-core-news-lg==3.6.0) (2.31.0)\n",
            "Requirement already satisfied: pydantic!=1.8,!=1.8.1,<3.0.0,>=1.7.4 in /usr/local/lib/python3.10/dist-packages (from spacy<3.7.0,>=3.6.0->pt-core-news-lg==3.6.0) (2.3.0)\n",
            "Requirement already satisfied: jinja2 in /usr/local/lib/python3.10/dist-packages (from spacy<3.7.0,>=3.6.0->pt-core-news-lg==3.6.0) (3.1.2)\n",
            "Requirement already satisfied: setuptools in /usr/local/lib/python3.10/dist-packages (from spacy<3.7.0,>=3.6.0->pt-core-news-lg==3.6.0) (67.7.2)\n",
            "Requirement already satisfied: packaging>=20.0 in /usr/local/lib/python3.10/dist-packages (from spacy<3.7.0,>=3.6.0->pt-core-news-lg==3.6.0) (23.1)\n",
            "Requirement already satisfied: langcodes<4.0.0,>=3.2.0 in /usr/local/lib/python3.10/dist-packages (from spacy<3.7.0,>=3.6.0->pt-core-news-lg==3.6.0) (3.3.0)\n",
            "Requirement already satisfied: annotated-types>=0.4.0 in /usr/local/lib/python3.10/dist-packages (from pydantic!=1.8,!=1.8.1,<3.0.0,>=1.7.4->spacy<3.7.0,>=3.6.0->pt-core-news-lg==3.6.0) (0.5.0)\n",
            "Requirement already satisfied: pydantic-core==2.6.3 in /usr/local/lib/python3.10/dist-packages (from pydantic!=1.8,!=1.8.1,<3.0.0,>=1.7.4->spacy<3.7.0,>=3.6.0->pt-core-news-lg==3.6.0) (2.6.3)\n",
            "Requirement already satisfied: typing-extensions>=4.6.1 in /usr/local/lib/python3.10/dist-packages (from pydantic!=1.8,!=1.8.1,<3.0.0,>=1.7.4->spacy<3.7.0,>=3.6.0->pt-core-news-lg==3.6.0) (4.7.1)\n",
            "Requirement already satisfied: charset-normalizer<4,>=2 in /usr/local/lib/python3.10/dist-packages (from requests<3.0.0,>=2.13.0->spacy<3.7.0,>=3.6.0->pt-core-news-lg==3.6.0) (3.2.0)\n",
            "Requirement already satisfied: idna<4,>=2.5 in /usr/local/lib/python3.10/dist-packages (from requests<3.0.0,>=2.13.0->spacy<3.7.0,>=3.6.0->pt-core-news-lg==3.6.0) (3.4)\n",
            "Requirement already satisfied: urllib3<3,>=1.21.1 in /usr/local/lib/python3.10/dist-packages (from requests<3.0.0,>=2.13.0->spacy<3.7.0,>=3.6.0->pt-core-news-lg==3.6.0) (2.0.4)\n",
            "Requirement already satisfied: certifi>=2017.4.17 in /usr/local/lib/python3.10/dist-packages (from requests<3.0.0,>=2.13.0->spacy<3.7.0,>=3.6.0->pt-core-news-lg==3.6.0) (2023.7.22)\n",
            "Requirement already satisfied: blis<0.8.0,>=0.7.8 in /usr/local/lib/python3.10/dist-packages (from thinc<8.2.0,>=8.1.8->spacy<3.7.0,>=3.6.0->pt-core-news-lg==3.6.0) (0.7.10)\n",
            "Requirement already satisfied: confection<1.0.0,>=0.0.1 in /usr/local/lib/python3.10/dist-packages (from thinc<8.2.0,>=8.1.8->spacy<3.7.0,>=3.6.0->pt-core-news-lg==3.6.0) (0.1.1)\n",
            "Requirement already satisfied: click<9.0.0,>=7.1.1 in /usr/local/lib/python3.10/dist-packages (from typer<0.10.0,>=0.3.0->spacy<3.7.0,>=3.6.0->pt-core-news-lg==3.6.0) (8.1.7)\n",
            "Requirement already satisfied: MarkupSafe>=2.0 in /usr/local/lib/python3.10/dist-packages (from jinja2->spacy<3.7.0,>=3.6.0->pt-core-news-lg==3.6.0) (2.1.3)\n",
            "Installing collected packages: pt-core-news-lg\n",
            "Successfully installed pt-core-news-lg-3.6.0\n",
            "\u001b[38;5;2m✔ Download and installation successful\u001b[0m\n",
            "You can now load the package via spacy.load('pt_core_news_lg')\n"
          ]
        }
      ]
    },
    {
      "cell_type": "code",
      "source": [
        "import spacy"
      ],
      "metadata": {
        "id": "xT2Ack11BzZe"
      },
      "execution_count": 3,
      "outputs": []
    },
    {
      "cell_type": "code",
      "source": [
        "# Loading the model in order to create a nlp object\n",
        "nlp = spacy.load('pt_core_news_lg')"
      ],
      "metadata": {
        "id": "t83azZfjB6eL"
      },
      "execution_count": 4,
      "outputs": []
    },
    {
      "cell_type": "code",
      "source": [
        "print(type(nlp))"
      ],
      "metadata": {
        "colab": {
          "base_uri": "https://localhost:8080/"
        },
        "id": "W869-CkfCIP2",
        "outputId": "2a47aa13-9267-4e15-c368-90bd14d0affb"
      },
      "execution_count": 5,
      "outputs": [
        {
          "output_type": "stream",
          "name": "stdout",
          "text": [
            "<class 'spacy.lang.pt.Portuguese'>\n"
          ]
        }
      ]
    },
    {
      "cell_type": "code",
      "source": [
        "# Showing the model's pipeline: stages that will be executed when a document\n",
        "# is created\n",
        "print(nlp.pipe_names)"
      ],
      "metadata": {
        "colab": {
          "base_uri": "https://localhost:8080/"
        },
        "id": "3TGDcEdxCnnz",
        "outputId": "2027b991-e2dd-4b79-ab0f-33242e716aca"
      },
      "execution_count": 6,
      "outputs": [
        {
          "output_type": "stream",
          "name": "stdout",
          "text": [
            "['tok2vec', 'morphologizer', 'parser', 'lemmatizer', 'attribute_ruler', 'ner']\n"
          ]
        }
      ]
    },
    {
      "cell_type": "markdown",
      "source": [
        "## ***1. Producing tokens***"
      ],
      "metadata": {
        "id": "OFZnsuw7mWWp"
      }
    },
    {
      "cell_type": "code",
      "source": [
        "# Creating a document\n",
        "t = 'As ações na bolsa de valores pertencentes a empresa Coca-Cola despencaram após o episódio ocorrido na entrevista de Cristiano Ronaldo, que atualmente atua no futebol árabe, onde o atleta retirou uma bebida da grande marca de sua frente, passando a seguinte mensagem para os internautas: \"bebam água!\".'\n",
        "doc = nlp(t)"
      ],
      "metadata": {
        "id": "UYioYpUqDKJS"
      },
      "execution_count": 7,
      "outputs": []
    },
    {
      "cell_type": "code",
      "source": [
        "# Quantity of tokens\n",
        "len(doc)"
      ],
      "metadata": {
        "colab": {
          "base_uri": "https://localhost:8080/"
        },
        "id": "zRsl2nVRgKyL",
        "outputId": "3b717720-bea5-4749-cbd9-35399db6ca3c"
      },
      "execution_count": 8,
      "outputs": [
        {
          "output_type": "execute_result",
          "data": {
            "text/plain": [
              "55"
            ]
          },
          "metadata": {},
          "execution_count": 8
        }
      ]
    },
    {
      "cell_type": "code",
      "source": [
        "print(type(doc))"
      ],
      "metadata": {
        "colab": {
          "base_uri": "https://localhost:8080/"
        },
        "id": "oKEEs65gFBKv",
        "outputId": "dac34d4c-054c-48d5-f307-3f66f42a90f2"
      },
      "execution_count": 9,
      "outputs": [
        {
          "output_type": "stream",
          "name": "stdout",
          "text": [
            "<class 'spacy.tokens.doc.Doc'>\n"
          ]
        }
      ]
    },
    {
      "cell_type": "code",
      "source": [
        "# Analyzing the doc's tokens\n",
        "print(f'Tokens: {[token.text for token in doc]}')\n",
        "print(f'Stopword: {[token.is_stop for token in doc]}')\n",
        "print(f'Alphanumeric: {[token.is_alpha for token in doc]}')\n",
        "print(f'Upper: {[token.is_upper for token in doc]}')\n",
        "print(f'Punctuation: {[token.is_punct for token in doc]}')\n",
        "print(f'Number: {[token.like_num for token in doc]}')\n",
        "print(f'Initial sentence: {[token.is_sent_start for token in doc]}')"
      ],
      "metadata": {
        "id": "rgeS1XjuF0tW",
        "colab": {
          "base_uri": "https://localhost:8080/"
        },
        "outputId": "b94e4e37-4411-4c26-ea5e-816c5d7791cc"
      },
      "execution_count": 10,
      "outputs": [
        {
          "output_type": "stream",
          "name": "stdout",
          "text": [
            "Tokens: ['As', 'ações', 'na', 'bolsa', 'de', 'valores', 'pertencentes', 'a', 'empresa', 'Coca-Cola', 'despencaram', 'após', 'o', 'episódio', 'ocorrido', 'na', 'entrevista', 'de', 'Cristiano', 'Ronaldo', ',', 'que', 'atualmente', 'atua', 'no', 'futebol', 'árabe', ',', 'onde', 'o', 'atleta', 'retirou', 'uma', 'bebida', 'da', 'grande', 'marca', 'de', 'sua', 'frente', ',', 'passando', 'a', 'seguinte', 'mensagem', 'para', 'os', 'internautas', ':', '\"', 'bebam', 'água', '!', '\"', '.']\n",
            "Stopword: [True, False, True, False, True, False, False, True, False, False, False, True, True, False, False, True, False, True, False, False, False, True, False, False, True, False, False, False, True, True, False, False, True, False, True, True, False, True, True, False, False, False, True, False, False, True, True, False, False, False, False, False, False, False, False]\n",
            "Alphanumeric: [True, True, True, True, True, True, True, True, True, False, True, True, True, True, True, True, True, True, True, True, False, True, True, True, True, True, True, False, True, True, True, True, True, True, True, True, True, True, True, True, False, True, True, True, True, True, True, True, False, False, True, True, False, False, False]\n",
            "Upper: [False, False, False, False, False, False, False, False, False, False, False, False, False, False, False, False, False, False, False, False, False, False, False, False, False, False, False, False, False, False, False, False, False, False, False, False, False, False, False, False, False, False, False, False, False, False, False, False, False, False, False, False, False, False, False]\n",
            "Punctuation: [False, False, False, False, False, False, False, False, False, False, False, False, False, False, False, False, False, False, False, False, True, False, False, False, False, False, False, True, False, False, False, False, False, False, False, False, False, False, False, False, True, False, False, False, False, False, False, False, True, True, False, False, True, True, True]\n",
            "Number: [False, False, False, False, False, False, False, False, False, False, False, False, False, False, False, False, False, False, False, False, False, False, False, False, False, False, False, False, False, False, False, False, False, False, False, False, False, False, False, False, False, False, False, False, False, False, False, False, False, False, False, False, False, False, False]\n",
            "Initial sentence: [True, False, False, False, False, False, False, False, False, False, False, False, False, False, False, False, False, False, False, False, False, False, False, False, False, False, False, False, False, False, False, False, False, False, False, False, False, False, False, False, False, False, False, False, False, False, False, False, False, False, False, False, False, False, False]\n"
          ]
        }
      ]
    },
    {
      "cell_type": "code",
      "source": [
        "print(f'Tokens: {[token.text for token in doc]}')\n",
        "print(f'Shape: {[token.shape_ for token in doc]}')"
      ],
      "metadata": {
        "colab": {
          "base_uri": "https://localhost:8080/"
        },
        "id": "ncbPZFq9jMkf",
        "outputId": "f84813bf-f412-40db-c895-a4f47b1b85d1"
      },
      "execution_count": 11,
      "outputs": [
        {
          "output_type": "stream",
          "name": "stdout",
          "text": [
            "Tokens: ['As', 'ações', 'na', 'bolsa', 'de', 'valores', 'pertencentes', 'a', 'empresa', 'Coca-Cola', 'despencaram', 'após', 'o', 'episódio', 'ocorrido', 'na', 'entrevista', 'de', 'Cristiano', 'Ronaldo', ',', 'que', 'atualmente', 'atua', 'no', 'futebol', 'árabe', ',', 'onde', 'o', 'atleta', 'retirou', 'uma', 'bebida', 'da', 'grande', 'marca', 'de', 'sua', 'frente', ',', 'passando', 'a', 'seguinte', 'mensagem', 'para', 'os', 'internautas', ':', '\"', 'bebam', 'água', '!', '\"', '.']\n",
            "Shape: ['Xx', 'xxxx', 'xx', 'xxxx', 'xx', 'xxxx', 'xxxx', 'x', 'xxxx', 'Xxxx-Xxxx', 'xxxx', 'xxxx', 'x', 'xxxx', 'xxxx', 'xx', 'xxxx', 'xx', 'Xxxxx', 'Xxxxx', ',', 'xxx', 'xxxx', 'xxxx', 'xx', 'xxxx', 'xxxx', ',', 'xxxx', 'x', 'xxxx', 'xxxx', 'xxx', 'xxxx', 'xx', 'xxxx', 'xxxx', 'xx', 'xxx', 'xxxx', ',', 'xxxx', 'x', 'xxxx', 'xxxx', 'xxxx', 'xx', 'xxxx', ':', '\"', 'xxxx', 'xxxx', '!', '\"', '.']\n"
          ]
        }
      ]
    },
    {
      "cell_type": "markdown",
      "source": [
        "## ***2. Pos-tagging and Dependencies***"
      ],
      "metadata": {
        "id": "3QsMeyB0mdkF"
      }
    },
    {
      "cell_type": "code",
      "source": [
        "for token in doc:\n",
        "    print(f'{token.text} - {token.pos_} - {token.dep_} - {token.lemma_} - {token.shape_}')"
      ],
      "metadata": {
        "colab": {
          "base_uri": "https://localhost:8080/"
        },
        "id": "o-8L_ikblkJ7",
        "outputId": "7d06f7a1-ae59-43da-d3ad-6c588d19e8a3"
      },
      "execution_count": 12,
      "outputs": [
        {
          "output_type": "stream",
          "name": "stdout",
          "text": [
            "As - DET - det - o - Xx\n",
            "ações - NOUN - nsubj - ação - xxxx\n",
            "na - ADP - case - em o - xx\n",
            "bolsa - PROPN - nmod - Bolsa - xxxx\n",
            "de - ADP - case - de - xx\n",
            "valores - NOUN - nmod - valor - xxxx\n",
            "pertencentes - ADJ - amod - pertencente - xxxx\n",
            "a - DET - det - o - x\n",
            "empresa - NOUN - obj - empresa - xxxx\n",
            "Coca-Cola - PROPN - appos - Coca-Cola - Xxxx-Xxxx\n",
            "despencaram - VERB - ROOT - despencar - xxxx\n",
            "após - ADP - case - após - xxxx\n",
            "o - DET - det - o - x\n",
            "episódio - NOUN - obl - episódio - xxxx\n",
            "ocorrido - VERB - acl - ocorrer - xxxx\n",
            "na - ADP - case - em o - xx\n",
            "entrevista - NOUN - obl - entrevista - xxxx\n",
            "de - ADP - case - de - xx\n",
            "Cristiano - PROPN - nmod - Cristiano - Xxxxx\n",
            "Ronaldo - PROPN - flat:name - Ronaldo - Xxxxx\n",
            ", - PUNCT - punct - , - ,\n",
            "que - PRON - nsubj - que - xxx\n",
            "atualmente - ADV - advmod - atualmente - xxxx\n",
            "atua - VERB - acl:relcl - atuar - xxxx\n",
            "no - ADP - case - em o - xx\n",
            "futebol - NOUN - obl - futebol - xxxx\n",
            "árabe - ADJ - amod - árabe - xxxx\n",
            ", - PUNCT - punct - , - ,\n",
            "onde - PRON - obl - onde - xxxx\n",
            "o - DET - det - o - x\n",
            "atleta - NOUN - nsubj - atleta - xxxx\n",
            "retirou - VERB - acl:relcl - retirar - xxxx\n",
            "uma - DET - det - um - xxx\n",
            "bebida - NOUN - obj - bebida - xxxx\n",
            "da - ADP - case - de o - xx\n",
            "grande - ADJ - amod - grande - xxxx\n",
            "marca - NOUN - nmod - marca - xxxx\n",
            "de - ADP - case - de - xx\n",
            "sua - DET - det - seu - xxx\n",
            "frente - NOUN - nmod - frente - xxxx\n",
            ", - PUNCT - punct - , - ,\n",
            "passando - VERB - advcl - passar - xxxx\n",
            "a - DET - det - o - x\n",
            "seguinte - ADJ - amod - seguinte - xxxx\n",
            "mensagem - NOUN - obj - mensagem - xxxx\n",
            "para - ADP - case - para - xxxx\n",
            "os - DET - det - o - xx\n",
            "internautas - NOUN - nmod - internauta - xxxx\n",
            ": - PUNCT - punct - : - :\n",
            "\" - PUNCT - punct - \" - \"\n",
            "bebam - VERB - advcl - bebam - xxxx\n",
            "água - NOUN - obj - água - xxxx\n",
            "! - PUNCT - punct - ! - !\n",
            "\" - PUNCT - punct - \" - \"\n",
            ". - PUNCT - punct - . - .\n"
          ]
        }
      ]
    },
    {
      "cell_type": "code",
      "source": [
        "# Morphologies\n",
        "for token in doc:\n",
        "    print(f'{token.text} - {token.morph}')"
      ],
      "metadata": {
        "colab": {
          "base_uri": "https://localhost:8080/"
        },
        "id": "-DJKYW1vnVO7",
        "outputId": "28e3d7b0-65e2-40b4-ecd0-2b59c7e244a9"
      },
      "execution_count": 13,
      "outputs": [
        {
          "output_type": "stream",
          "name": "stdout",
          "text": [
            "As - Definite=Def|Gender=Fem|Number=Plur|PronType=Art\n",
            "ações - Gender=Fem|Number=Plur\n",
            "na - Definite=Def|Gender=Fem|Number=Sing|PronType=Art\n",
            "bolsa - Gender=Fem|Number=Sing\n",
            "de - \n",
            "valores - Gender=Masc|Number=Plur\n",
            "pertencentes - Gender=Masc|Number=Plur\n",
            "a - Definite=Def|Gender=Fem|Number=Sing|PronType=Art\n",
            "empresa - Gender=Fem|Number=Sing\n",
            "Coca-Cola - Gender=Fem|Number=Sing\n",
            "despencaram - Mood=Ind|Number=Plur|Person=3|VerbForm=Fin\n",
            "após - \n",
            "o - Definite=Def|Gender=Masc|Number=Sing|PronType=Art\n",
            "episódio - Gender=Masc|Number=Sing\n",
            "ocorrido - Gender=Masc|Number=Sing|VerbForm=Part\n",
            "na - Definite=Def|Gender=Fem|Number=Sing|PronType=Art\n",
            "entrevista - Gender=Fem|Number=Sing\n",
            "de - \n",
            "Cristiano - Gender=Masc|Number=Sing\n",
            "Ronaldo - Number=Sing\n",
            ", - \n",
            "que - Gender=Masc|Number=Sing|PronType=Rel\n",
            "atualmente - \n",
            "atua - Mood=Ind|Number=Sing|Person=3|Tense=Pres|VerbForm=Fin\n",
            "no - Definite=Def|Gender=Masc|Number=Sing|PronType=Art\n",
            "futebol - Gender=Masc|Number=Sing\n",
            "árabe - Gender=Masc|Number=Sing\n",
            ", - \n",
            "onde - Gender=Masc|Number=Sing|PronType=Rel\n",
            "o - Definite=Def|Gender=Masc|Number=Sing|PronType=Art\n",
            "atleta - Gender=Masc|Number=Sing\n",
            "retirou - Mood=Ind|Number=Sing|Person=3|Tense=Past|VerbForm=Fin\n",
            "uma - Definite=Ind|Gender=Fem|Number=Sing|PronType=Art\n",
            "bebida - Gender=Fem|Number=Sing\n",
            "da - Definite=Def|Gender=Fem|Number=Sing|PronType=Art\n",
            "grande - Gender=Fem|Number=Sing\n",
            "marca - Gender=Fem|Number=Sing\n",
            "de - \n",
            "sua - Gender=Fem|Number=Sing|PronType=Prs\n",
            "frente - Gender=Fem|Number=Sing\n",
            ", - \n",
            "passando - VerbForm=Ger\n",
            "a - Definite=Def|Gender=Fem|Number=Sing|PronType=Art\n",
            "seguinte - Gender=Fem|Number=Sing\n",
            "mensagem - Gender=Fem|Number=Sing\n",
            "para - \n",
            "os - Definite=Def|Gender=Masc|Number=Plur|PronType=Art\n",
            "internautas - Gender=Masc|Number=Plur\n",
            ": - \n",
            "\" - \n",
            "bebam - Mood=Sub|Number=Sing|Person=3|Tense=Pres|VerbForm=Fin\n",
            "água - Gender=Fem|Number=Sing\n",
            "! - \n",
            "\" - \n",
            ". - \n"
          ]
        }
      ]
    },
    {
      "cell_type": "code",
      "source": [
        "# Tags\n",
        "for token in doc:\n",
        "    print(f'{token.text} - {token.tag_}')"
      ],
      "metadata": {
        "colab": {
          "base_uri": "https://localhost:8080/"
        },
        "id": "4H5Zvt_Zoaq3",
        "outputId": "ce0f6621-7116-4a60-91a0-5294e3dd7797"
      },
      "execution_count": 14,
      "outputs": [
        {
          "output_type": "stream",
          "name": "stdout",
          "text": [
            "As - DET\n",
            "ações - NOUN\n",
            "na - ADP\n",
            "bolsa - PROPN\n",
            "de - ADP\n",
            "valores - NOUN\n",
            "pertencentes - ADJ\n",
            "a - DET\n",
            "empresa - NOUN\n",
            "Coca-Cola - PROPN\n",
            "despencaram - VERB\n",
            "após - ADP\n",
            "o - DET\n",
            "episódio - NOUN\n",
            "ocorrido - VERB\n",
            "na - ADP\n",
            "entrevista - NOUN\n",
            "de - ADP\n",
            "Cristiano - PROPN\n",
            "Ronaldo - PROPN\n",
            ", - PUNCT\n",
            "que - PRON\n",
            "atualmente - ADV\n",
            "atua - VERB\n",
            "no - ADP\n",
            "futebol - NOUN\n",
            "árabe - ADJ\n",
            ", - PUNCT\n",
            "onde - PRON\n",
            "o - DET\n",
            "atleta - NOUN\n",
            "retirou - VERB\n",
            "uma - DET\n",
            "bebida - NOUN\n",
            "da - ADP\n",
            "grande - ADJ\n",
            "marca - NOUN\n",
            "de - ADP\n",
            "sua - DET\n",
            "frente - NOUN\n",
            ", - PUNCT\n",
            "passando - VERB\n",
            "a - DET\n",
            "seguinte - ADJ\n",
            "mensagem - NOUN\n",
            "para - ADP\n",
            "os - DET\n",
            "internautas - NOUN\n",
            ": - PUNCT\n",
            "\" - PUNCT\n",
            "bebam - VERB\n",
            "água - NOUN\n",
            "! - PUNCT\n",
            "\" - PUNCT\n",
            ". - PUNCT\n"
          ]
        }
      ]
    },
    {
      "cell_type": "markdown",
      "source": [
        "## ***3. Named Entities Recognition (NER)***"
      ],
      "metadata": {
        "id": "RFXdH5SirQ3G"
      }
    },
    {
      "cell_type": "code",
      "source": [
        "for ent in doc.ents:\n",
        "    print(f'{ent.text} - {ent.label_}')"
      ],
      "metadata": {
        "colab": {
          "base_uri": "https://localhost:8080/"
        },
        "id": "gTyIbaLPrbsF",
        "outputId": "ed6be899-611e-4b76-dd76-75cc1138a163"
      },
      "execution_count": 15,
      "outputs": [
        {
          "output_type": "stream",
          "name": "stdout",
          "text": [
            "Coca-Cola - ORG\n",
            "Cristiano Ronaldo - PER\n"
          ]
        }
      ]
    },
    {
      "cell_type": "markdown",
      "source": [
        "## ***4. Managing Stopwords***"
      ],
      "metadata": {
        "id": "tO6EaAj8uCdI"
      }
    },
    {
      "cell_type": "code",
      "source": [
        "for token in doc:\n",
        "    if token.is_stop:\n",
        "        print(token.text)"
      ],
      "metadata": {
        "colab": {
          "base_uri": "https://localhost:8080/"
        },
        "id": "ee-oMJQLuK4-",
        "outputId": "9e6c8b2a-b4b0-4596-e4ec-a6ac191e056f"
      },
      "execution_count": 16,
      "outputs": [
        {
          "output_type": "stream",
          "name": "stdout",
          "text": [
            "As\n",
            "na\n",
            "de\n",
            "a\n",
            "após\n",
            "o\n",
            "na\n",
            "de\n",
            "que\n",
            "no\n",
            "onde\n",
            "o\n",
            "uma\n",
            "da\n",
            "grande\n",
            "de\n",
            "sua\n",
            "a\n",
            "para\n",
            "os\n"
          ]
        }
      ]
    },
    {
      "cell_type": "code",
      "source": [
        "# Consulting the model's default stopwords\n",
        "for word in nlp.Defaults.stop_words:\n",
        "    print(word)"
      ],
      "metadata": {
        "colab": {
          "base_uri": "https://localhost:8080/"
        },
        "id": "qSCnsy0auatF",
        "outputId": "02d20b82-1d34-4b2d-b50e-38b899219c94"
      },
      "execution_count": 17,
      "outputs": [
        {
          "output_type": "stream",
          "name": "stdout",
          "text": [
            "põe\n",
            "novas\n",
            "caminho\n",
            "momento\n",
            "tal\n",
            "dizer\n",
            "estivestes\n",
            "certamente\n",
            "vossas\n",
            "somente\n",
            "nove\n",
            "quer\n",
            "apontar\n",
            "primeira\n",
            "novo\n",
            "três\n",
            "pelas\n",
            "sois\n",
            "quatro\n",
            "ao\n",
            "ademais\n",
            "fazia\n",
            "disso\n",
            "esta\n",
            "estás\n",
            "és\n",
            "minha\n",
            "alguns\n",
            "o\n",
            "ontem\n",
            "tentar\n",
            "desta\n",
            "ou\n",
            "os\n",
            "cima\n",
            "vem\n",
            "oitavo\n",
            "tuas\n",
            "inclusive\n",
            "cujo\n",
            "entre\n",
            "aí\n",
            "poder\n",
            "em\n",
            "sem\n",
            "das\n",
            "dos\n",
            "catorze\n",
            "deve\n",
            "eventual\n",
            "vindo\n",
            "nunca\n",
            "teus\n",
            "daquele\n",
            "dois\n",
            "seu\n",
            "fomos\n",
            "vêm\n",
            "oito\n",
            "quinze\n",
            "partir\n",
            "questão\n",
            "essas\n",
            "estará\n",
            "uma\n",
            "fez\n",
            "para\n",
            "nuns\n",
            "pode\n",
            "vocês\n",
            "apenas\n",
            "contudo\n",
            "a\n",
            "umas\n",
            "dizem\n",
            "boa\n",
            "talvez\n",
            "bem\n",
            "estes\n",
            "fazer\n",
            "fazes\n",
            "posição\n",
            "duas\n",
            "ora\n",
            "sete\n",
            "vários\n",
            "treze\n",
            "isso\n",
            "com\n",
            "nesse\n",
            "estiveste\n",
            "usa\n",
            "estava\n",
            "aquela\n",
            "num\n",
            "nem\n",
            "novos\n",
            "por\n",
            "vez\n",
            "numa\n",
            "maior\n",
            "são\n",
            "pelo\n",
            "irá\n",
            "tens\n",
            "ver\n",
            "acerca\n",
            "tentaram\n",
            "cedo\n",
            "fostes\n",
            "ir\n",
            "tudo\n",
            "estão\n",
            "número\n",
            "apoio\n",
            "puderam\n",
            "cada\n",
            "longe\n",
            "ponto\n",
            "tivemos\n",
            "nossa\n",
            "nível\n",
            "ele\n",
            "me\n",
            "direita\n",
            "sobre\n",
            "mais\n",
            "nada\n",
            "isto\n",
            "tanto\n",
            "tivestes\n",
            "neste\n",
            "nas\n",
            "saber\n",
            "atrás\n",
            "porém\n",
            "cinco\n",
            "meu\n",
            "teve\n",
            "foi\n",
            "dessa\n",
            "vós\n",
            "lado\n",
            "custa\n",
            "querem\n",
            "faço\n",
            "exemplo\n",
            "um\n",
            "relação\n",
            "nessa\n",
            "área\n",
            "parece\n",
            "deste\n",
            "vinte\n",
            "somos\n",
            "através\n",
            "vão\n",
            "foram\n",
            "sétima\n",
            "tem\n",
            "tão\n",
            "des\n",
            "aquilo\n",
            "logo\n",
            "todo\n",
            "lá\n",
            "quarta\n",
            "todas\n",
            "fará\n",
            "próximo\n",
            "quieta\n",
            "no\n",
            "números\n",
            "ela\n",
            "às\n",
            "fazeis\n",
            "te\n",
            "também\n",
            "diante\n",
            "eles\n",
            "muito\n",
            "dezasseis\n",
            "vossa\n",
            "este\n",
            "agora\n",
            "sexto\n",
            "obrigado\n",
            "elas\n",
            "estiveram\n",
            "apoia\n",
            "tendes\n",
            "geral\n",
            "pois\n",
            "vens\n",
            "ambos\n",
            "estas\n",
            "menor\n",
            "obrigada\n",
            "onde\n",
            "tenho\n",
            "podia\n",
            "pouca\n",
            "quem\n",
            "tanta\n",
            "enquanto\n",
            "eu\n",
            "porque\n",
            "meses\n",
            "sistema\n",
            "mês\n",
            "naquele\n",
            "meus\n",
            "mil\n",
            "sua\n",
            "dentro\n",
            "quieto\n",
            "usar\n",
            "toda\n",
            "antes\n",
            "poderá\n",
            "conhecido\n",
            "conselho\n",
            "lhe\n",
            "nós\n",
            "oitava\n",
            "debaixo\n",
            "posso\n",
            "bom\n",
            "adeus\n",
            "essa\n",
            "dez\n",
            "porquanto\n",
            "estado\n",
            "último\n",
            "como\n",
            "está\n",
            "grandes\n",
            "desde\n",
            "na\n",
            "onze\n",
            "vinda\n",
            "quais\n",
            "seis\n",
            "diz\n",
            "contra\n",
            "possivelmente\n",
            "quanto\n",
            "aquelas\n",
            "de\n",
            "assim\n",
            "veja\n",
            "corrente\n",
            "aquele\n",
            "quero\n",
            "teu\n",
            "porquê\n",
            "pontos\n",
            "estivemos\n",
            "ali\n",
            "depois\n",
            "muitos\n",
            "fim\n",
            "nesta\n",
            "quarto\n",
            "qual\n",
            "podem\n",
            "ambas\n",
            "dar\n",
            "é\n",
            "cento\n",
            "maioria\n",
            "tiveste\n",
            "seria\n",
            "embora\n",
            "falta\n",
            "sou\n",
            "foste\n",
            "era\n",
            "demais\n",
            "vosso\n",
            "algumas\n",
            "sempre\n",
            "portanto\n",
            "baixo\n",
            "parte\n",
            "se\n",
            "próxima\n",
            "máximo\n",
            "coisa\n",
            "bastante\n",
            "estou\n",
            "dezanove\n",
            "suas\n",
            "tais\n",
            "fora\n",
            "perto\n",
            "faz\n",
            "vezes\n",
            "povo\n",
            "pela\n",
            "sim\n",
            "nossas\n",
            "já\n",
            "for\n",
            "certeza\n",
            "tipo\n",
            "só\n",
            "estar\n",
            "ainda\n",
            "inicio\n",
            "põem\n",
            "então\n",
            "favor\n",
            "terceira\n",
            "e\n",
            "quê\n",
            "outra\n",
            "vossos\n",
            "aqui\n",
            "aos\n",
            "você\n",
            "mal\n",
            "esse\n",
            "outros\n",
            "sétimo\n",
            "minhas\n",
            "local\n",
            "dá\n",
            "nova\n",
            "esses\n",
            "até\n",
            "cuja\n",
            "esteve\n",
            "mas\n",
            "seus\n",
            "qualquer\n",
            "deverá\n",
            "forma\n",
            "pegar\n",
            "naquela\n",
            "tarde\n",
            "breve\n",
            "menos\n",
            "segundo\n",
            "outras\n",
            "zero\n",
            "fazem\n",
            "tua\n",
            "sei\n",
            "uns\n",
            "ter\n",
            "da\n",
            "meio\n",
            "nosso\n",
            "sexta\n",
            "as\n",
            "mesmo\n",
            "sob\n",
            "quinto\n",
            "primeiro\n",
            "sabe\n",
            "nos\n",
            "estive\n",
            "dezoito\n",
            "pôde\n",
            "quinta\n",
            "tentei\n",
            "não\n",
            "terceiro\n",
            "dezassete\n",
            "fazemos\n",
            "temos\n",
            "grupo\n",
            "dão\n",
            "que\n",
            "todos\n",
            "iniciar\n",
            "tempo\n",
            "comprida\n",
            "nenhuma\n",
            "daquela\n",
            "vai\n",
            "tu\n",
            "próprio\n",
            "valor\n",
            "comprido\n",
            "do\n",
            "tive\n",
            "à\n",
            "algo\n",
            "final\n",
            "têm\n",
            "grande\n",
            "fui\n",
            "ser\n",
            "além\n",
            "doze\n",
            "devem\n",
            "tiveram\n",
            "conhecida\n",
            "maiorias\n",
            "pelos\n",
            "ligado\n",
            "quando\n",
            "pouco\n",
            "vos\n",
            "nossos\n",
            "possível\n",
            "após\n",
            "lugar\n",
            "tente\n",
            "vais\n",
            "aqueles\n",
            "segunda\n",
            "cá\n",
            "desse\n"
          ]
        }
      ]
    },
    {
      "cell_type": "code",
      "source": [
        "# Adding a new stopword\n",
        "nlp.Defaults.stop_words.add(\"eita\")"
      ],
      "metadata": {
        "id": "BOJ2kINJu1Mb"
      },
      "execution_count": 18,
      "outputs": []
    },
    {
      "cell_type": "code",
      "source": [
        "nlp.vocab['eita'].is_stop"
      ],
      "metadata": {
        "colab": {
          "base_uri": "https://localhost:8080/"
        },
        "id": "SuVD7ZSGvH_5",
        "outputId": "a36b603b-7063-4e8c-ed37-b32a87203077"
      },
      "execution_count": 19,
      "outputs": [
        {
          "output_type": "execute_result",
          "data": {
            "text/plain": [
              "True"
            ]
          },
          "metadata": {},
          "execution_count": 19
        }
      ]
    },
    {
      "cell_type": "code",
      "source": [
        "# Removing stopwords\n",
        "tokens = [token.text for token in doc]\n",
        "print('Tokens: ', tokens)\n",
        "\n",
        "stopwords = list(nlp.Defaults.stop_words)\n",
        "print('Stopwords: ', stopwords)\n",
        "\n",
        "last_tokens = [w for w in tokens if not w in stopwords]\n",
        "print('Tokens after stopwords removal: ', last_tokens)"
      ],
      "metadata": {
        "colab": {
          "base_uri": "https://localhost:8080/"
        },
        "id": "tCzSDckpvsG0",
        "outputId": "02f9af12-6a02-4abf-9d01-cc8e6d59db2a"
      },
      "execution_count": 20,
      "outputs": [
        {
          "output_type": "stream",
          "name": "stdout",
          "text": [
            "Tokens:  ['As', 'ações', 'na', 'bolsa', 'de', 'valores', 'pertencentes', 'a', 'empresa', 'Coca-Cola', 'despencaram', 'após', 'o', 'episódio', 'ocorrido', 'na', 'entrevista', 'de', 'Cristiano', 'Ronaldo', ',', 'que', 'atualmente', 'atua', 'no', 'futebol', 'árabe', ',', 'onde', 'o', 'atleta', 'retirou', 'uma', 'bebida', 'da', 'grande', 'marca', 'de', 'sua', 'frente', ',', 'passando', 'a', 'seguinte', 'mensagem', 'para', 'os', 'internautas', ':', '\"', 'bebam', 'água', '!', '\"', '.']\n",
            "Stopwords:  ['põe', 'novas', 'caminho', 'momento', 'tal', 'dizer', 'estivestes', 'certamente', 'vossas', 'somente', 'nove', 'quer', 'apontar', 'primeira', 'novo', 'três', 'pelas', 'sois', 'quatro', 'eita', 'ao', 'ademais', 'fazia', 'disso', 'esta', 'estás', 'és', 'minha', 'alguns', 'o', 'ontem', 'tentar', 'desta', 'ou', 'os', 'cima', 'vem', 'oitavo', 'tuas', 'inclusive', 'cujo', 'entre', 'aí', 'poder', 'em', 'sem', 'das', 'dos', 'catorze', 'deve', 'eventual', 'vindo', 'nunca', 'teus', 'daquele', 'dois', 'seu', 'fomos', 'vêm', 'oito', 'quinze', 'partir', 'questão', 'essas', 'estará', 'uma', 'fez', 'para', 'nuns', 'pode', 'vocês', 'apenas', 'contudo', 'a', 'umas', 'dizem', 'boa', 'talvez', 'bem', 'estes', 'fazer', 'fazes', 'posição', 'duas', 'ora', 'sete', 'vários', 'treze', 'isso', 'com', 'nesse', 'estiveste', 'usa', 'estava', 'aquela', 'num', 'nem', 'novos', 'por', 'vez', 'numa', 'maior', 'são', 'pelo', 'irá', 'tens', 'ver', 'acerca', 'tentaram', 'cedo', 'fostes', 'ir', 'tudo', 'estão', 'número', 'apoio', 'puderam', 'cada', 'longe', 'ponto', 'tivemos', 'nossa', 'nível', 'ele', 'me', 'direita', 'sobre', 'mais', 'nada', 'isto', 'tanto', 'tivestes', 'neste', 'nas', 'saber', 'atrás', 'porém', 'cinco', 'meu', 'teve', 'foi', 'dessa', 'vós', 'lado', 'custa', 'querem', 'faço', 'exemplo', 'um', 'relação', 'nessa', 'área', 'parece', 'deste', 'vinte', 'somos', 'através', 'vão', 'foram', 'sétima', 'tem', 'tão', 'des', 'aquilo', 'logo', 'todo', 'lá', 'quarta', 'todas', 'fará', 'próximo', 'quieta', 'no', 'números', 'ela', 'às', 'fazeis', 'te', 'também', 'diante', 'eles', 'muito', 'dezasseis', 'vossa', 'este', 'agora', 'sexto', 'obrigado', 'elas', 'estiveram', 'apoia', 'tendes', 'geral', 'pois', 'vens', 'ambos', 'estas', 'menor', 'obrigada', 'onde', 'tenho', 'podia', 'pouca', 'quem', 'tanta', 'enquanto', 'eu', 'porque', 'meses', 'sistema', 'mês', 'naquele', 'meus', 'mil', 'sua', 'dentro', 'quieto', 'usar', 'toda', 'antes', 'poderá', 'conhecido', 'conselho', 'lhe', 'nós', 'oitava', 'debaixo', 'posso', 'bom', 'adeus', 'essa', 'dez', 'porquanto', 'estado', 'último', 'como', 'está', 'grandes', 'desde', 'na', 'onze', 'vinda', 'quais', 'seis', 'diz', 'contra', 'possivelmente', 'quanto', 'aquelas', 'de', 'assim', 'veja', 'corrente', 'aquele', 'quero', 'teu', 'porquê', 'pontos', 'estivemos', 'ali', 'depois', 'muitos', 'fim', 'nesta', 'quarto', 'qual', 'podem', 'ambas', 'dar', 'é', 'cento', 'maioria', 'tiveste', 'seria', 'embora', 'falta', 'sou', 'foste', 'era', 'demais', 'vosso', 'algumas', 'sempre', 'portanto', 'baixo', 'parte', 'se', 'próxima', 'máximo', 'coisa', 'bastante', 'estou', 'dezanove', 'suas', 'tais', 'fora', 'perto', 'faz', 'vezes', 'povo', 'pela', 'sim', 'nossas', 'já', 'for', 'certeza', 'tipo', 'só', 'estar', 'ainda', 'inicio', 'põem', 'então', 'favor', 'terceira', 'e', 'quê', 'outra', 'vossos', 'aqui', 'aos', 'você', 'mal', 'esse', 'outros', 'sétimo', 'minhas', 'local', 'dá', 'nova', 'esses', 'até', 'cuja', 'esteve', 'mas', 'seus', 'qualquer', 'deverá', 'forma', 'pegar', 'naquela', 'tarde', 'breve', 'menos', 'segundo', 'outras', 'zero', 'fazem', 'tua', 'sei', 'uns', 'ter', 'da', 'meio', 'nosso', 'sexta', 'as', 'mesmo', 'sob', 'quinto', 'primeiro', 'sabe', 'nos', 'estive', 'dezoito', 'pôde', 'quinta', 'tentei', 'não', 'terceiro', 'dezassete', 'fazemos', 'temos', 'grupo', 'dão', 'que', 'todos', 'iniciar', 'tempo', 'comprida', 'nenhuma', 'daquela', 'vai', 'tu', 'próprio', 'valor', 'comprido', 'do', 'tive', 'à', 'algo', 'final', 'têm', 'grande', 'fui', 'ser', 'além', 'doze', 'devem', 'tiveram', 'conhecida', 'maiorias', 'pelos', 'ligado', 'quando', 'pouco', 'vos', 'nossos', 'possível', 'após', 'lugar', 'tente', 'vais', 'aqueles', 'segunda', 'cá', 'desse']\n",
            "Tokens after stopwords removal:  ['As', 'ações', 'bolsa', 'valores', 'pertencentes', 'empresa', 'Coca-Cola', 'despencaram', 'episódio', 'ocorrido', 'entrevista', 'Cristiano', 'Ronaldo', ',', 'atualmente', 'atua', 'futebol', 'árabe', ',', 'atleta', 'retirou', 'bebida', 'marca', 'frente', ',', 'passando', 'seguinte', 'mensagem', 'internautas', ':', '\"', 'bebam', 'água', '!', '\"', '.']\n"
          ]
        }
      ]
    },
    {
      "cell_type": "markdown",
      "source": [
        "## ***5. Vocabulary***"
      ],
      "metadata": {
        "id": "P1GZZiF-zeat"
      }
    },
    {
      "cell_type": "code",
      "source": [
        "len(doc.vocab)"
      ],
      "metadata": {
        "colab": {
          "base_uri": "https://localhost:8080/"
        },
        "id": "W4QSekw8E-va",
        "outputId": "2d3fd9a8-a812-4a25-ff7b-8e580a33a252"
      },
      "execution_count": 21,
      "outputs": [
        {
          "output_type": "execute_result",
          "data": {
            "text/plain": [
              "393"
            ]
          },
          "metadata": {},
          "execution_count": 21
        }
      ]
    },
    {
      "cell_type": "code",
      "source": [
        "# Each token of the document has an unique hash code archived in the vocabulary\n",
        "print('Hash: ', nlp.vocab.strings['ações'])\n",
        "print('String: ', nlp.vocab.strings[15070471850793687229])"
      ],
      "metadata": {
        "colab": {
          "base_uri": "https://localhost:8080/"
        },
        "id": "KyRQQ9H5zm8e",
        "outputId": "8ad02217-78ee-43ba-963e-287b5158ba81"
      },
      "execution_count": 22,
      "outputs": [
        {
          "output_type": "stream",
          "name": "stdout",
          "text": [
            "Hash:  15070471850793687229\n",
            "String:  ações\n"
          ]
        }
      ]
    },
    {
      "cell_type": "code",
      "source": [
        "lex = nlp.vocab[\"ações\"]\n",
        "print(f'{lex.text} - {lex.orth} - {lex.is_alpha} - {lex.is_lower}')"
      ],
      "metadata": {
        "colab": {
          "base_uri": "https://localhost:8080/"
        },
        "id": "xNdDkzwV0r7Z",
        "outputId": "1af60948-bc55-45ab-a36c-7c1bcd5801bb"
      },
      "execution_count": 23,
      "outputs": [
        {
          "output_type": "stream",
          "name": "stdout",
          "text": [
            "ações - 15070471850793687229 - True - True\n"
          ]
        }
      ]
    },
    {
      "cell_type": "code",
      "source": [
        "# Verifying in what depth the word \"ações\" is related to the others words\n",
        "print(nlp('dados').vector.shape)\n",
        "print(nlp('dados').vector)"
      ],
      "metadata": {
        "colab": {
          "base_uri": "https://localhost:8080/"
        },
        "id": "JNCHjkhG2BUJ",
        "outputId": "fa3d65d8-ae33-4903-e508-1d2433c43125"
      },
      "execution_count": 24,
      "outputs": [
        {
          "output_type": "stream",
          "name": "stdout",
          "text": [
            "(300,)\n",
            "[-1.8078e+00 -2.8421e+00 -5.5345e-01 -4.0565e+00 -2.3565e+00  4.7295e+00\n",
            " -3.3508e+00 -1.2036e+00 -5.3749e+00 -7.5768e-01 -2.0015e+00  5.3618e+00\n",
            "  2.2789e-01  1.2136e+00 -1.4418e+00 -3.0621e+00  2.2060e+00  1.1943e+00\n",
            " -1.8689e+00 -5.9128e+00 -5.1929e-01  2.1897e+00 -2.4651e+00  1.7600e+00\n",
            " -5.6308e+00  1.0053e+00  7.3080e-01  2.0417e-01 -6.0370e+00  1.7474e+00\n",
            "  2.0375e+00  2.7541e+00 -1.0423e+00  1.7632e+00 -1.4484e+00 -2.4344e+00\n",
            " -8.6094e-01  1.7867e+00 -4.9920e+00 -3.1162e+00 -5.3973e-01  2.4241e+00\n",
            "  4.4410e-01 -4.7503e+00  2.1383e+00  3.8537e-01 -2.2418e+00  5.8104e+00\n",
            " -1.1731e+00  2.4686e-02 -1.8413e+00 -5.9321e+00 -7.0872e-03 -2.3093e+00\n",
            "  5.5101e+00 -4.1795e-01  2.9754e+00  3.6709e-01 -8.0867e-01 -1.3751e+00\n",
            "  4.8132e+00 -2.2835e+00 -2.0920e-01  1.2578e+00  4.3466e+00  1.3846e+00\n",
            " -1.5847e+00  3.3322e+00 -4.3669e+00  1.8883e+00 -1.2312e+00  3.7902e-01\n",
            "  8.6331e-01 -4.0607e+00 -1.3444e+00  4.5210e+00  2.2995e-01 -5.9245e+00\n",
            " -2.0598e-01 -3.1810e+00 -3.8640e+00  7.2114e+00  3.1034e+00 -4.2856e+00\n",
            "  5.4147e+00 -7.2224e+00  4.3610e+00 -2.6696e+00  1.9245e+00 -2.6187e+00\n",
            " -5.1742e+00  1.0513e-01  1.9628e+00  1.0356e+00  6.8692e+00 -7.3888e-01\n",
            "  3.8783e+00  4.1958e+00 -8.8872e+00 -1.8452e+00  5.2786e+00  4.2920e+00\n",
            " -4.2204e-01  1.0009e+00  4.2165e-01  1.1927e+00 -8.4580e-01 -2.6577e+00\n",
            "  1.5024e+00  4.4229e-01 -2.5251e+00 -7.1781e-01  7.0878e-01  1.7207e+00\n",
            "  3.8369e+00 -1.5924e+00  2.0870e+00  4.3324e-01 -1.0600e+00  2.7058e+00\n",
            "  1.3282e+00 -7.1241e+00 -1.3663e+00 -3.0763e+00  2.7714e+00  1.3094e+00\n",
            "  1.6072e+00  3.6821e+00  5.3843e+00 -3.5457e-02 -2.9616e+00  1.5253e+00\n",
            "  2.0812e-01  6.0771e-01 -5.5709e-01  7.5687e+00 -9.1431e-01 -3.0477e+00\n",
            "  1.2046e+00  5.3871e-01  5.7112e-01  2.2039e+00 -5.1948e-02 -2.6353e+00\n",
            " -2.8517e+00  1.8675e-01  2.1013e+00  7.5272e-01 -8.7856e+00 -1.4493e+00\n",
            " -7.9085e-01 -1.6936e+00  1.4793e-02 -9.9357e+00  3.7818e+00 -1.7839e+00\n",
            "  1.5425e+00 -3.0899e-02 -5.1442e+00  4.2366e-01  3.2065e+00  3.9226e+00\n",
            " -1.4392e-02  1.5862e+00  7.0632e+00  7.5689e+00 -3.4420e+00 -6.1376e+00\n",
            "  5.0851e-01 -6.3689e-01 -1.8791e-01  1.9850e+00  3.0888e+00 -3.0506e+00\n",
            "  1.1851e-01 -1.2290e+00  7.6061e+00  1.8492e-01 -2.7509e+00 -1.3448e+00\n",
            "  1.9857e+00 -2.4650e+00 -2.0810e+00  5.6084e+00 -7.3379e-01  1.1205e+00\n",
            "  1.3258e-02 -7.0243e-01  1.0118e+00  3.8903e+00 -1.2631e+00 -2.7544e+00\n",
            "  9.3134e-01  2.7516e+00 -1.6767e+00  4.5501e+00 -4.9452e-01  1.0644e+00\n",
            " -1.2653e+00  3.9671e-01 -6.4705e+00 -7.7726e-01 -3.9283e+00  7.9536e+00\n",
            "  2.0967e+00  1.2104e+00  3.4474e+00 -2.2200e+00 -4.9974e+00  3.1827e-01\n",
            " -1.0450e+00 -2.1353e+00  1.0529e+00 -1.6568e+00 -3.0012e+00  4.2834e+00\n",
            "  6.9626e-01  4.5401e+00 -1.7153e-01 -5.9982e-01  3.6147e+00 -3.4545e+00\n",
            "  3.6811e-01 -4.1399e+00 -1.8144e+00  2.9088e+00  8.9164e-01 -2.4783e+00\n",
            " -3.6413e+00 -3.4140e-01 -8.0959e-01 -4.7451e+00  4.2487e+00  6.6012e+00\n",
            " -5.1022e+00  1.5260e+00  3.5160e+00 -1.4569e+00  1.4442e+00  6.8183e+00\n",
            " -5.0775e+00  1.0688e+00  4.8081e+00  3.6586e+00 -3.0766e+00 -8.5266e-01\n",
            " -3.3401e+00 -5.2864e+00 -9.1773e-01 -1.8197e+00  2.0192e+00 -6.7857e+00\n",
            " -3.6542e+00 -3.4654e+00  3.3276e+00  9.0340e-02 -3.0743e+00  3.3329e+00\n",
            " -2.6458e+00  2.6557e-02 -4.7538e-01  2.7974e+00  5.3304e+00  2.9937e+00\n",
            "  3.8899e+00 -3.3433e+00 -3.4940e+00  2.1821e+00  8.1387e+00  3.5272e-01\n",
            "  4.8159e+00 -7.8327e-01 -1.2468e+00  5.9163e+00 -6.0636e-02 -4.3255e-01\n",
            " -1.2690e+00 -3.2938e+00  3.2941e-02 -9.3676e-01 -7.1630e-01  1.4011e+00\n",
            "  1.8334e+00 -1.4261e+00 -1.9903e+00 -1.4721e+00  2.1466e+00 -2.0949e+00\n",
            " -7.6855e-01 -2.8615e+00 -2.0466e+00  7.1870e-01 -1.1195e+00 -3.1117e+00\n",
            "  1.5789e-01 -4.0320e+00 -9.2665e-01 -6.2468e-01 -2.7397e+00  6.0866e-01]\n"
          ]
        }
      ]
    },
    {
      "cell_type": "markdown",
      "source": [
        "## ***6. Similarity***"
      ],
      "metadata": {
        "id": "Yn2xQH3W4WuK"
      }
    },
    {
      "cell_type": "code",
      "source": [
        "# Similiarity among documents\n",
        "doc1 = nlp('Ele viaja de avião regurlarmente')\n",
        "doc2 = nlp('Ela viaja regularmente de avião')\n",
        "print(doc1.similarity(doc2))"
      ],
      "metadata": {
        "colab": {
          "base_uri": "https://localhost:8080/"
        },
        "id": "Rhlf-IQw4gmN",
        "outputId": "b99584f9-7fa1-4ed6-f04e-0ccdd8512ad9"
      },
      "execution_count": 25,
      "outputs": [
        {
          "output_type": "stream",
          "name": "stdout",
          "text": [
            "0.9172040561465675\n"
          ]
        }
      ]
    },
    {
      "cell_type": "code",
      "source": [
        "# Similarity among tokens\n",
        "doc3 = nlp('O certo é cumprimento ou comprimento?')\n",
        "token1, token2 = doc3[3], doc[5]\n",
        "print(token1.similarity(token2))"
      ],
      "metadata": {
        "colab": {
          "base_uri": "https://localhost:8080/"
        },
        "id": "ED6uQYCvCIPm",
        "outputId": "6764e2d1-ea77-4844-df59-88c3f15e4dca"
      },
      "execution_count": 26,
      "outputs": [
        {
          "output_type": "stream",
          "name": "stdout",
          "text": [
            "0.45345428586006165\n"
          ]
        }
      ]
    },
    {
      "cell_type": "code",
      "source": [
        "# Similarity\n",
        "doc4 = nlp('Ele pede descrição. Ele pede discrição')\n",
        "part1, part2 = doc4[0:4], doc4[4:]\n",
        "print(part1.similarity(part2))"
      ],
      "metadata": {
        "colab": {
          "base_uri": "https://localhost:8080/"
        },
        "id": "Uk6j73cVC1AO",
        "outputId": "13397874-6f34-41df-f598-598aaa0e7d92"
      },
      "execution_count": 27,
      "outputs": [
        {
          "output_type": "stream",
          "name": "stdout",
          "text": [
            "0.8153641223907471\n"
          ]
        }
      ]
    },
    {
      "cell_type": "markdown",
      "source": [
        "## ***7. Matching***"
      ],
      "metadata": {
        "id": "3hCXxsv7DxF4"
      }
    },
    {
      "cell_type": "code",
      "source": [
        "from spacy.matcher import Matcher\n",
        "from typing import Match"
      ],
      "metadata": {
        "id": "0gYIURUmD1CP"
      },
      "execution_count": 28,
      "outputs": []
    },
    {
      "cell_type": "code",
      "source": [
        "doc5 = nlp('Você pode ligar para (21) - 987358734 ou para (33) 123456789')"
      ],
      "metadata": {
        "id": "_jfSn_nKGlLx"
      },
      "execution_count": 29,
      "outputs": []
    },
    {
      "cell_type": "code",
      "source": [
        "# Initializing the matcher\n",
        "matcher = Matcher(doc5.vocab)"
      ],
      "metadata": {
        "id": "SePFkHsJG7mw"
      },
      "execution_count": 30,
      "outputs": []
    },
    {
      "cell_type": "code",
      "source": [
        "# Creating a pattern\n",
        "pattern = [{'ORTH':'('}, {'SHAPE':'dd'}, {'ORTH':')'}, {'ORTH':'-', 'OP':'?'},\n",
        "            {'IS_DIGIT':True}]\n",
        "\n",
        "matcher.add('telephone', [pattern])"
      ],
      "metadata": {
        "id": "oi5J5CYaHEYh"
      },
      "execution_count": 31,
      "outputs": []
    },
    {
      "cell_type": "code",
      "source": [
        "# Apllying the pattern\n",
        "matches = matcher(doc5)"
      ],
      "metadata": {
        "id": "IJdPQ51LH-8W"
      },
      "execution_count": 32,
      "outputs": []
    },
    {
      "cell_type": "code",
      "source": [
        "for id, init, end in matches:\n",
        "    print(doc5[init:end])"
      ],
      "metadata": {
        "colab": {
          "base_uri": "https://localhost:8080/"
        },
        "id": "w3t9tgBLIIjw",
        "outputId": "dc1b3b46-4474-4c0c-a500-5e8bdcebac28"
      },
      "execution_count": 33,
      "outputs": [
        {
          "output_type": "stream",
          "name": "stdout",
          "text": [
            "(21) - 987358734\n",
            "(33) 123456789\n"
          ]
        }
      ]
    },
    {
      "cell_type": "code",
      "source": [
        "doc6 = nlp('Microorganismos são nocivos. Os micro-organismos possuem uma alta capacidade de contaminação. os micro organismos também podem se multiplicar.')"
      ],
      "metadata": {
        "id": "EftnoTx5LI-7"
      },
      "execution_count": 34,
      "outputs": []
    },
    {
      "cell_type": "code",
      "source": [
        "matcher = Matcher(doc6.vocab)"
      ],
      "metadata": {
        "id": "Cdtg9xhyLjVH"
      },
      "execution_count": 35,
      "outputs": []
    },
    {
      "cell_type": "code",
      "source": [
        "# Creating multiple patterns\n",
        "patt1 = [{'LOWER':'micro-organismos'}]\n",
        "patt2 = [{'LOWER':'microorganismos'}]\n",
        "patt3 = [{'LOWER':'micro'}, {'LOWER':'organismos'}]\n",
        "\n",
        "matcher.add('microorganismos', [patt1, patt2, patt3])"
      ],
      "metadata": {
        "id": "dJ6B_6zUKo-B"
      },
      "execution_count": 36,
      "outputs": []
    },
    {
      "cell_type": "code",
      "source": [
        "matches = matcher(doc6)"
      ],
      "metadata": {
        "id": "9mCrmxeDMGOK"
      },
      "execution_count": 37,
      "outputs": []
    },
    {
      "cell_type": "code",
      "source": [
        "for id, init, end in matches:\n",
        "    print(doc6[init:end])"
      ],
      "metadata": {
        "colab": {
          "base_uri": "https://localhost:8080/"
        },
        "id": "Ts5yzZPhMhyU",
        "outputId": "0a8c794c-54c9-4326-f697-b8bc707ff544"
      },
      "execution_count": 38,
      "outputs": [
        {
          "output_type": "stream",
          "name": "stdout",
          "text": [
            "Microorganismos\n",
            "micro-organismos\n",
            "micro organismos\n"
          ]
        }
      ]
    },
    {
      "cell_type": "markdown",
      "source": [
        "## ***8. Displacy***"
      ],
      "metadata": {
        "id": "1tu0566vQ1KA"
      }
    },
    {
      "cell_type": "code",
      "source": [
        "from spacy import displacy"
      ],
      "metadata": {
        "id": "qY9goPRvQ362"
      },
      "execution_count": 39,
      "outputs": []
    },
    {
      "cell_type": "code",
      "source": [
        "# Showing the named entities in a formatted manner\n",
        "displacy.render(doc, style='ent', jupyter=True)"
      ],
      "metadata": {
        "colab": {
          "base_uri": "https://localhost:8080/",
          "height": 87
        },
        "id": "JtEK3uivQ6XM",
        "outputId": "cce42762-d802-4f95-9754-82a159194b38"
      },
      "execution_count": 40,
      "outputs": [
        {
          "output_type": "display_data",
          "data": {
            "text/plain": [
              "<IPython.core.display.HTML object>"
            ],
            "text/html": [
              "<span class=\"tex2jax_ignore\"><div class=\"entities\" style=\"line-height: 2.5; direction: ltr\">As ações na bolsa de valores pertencentes a empresa \n",
              "<mark class=\"entity\" style=\"background: #7aecec; padding: 0.45em 0.6em; margin: 0 0.25em; line-height: 1; border-radius: 0.35em;\">\n",
              "    Coca-Cola\n",
              "    <span style=\"font-size: 0.8em; font-weight: bold; line-height: 1; border-radius: 0.35em; vertical-align: middle; margin-left: 0.5rem\">ORG</span>\n",
              "</mark>\n",
              " despencaram após o episódio ocorrido na entrevista de \n",
              "<mark class=\"entity\" style=\"background: #ddd; padding: 0.45em 0.6em; margin: 0 0.25em; line-height: 1; border-radius: 0.35em;\">\n",
              "    Cristiano Ronaldo\n",
              "    <span style=\"font-size: 0.8em; font-weight: bold; line-height: 1; border-radius: 0.35em; vertical-align: middle; margin-left: 0.5rem\">PER</span>\n",
              "</mark>\n",
              ", que atualmente atua no futebol árabe, onde o atleta retirou uma bebida da grande marca de sua frente, passando a seguinte mensagem para os internautas: &quot;bebam água!&quot;.</div></span>"
            ]
          },
          "metadata": {}
        }
      ]
    },
    {
      "cell_type": "code",
      "source": [
        "# Showing the dependencies in a formatted manner\n",
        "displacy.render(doc, style='dep', jupyter=True,\n",
        "                options={'compact':True, 'distance':120, 'color':'#000000',\n",
        "                         'bg':'#F0F8FF', 'font':'Arial',\n",
        "                         'offset_x':30, 'arrow_spacing':18,\n",
        "                         'word_spacing':35})"
      ],
      "metadata": {
        "colab": {
          "base_uri": "https://localhost:8080/",
          "height": 448
        },
        "id": "J58gbMVsRmFZ",
        "outputId": "8321e18f-2e7c-4860-dd86-d77f4d6fd6ef"
      },
      "execution_count": 41,
      "outputs": [
        {
          "output_type": "display_data",
          "data": {
            "text/plain": [
              "<IPython.core.display.HTML object>"
            ],
            "text/html": [
              "<span class=\"tex2jax_ignore\"><svg xmlns=\"http://www.w3.org/2000/svg\" xmlns:xlink=\"http://www.w3.org/1999/xlink\" xml:lang=\"pt\" id=\"80d60fffce1942b2a807b5f7ef262a84-0\" class=\"displacy\" width=\"5670\" height=\"407.0\" direction=\"ltr\" style=\"max-width: none; height: 407.0px; color: #000000; background: #F0F8FF; font-family: Arial; direction: ltr\">\n",
              "<text class=\"displacy-token\" fill=\"currentColor\" text-anchor=\"middle\" y=\"337.0\">\n",
              "    <tspan class=\"displacy-word\" fill=\"currentColor\" x=\"30\">As</tspan>\n",
              "    <tspan class=\"displacy-tag\" dy=\"2em\" fill=\"currentColor\" x=\"30\">DET</tspan>\n",
              "</text>\n",
              "\n",
              "<text class=\"displacy-token\" fill=\"currentColor\" text-anchor=\"middle\" y=\"337.0\">\n",
              "    <tspan class=\"displacy-word\" fill=\"currentColor\" x=\"150\">ações</tspan>\n",
              "    <tspan class=\"displacy-tag\" dy=\"2em\" fill=\"currentColor\" x=\"150\">NOUN</tspan>\n",
              "</text>\n",
              "\n",
              "<text class=\"displacy-token\" fill=\"currentColor\" text-anchor=\"middle\" y=\"337.0\">\n",
              "    <tspan class=\"displacy-word\" fill=\"currentColor\" x=\"270\">na</tspan>\n",
              "    <tspan class=\"displacy-tag\" dy=\"2em\" fill=\"currentColor\" x=\"270\">ADP</tspan>\n",
              "</text>\n",
              "\n",
              "<text class=\"displacy-token\" fill=\"currentColor\" text-anchor=\"middle\" y=\"337.0\">\n",
              "    <tspan class=\"displacy-word\" fill=\"currentColor\" x=\"390\">bolsa</tspan>\n",
              "    <tspan class=\"displacy-tag\" dy=\"2em\" fill=\"currentColor\" x=\"390\">PROPN</tspan>\n",
              "</text>\n",
              "\n",
              "<text class=\"displacy-token\" fill=\"currentColor\" text-anchor=\"middle\" y=\"337.0\">\n",
              "    <tspan class=\"displacy-word\" fill=\"currentColor\" x=\"510\">de</tspan>\n",
              "    <tspan class=\"displacy-tag\" dy=\"2em\" fill=\"currentColor\" x=\"510\">ADP</tspan>\n",
              "</text>\n",
              "\n",
              "<text class=\"displacy-token\" fill=\"currentColor\" text-anchor=\"middle\" y=\"337.0\">\n",
              "    <tspan class=\"displacy-word\" fill=\"currentColor\" x=\"630\">valores</tspan>\n",
              "    <tspan class=\"displacy-tag\" dy=\"2em\" fill=\"currentColor\" x=\"630\">NOUN</tspan>\n",
              "</text>\n",
              "\n",
              "<text class=\"displacy-token\" fill=\"currentColor\" text-anchor=\"middle\" y=\"337.0\">\n",
              "    <tspan class=\"displacy-word\" fill=\"currentColor\" x=\"750\">pertencentes</tspan>\n",
              "    <tspan class=\"displacy-tag\" dy=\"2em\" fill=\"currentColor\" x=\"750\">ADJ</tspan>\n",
              "</text>\n",
              "\n",
              "<text class=\"displacy-token\" fill=\"currentColor\" text-anchor=\"middle\" y=\"337.0\">\n",
              "    <tspan class=\"displacy-word\" fill=\"currentColor\" x=\"870\">a</tspan>\n",
              "    <tspan class=\"displacy-tag\" dy=\"2em\" fill=\"currentColor\" x=\"870\">DET</tspan>\n",
              "</text>\n",
              "\n",
              "<text class=\"displacy-token\" fill=\"currentColor\" text-anchor=\"middle\" y=\"337.0\">\n",
              "    <tspan class=\"displacy-word\" fill=\"currentColor\" x=\"990\">empresa</tspan>\n",
              "    <tspan class=\"displacy-tag\" dy=\"2em\" fill=\"currentColor\" x=\"990\">NOUN</tspan>\n",
              "</text>\n",
              "\n",
              "<text class=\"displacy-token\" fill=\"currentColor\" text-anchor=\"middle\" y=\"337.0\">\n",
              "    <tspan class=\"displacy-word\" fill=\"currentColor\" x=\"1110\">Coca-Cola</tspan>\n",
              "    <tspan class=\"displacy-tag\" dy=\"2em\" fill=\"currentColor\" x=\"1110\">PROPN</tspan>\n",
              "</text>\n",
              "\n",
              "<text class=\"displacy-token\" fill=\"currentColor\" text-anchor=\"middle\" y=\"337.0\">\n",
              "    <tspan class=\"displacy-word\" fill=\"currentColor\" x=\"1230\">despencaram</tspan>\n",
              "    <tspan class=\"displacy-tag\" dy=\"2em\" fill=\"currentColor\" x=\"1230\">VERB</tspan>\n",
              "</text>\n",
              "\n",
              "<text class=\"displacy-token\" fill=\"currentColor\" text-anchor=\"middle\" y=\"337.0\">\n",
              "    <tspan class=\"displacy-word\" fill=\"currentColor\" x=\"1350\">após</tspan>\n",
              "    <tspan class=\"displacy-tag\" dy=\"2em\" fill=\"currentColor\" x=\"1350\">ADP</tspan>\n",
              "</text>\n",
              "\n",
              "<text class=\"displacy-token\" fill=\"currentColor\" text-anchor=\"middle\" y=\"337.0\">\n",
              "    <tspan class=\"displacy-word\" fill=\"currentColor\" x=\"1470\">o</tspan>\n",
              "    <tspan class=\"displacy-tag\" dy=\"2em\" fill=\"currentColor\" x=\"1470\">DET</tspan>\n",
              "</text>\n",
              "\n",
              "<text class=\"displacy-token\" fill=\"currentColor\" text-anchor=\"middle\" y=\"337.0\">\n",
              "    <tspan class=\"displacy-word\" fill=\"currentColor\" x=\"1590\">episódio</tspan>\n",
              "    <tspan class=\"displacy-tag\" dy=\"2em\" fill=\"currentColor\" x=\"1590\">NOUN</tspan>\n",
              "</text>\n",
              "\n",
              "<text class=\"displacy-token\" fill=\"currentColor\" text-anchor=\"middle\" y=\"337.0\">\n",
              "    <tspan class=\"displacy-word\" fill=\"currentColor\" x=\"1710\">ocorrido</tspan>\n",
              "    <tspan class=\"displacy-tag\" dy=\"2em\" fill=\"currentColor\" x=\"1710\">VERB</tspan>\n",
              "</text>\n",
              "\n",
              "<text class=\"displacy-token\" fill=\"currentColor\" text-anchor=\"middle\" y=\"337.0\">\n",
              "    <tspan class=\"displacy-word\" fill=\"currentColor\" x=\"1830\">na</tspan>\n",
              "    <tspan class=\"displacy-tag\" dy=\"2em\" fill=\"currentColor\" x=\"1830\">ADP</tspan>\n",
              "</text>\n",
              "\n",
              "<text class=\"displacy-token\" fill=\"currentColor\" text-anchor=\"middle\" y=\"337.0\">\n",
              "    <tspan class=\"displacy-word\" fill=\"currentColor\" x=\"1950\">entrevista</tspan>\n",
              "    <tspan class=\"displacy-tag\" dy=\"2em\" fill=\"currentColor\" x=\"1950\">NOUN</tspan>\n",
              "</text>\n",
              "\n",
              "<text class=\"displacy-token\" fill=\"currentColor\" text-anchor=\"middle\" y=\"337.0\">\n",
              "    <tspan class=\"displacy-word\" fill=\"currentColor\" x=\"2070\">de</tspan>\n",
              "    <tspan class=\"displacy-tag\" dy=\"2em\" fill=\"currentColor\" x=\"2070\">ADP</tspan>\n",
              "</text>\n",
              "\n",
              "<text class=\"displacy-token\" fill=\"currentColor\" text-anchor=\"middle\" y=\"337.0\">\n",
              "    <tspan class=\"displacy-word\" fill=\"currentColor\" x=\"2190\">Cristiano</tspan>\n",
              "    <tspan class=\"displacy-tag\" dy=\"2em\" fill=\"currentColor\" x=\"2190\">PROPN</tspan>\n",
              "</text>\n",
              "\n",
              "<text class=\"displacy-token\" fill=\"currentColor\" text-anchor=\"middle\" y=\"337.0\">\n",
              "    <tspan class=\"displacy-word\" fill=\"currentColor\" x=\"2310\">Ronaldo,</tspan>\n",
              "    <tspan class=\"displacy-tag\" dy=\"2em\" fill=\"currentColor\" x=\"2310\">PROPN</tspan>\n",
              "</text>\n",
              "\n",
              "<text class=\"displacy-token\" fill=\"currentColor\" text-anchor=\"middle\" y=\"337.0\">\n",
              "    <tspan class=\"displacy-word\" fill=\"currentColor\" x=\"2430\">que</tspan>\n",
              "    <tspan class=\"displacy-tag\" dy=\"2em\" fill=\"currentColor\" x=\"2430\">PRON</tspan>\n",
              "</text>\n",
              "\n",
              "<text class=\"displacy-token\" fill=\"currentColor\" text-anchor=\"middle\" y=\"337.0\">\n",
              "    <tspan class=\"displacy-word\" fill=\"currentColor\" x=\"2550\">atualmente</tspan>\n",
              "    <tspan class=\"displacy-tag\" dy=\"2em\" fill=\"currentColor\" x=\"2550\">ADV</tspan>\n",
              "</text>\n",
              "\n",
              "<text class=\"displacy-token\" fill=\"currentColor\" text-anchor=\"middle\" y=\"337.0\">\n",
              "    <tspan class=\"displacy-word\" fill=\"currentColor\" x=\"2670\">atua</tspan>\n",
              "    <tspan class=\"displacy-tag\" dy=\"2em\" fill=\"currentColor\" x=\"2670\">VERB</tspan>\n",
              "</text>\n",
              "\n",
              "<text class=\"displacy-token\" fill=\"currentColor\" text-anchor=\"middle\" y=\"337.0\">\n",
              "    <tspan class=\"displacy-word\" fill=\"currentColor\" x=\"2790\">no</tspan>\n",
              "    <tspan class=\"displacy-tag\" dy=\"2em\" fill=\"currentColor\" x=\"2790\">ADP</tspan>\n",
              "</text>\n",
              "\n",
              "<text class=\"displacy-token\" fill=\"currentColor\" text-anchor=\"middle\" y=\"337.0\">\n",
              "    <tspan class=\"displacy-word\" fill=\"currentColor\" x=\"2910\">futebol</tspan>\n",
              "    <tspan class=\"displacy-tag\" dy=\"2em\" fill=\"currentColor\" x=\"2910\">NOUN</tspan>\n",
              "</text>\n",
              "\n",
              "<text class=\"displacy-token\" fill=\"currentColor\" text-anchor=\"middle\" y=\"337.0\">\n",
              "    <tspan class=\"displacy-word\" fill=\"currentColor\" x=\"3030\">árabe,</tspan>\n",
              "    <tspan class=\"displacy-tag\" dy=\"2em\" fill=\"currentColor\" x=\"3030\">ADJ</tspan>\n",
              "</text>\n",
              "\n",
              "<text class=\"displacy-token\" fill=\"currentColor\" text-anchor=\"middle\" y=\"337.0\">\n",
              "    <tspan class=\"displacy-word\" fill=\"currentColor\" x=\"3150\">onde</tspan>\n",
              "    <tspan class=\"displacy-tag\" dy=\"2em\" fill=\"currentColor\" x=\"3150\">PRON</tspan>\n",
              "</text>\n",
              "\n",
              "<text class=\"displacy-token\" fill=\"currentColor\" text-anchor=\"middle\" y=\"337.0\">\n",
              "    <tspan class=\"displacy-word\" fill=\"currentColor\" x=\"3270\">o</tspan>\n",
              "    <tspan class=\"displacy-tag\" dy=\"2em\" fill=\"currentColor\" x=\"3270\">DET</tspan>\n",
              "</text>\n",
              "\n",
              "<text class=\"displacy-token\" fill=\"currentColor\" text-anchor=\"middle\" y=\"337.0\">\n",
              "    <tspan class=\"displacy-word\" fill=\"currentColor\" x=\"3390\">atleta</tspan>\n",
              "    <tspan class=\"displacy-tag\" dy=\"2em\" fill=\"currentColor\" x=\"3390\">NOUN</tspan>\n",
              "</text>\n",
              "\n",
              "<text class=\"displacy-token\" fill=\"currentColor\" text-anchor=\"middle\" y=\"337.0\">\n",
              "    <tspan class=\"displacy-word\" fill=\"currentColor\" x=\"3510\">retirou</tspan>\n",
              "    <tspan class=\"displacy-tag\" dy=\"2em\" fill=\"currentColor\" x=\"3510\">VERB</tspan>\n",
              "</text>\n",
              "\n",
              "<text class=\"displacy-token\" fill=\"currentColor\" text-anchor=\"middle\" y=\"337.0\">\n",
              "    <tspan class=\"displacy-word\" fill=\"currentColor\" x=\"3630\">uma</tspan>\n",
              "    <tspan class=\"displacy-tag\" dy=\"2em\" fill=\"currentColor\" x=\"3630\">DET</tspan>\n",
              "</text>\n",
              "\n",
              "<text class=\"displacy-token\" fill=\"currentColor\" text-anchor=\"middle\" y=\"337.0\">\n",
              "    <tspan class=\"displacy-word\" fill=\"currentColor\" x=\"3750\">bebida</tspan>\n",
              "    <tspan class=\"displacy-tag\" dy=\"2em\" fill=\"currentColor\" x=\"3750\">NOUN</tspan>\n",
              "</text>\n",
              "\n",
              "<text class=\"displacy-token\" fill=\"currentColor\" text-anchor=\"middle\" y=\"337.0\">\n",
              "    <tspan class=\"displacy-word\" fill=\"currentColor\" x=\"3870\">da</tspan>\n",
              "    <tspan class=\"displacy-tag\" dy=\"2em\" fill=\"currentColor\" x=\"3870\">ADP</tspan>\n",
              "</text>\n",
              "\n",
              "<text class=\"displacy-token\" fill=\"currentColor\" text-anchor=\"middle\" y=\"337.0\">\n",
              "    <tspan class=\"displacy-word\" fill=\"currentColor\" x=\"3990\">grande</tspan>\n",
              "    <tspan class=\"displacy-tag\" dy=\"2em\" fill=\"currentColor\" x=\"3990\">ADJ</tspan>\n",
              "</text>\n",
              "\n",
              "<text class=\"displacy-token\" fill=\"currentColor\" text-anchor=\"middle\" y=\"337.0\">\n",
              "    <tspan class=\"displacy-word\" fill=\"currentColor\" x=\"4110\">marca</tspan>\n",
              "    <tspan class=\"displacy-tag\" dy=\"2em\" fill=\"currentColor\" x=\"4110\">NOUN</tspan>\n",
              "</text>\n",
              "\n",
              "<text class=\"displacy-token\" fill=\"currentColor\" text-anchor=\"middle\" y=\"337.0\">\n",
              "    <tspan class=\"displacy-word\" fill=\"currentColor\" x=\"4230\">de</tspan>\n",
              "    <tspan class=\"displacy-tag\" dy=\"2em\" fill=\"currentColor\" x=\"4230\">ADP</tspan>\n",
              "</text>\n",
              "\n",
              "<text class=\"displacy-token\" fill=\"currentColor\" text-anchor=\"middle\" y=\"337.0\">\n",
              "    <tspan class=\"displacy-word\" fill=\"currentColor\" x=\"4350\">sua</tspan>\n",
              "    <tspan class=\"displacy-tag\" dy=\"2em\" fill=\"currentColor\" x=\"4350\">DET</tspan>\n",
              "</text>\n",
              "\n",
              "<text class=\"displacy-token\" fill=\"currentColor\" text-anchor=\"middle\" y=\"337.0\">\n",
              "    <tspan class=\"displacy-word\" fill=\"currentColor\" x=\"4470\">frente,</tspan>\n",
              "    <tspan class=\"displacy-tag\" dy=\"2em\" fill=\"currentColor\" x=\"4470\">NOUN</tspan>\n",
              "</text>\n",
              "\n",
              "<text class=\"displacy-token\" fill=\"currentColor\" text-anchor=\"middle\" y=\"337.0\">\n",
              "    <tspan class=\"displacy-word\" fill=\"currentColor\" x=\"4590\">passando</tspan>\n",
              "    <tspan class=\"displacy-tag\" dy=\"2em\" fill=\"currentColor\" x=\"4590\">VERB</tspan>\n",
              "</text>\n",
              "\n",
              "<text class=\"displacy-token\" fill=\"currentColor\" text-anchor=\"middle\" y=\"337.0\">\n",
              "    <tspan class=\"displacy-word\" fill=\"currentColor\" x=\"4710\">a</tspan>\n",
              "    <tspan class=\"displacy-tag\" dy=\"2em\" fill=\"currentColor\" x=\"4710\">DET</tspan>\n",
              "</text>\n",
              "\n",
              "<text class=\"displacy-token\" fill=\"currentColor\" text-anchor=\"middle\" y=\"337.0\">\n",
              "    <tspan class=\"displacy-word\" fill=\"currentColor\" x=\"4830\">seguinte</tspan>\n",
              "    <tspan class=\"displacy-tag\" dy=\"2em\" fill=\"currentColor\" x=\"4830\">ADJ</tspan>\n",
              "</text>\n",
              "\n",
              "<text class=\"displacy-token\" fill=\"currentColor\" text-anchor=\"middle\" y=\"337.0\">\n",
              "    <tspan class=\"displacy-word\" fill=\"currentColor\" x=\"4950\">mensagem</tspan>\n",
              "    <tspan class=\"displacy-tag\" dy=\"2em\" fill=\"currentColor\" x=\"4950\">NOUN</tspan>\n",
              "</text>\n",
              "\n",
              "<text class=\"displacy-token\" fill=\"currentColor\" text-anchor=\"middle\" y=\"337.0\">\n",
              "    <tspan class=\"displacy-word\" fill=\"currentColor\" x=\"5070\">para</tspan>\n",
              "    <tspan class=\"displacy-tag\" dy=\"2em\" fill=\"currentColor\" x=\"5070\">ADP</tspan>\n",
              "</text>\n",
              "\n",
              "<text class=\"displacy-token\" fill=\"currentColor\" text-anchor=\"middle\" y=\"337.0\">\n",
              "    <tspan class=\"displacy-word\" fill=\"currentColor\" x=\"5190\">os</tspan>\n",
              "    <tspan class=\"displacy-tag\" dy=\"2em\" fill=\"currentColor\" x=\"5190\">DET</tspan>\n",
              "</text>\n",
              "\n",
              "<text class=\"displacy-token\" fill=\"currentColor\" text-anchor=\"middle\" y=\"337.0\">\n",
              "    <tspan class=\"displacy-word\" fill=\"currentColor\" x=\"5310\">internautas: &quot;</tspan>\n",
              "    <tspan class=\"displacy-tag\" dy=\"2em\" fill=\"currentColor\" x=\"5310\">NOUN</tspan>\n",
              "</text>\n",
              "\n",
              "<text class=\"displacy-token\" fill=\"currentColor\" text-anchor=\"middle\" y=\"337.0\">\n",
              "    <tspan class=\"displacy-word\" fill=\"currentColor\" x=\"5430\">bebam</tspan>\n",
              "    <tspan class=\"displacy-tag\" dy=\"2em\" fill=\"currentColor\" x=\"5430\">VERB</tspan>\n",
              "</text>\n",
              "\n",
              "<text class=\"displacy-token\" fill=\"currentColor\" text-anchor=\"middle\" y=\"337.0\">\n",
              "    <tspan class=\"displacy-word\" fill=\"currentColor\" x=\"5550\">água!&quot;.</tspan>\n",
              "    <tspan class=\"displacy-tag\" dy=\"2em\" fill=\"currentColor\" x=\"5550\">NOUN</tspan>\n",
              "</text>\n",
              "\n",
              "<g class=\"displacy-arrow\">\n",
              "    <path class=\"displacy-arc\" id=\"arrow-80d60fffce1942b2a807b5f7ef262a84-0-0\" stroke-width=\"2px\" d=\"M48,302.0 48,282.0 132.0,282.0 132.0,302.0\" fill=\"none\" stroke=\"currentColor\"/>\n",
              "    <text dy=\"1.25em\" style=\"font-size: 0.8em; letter-spacing: 1px\">\n",
              "        <textPath xlink:href=\"#arrow-80d60fffce1942b2a807b5f7ef262a84-0-0\" class=\"displacy-label\" startOffset=\"50%\" side=\"left\" fill=\"currentColor\" text-anchor=\"middle\">det</textPath>\n",
              "    </text>\n",
              "    <path class=\"displacy-arrowhead\" d=\"M48,304.0 L44,296.0 52,296.0\" fill=\"currentColor\"/>\n",
              "</g>\n",
              "\n",
              "<g class=\"displacy-arrow\">\n",
              "    <path class=\"displacy-arc\" id=\"arrow-80d60fffce1942b2a807b5f7ef262a84-0-1\" stroke-width=\"2px\" d=\"M168,302.0 168,222.0 1225.5,222.0 1225.5,302.0\" fill=\"none\" stroke=\"currentColor\"/>\n",
              "    <text dy=\"1.25em\" style=\"font-size: 0.8em; letter-spacing: 1px\">\n",
              "        <textPath xlink:href=\"#arrow-80d60fffce1942b2a807b5f7ef262a84-0-1\" class=\"displacy-label\" startOffset=\"50%\" side=\"left\" fill=\"currentColor\" text-anchor=\"middle\">nsubj</textPath>\n",
              "    </text>\n",
              "    <path class=\"displacy-arrowhead\" d=\"M168,304.0 L164,296.0 172,296.0\" fill=\"currentColor\"/>\n",
              "</g>\n",
              "\n",
              "<g class=\"displacy-arrow\">\n",
              "    <path class=\"displacy-arc\" id=\"arrow-80d60fffce1942b2a807b5f7ef262a84-0-2\" stroke-width=\"2px\" d=\"M288,302.0 288,282.0 372.0,282.0 372.0,302.0\" fill=\"none\" stroke=\"currentColor\"/>\n",
              "    <text dy=\"1.25em\" style=\"font-size: 0.8em; letter-spacing: 1px\">\n",
              "        <textPath xlink:href=\"#arrow-80d60fffce1942b2a807b5f7ef262a84-0-2\" class=\"displacy-label\" startOffset=\"50%\" side=\"left\" fill=\"currentColor\" text-anchor=\"middle\">case</textPath>\n",
              "    </text>\n",
              "    <path class=\"displacy-arrowhead\" d=\"M288,304.0 L284,296.0 292,296.0\" fill=\"currentColor\"/>\n",
              "</g>\n",
              "\n",
              "<g class=\"displacy-arrow\">\n",
              "    <path class=\"displacy-arc\" id=\"arrow-80d60fffce1942b2a807b5f7ef262a84-0-3\" stroke-width=\"2px\" d=\"M168,302.0 168,262.0 376.5,262.0 376.5,302.0\" fill=\"none\" stroke=\"currentColor\"/>\n",
              "    <text dy=\"1.25em\" style=\"font-size: 0.8em; letter-spacing: 1px\">\n",
              "        <textPath xlink:href=\"#arrow-80d60fffce1942b2a807b5f7ef262a84-0-3\" class=\"displacy-label\" startOffset=\"50%\" side=\"left\" fill=\"currentColor\" text-anchor=\"middle\">nmod</textPath>\n",
              "    </text>\n",
              "    <path class=\"displacy-arrowhead\" d=\"M376.5,304.0 L380.5,296.0 372.5,296.0\" fill=\"currentColor\"/>\n",
              "</g>\n",
              "\n",
              "<g class=\"displacy-arrow\">\n",
              "    <path class=\"displacy-arc\" id=\"arrow-80d60fffce1942b2a807b5f7ef262a84-0-4\" stroke-width=\"2px\" d=\"M528,302.0 528,282.0 612.0,282.0 612.0,302.0\" fill=\"none\" stroke=\"currentColor\"/>\n",
              "    <text dy=\"1.25em\" style=\"font-size: 0.8em; letter-spacing: 1px\">\n",
              "        <textPath xlink:href=\"#arrow-80d60fffce1942b2a807b5f7ef262a84-0-4\" class=\"displacy-label\" startOffset=\"50%\" side=\"left\" fill=\"currentColor\" text-anchor=\"middle\">case</textPath>\n",
              "    </text>\n",
              "    <path class=\"displacy-arrowhead\" d=\"M528,304.0 L524,296.0 532,296.0\" fill=\"currentColor\"/>\n",
              "</g>\n",
              "\n",
              "<g class=\"displacy-arrow\">\n",
              "    <path class=\"displacy-arc\" id=\"arrow-80d60fffce1942b2a807b5f7ef262a84-0-5\" stroke-width=\"2px\" d=\"M408,302.0 408,262.0 616.5,262.0 616.5,302.0\" fill=\"none\" stroke=\"currentColor\"/>\n",
              "    <text dy=\"1.25em\" style=\"font-size: 0.8em; letter-spacing: 1px\">\n",
              "        <textPath xlink:href=\"#arrow-80d60fffce1942b2a807b5f7ef262a84-0-5\" class=\"displacy-label\" startOffset=\"50%\" side=\"left\" fill=\"currentColor\" text-anchor=\"middle\">nmod</textPath>\n",
              "    </text>\n",
              "    <path class=\"displacy-arrowhead\" d=\"M616.5,304.0 L620.5,296.0 612.5,296.0\" fill=\"currentColor\"/>\n",
              "</g>\n",
              "\n",
              "<g class=\"displacy-arrow\">\n",
              "    <path class=\"displacy-arc\" id=\"arrow-80d60fffce1942b2a807b5f7ef262a84-0-6\" stroke-width=\"2px\" d=\"M168,302.0 168,242.0 741.0,242.0 741.0,302.0\" fill=\"none\" stroke=\"currentColor\"/>\n",
              "    <text dy=\"1.25em\" style=\"font-size: 0.8em; letter-spacing: 1px\">\n",
              "        <textPath xlink:href=\"#arrow-80d60fffce1942b2a807b5f7ef262a84-0-6\" class=\"displacy-label\" startOffset=\"50%\" side=\"left\" fill=\"currentColor\" text-anchor=\"middle\">amod</textPath>\n",
              "    </text>\n",
              "    <path class=\"displacy-arrowhead\" d=\"M741.0,304.0 L745.0,296.0 737.0,296.0\" fill=\"currentColor\"/>\n",
              "</g>\n",
              "\n",
              "<g class=\"displacy-arrow\">\n",
              "    <path class=\"displacy-arc\" id=\"arrow-80d60fffce1942b2a807b5f7ef262a84-0-7\" stroke-width=\"2px\" d=\"M888,302.0 888,282.0 972.0,282.0 972.0,302.0\" fill=\"none\" stroke=\"currentColor\"/>\n",
              "    <text dy=\"1.25em\" style=\"font-size: 0.8em; letter-spacing: 1px\">\n",
              "        <textPath xlink:href=\"#arrow-80d60fffce1942b2a807b5f7ef262a84-0-7\" class=\"displacy-label\" startOffset=\"50%\" side=\"left\" fill=\"currentColor\" text-anchor=\"middle\">det</textPath>\n",
              "    </text>\n",
              "    <path class=\"displacy-arrowhead\" d=\"M888,304.0 L884,296.0 892,296.0\" fill=\"currentColor\"/>\n",
              "</g>\n",
              "\n",
              "<g class=\"displacy-arrow\">\n",
              "    <path class=\"displacy-arc\" id=\"arrow-80d60fffce1942b2a807b5f7ef262a84-0-8\" stroke-width=\"2px\" d=\"M768,302.0 768,262.0 976.5,262.0 976.5,302.0\" fill=\"none\" stroke=\"currentColor\"/>\n",
              "    <text dy=\"1.25em\" style=\"font-size: 0.8em; letter-spacing: 1px\">\n",
              "        <textPath xlink:href=\"#arrow-80d60fffce1942b2a807b5f7ef262a84-0-8\" class=\"displacy-label\" startOffset=\"50%\" side=\"left\" fill=\"currentColor\" text-anchor=\"middle\">obj</textPath>\n",
              "    </text>\n",
              "    <path class=\"displacy-arrowhead\" d=\"M976.5,304.0 L980.5,296.0 972.5,296.0\" fill=\"currentColor\"/>\n",
              "</g>\n",
              "\n",
              "<g class=\"displacy-arrow\">\n",
              "    <path class=\"displacy-arc\" id=\"arrow-80d60fffce1942b2a807b5f7ef262a84-0-9\" stroke-width=\"2px\" d=\"M1008,302.0 1008,282.0 1092.0,282.0 1092.0,302.0\" fill=\"none\" stroke=\"currentColor\"/>\n",
              "    <text dy=\"1.25em\" style=\"font-size: 0.8em; letter-spacing: 1px\">\n",
              "        <textPath xlink:href=\"#arrow-80d60fffce1942b2a807b5f7ef262a84-0-9\" class=\"displacy-label\" startOffset=\"50%\" side=\"left\" fill=\"currentColor\" text-anchor=\"middle\">appos</textPath>\n",
              "    </text>\n",
              "    <path class=\"displacy-arrowhead\" d=\"M1092.0,304.0 L1096.0,296.0 1088.0,296.0\" fill=\"currentColor\"/>\n",
              "</g>\n",
              "\n",
              "<g class=\"displacy-arrow\">\n",
              "    <path class=\"displacy-arc\" id=\"arrow-80d60fffce1942b2a807b5f7ef262a84-0-10\" stroke-width=\"2px\" d=\"M1368,302.0 1368,262.0 1576.5,262.0 1576.5,302.0\" fill=\"none\" stroke=\"currentColor\"/>\n",
              "    <text dy=\"1.25em\" style=\"font-size: 0.8em; letter-spacing: 1px\">\n",
              "        <textPath xlink:href=\"#arrow-80d60fffce1942b2a807b5f7ef262a84-0-10\" class=\"displacy-label\" startOffset=\"50%\" side=\"left\" fill=\"currentColor\" text-anchor=\"middle\">case</textPath>\n",
              "    </text>\n",
              "    <path class=\"displacy-arrowhead\" d=\"M1368,304.0 L1364,296.0 1372,296.0\" fill=\"currentColor\"/>\n",
              "</g>\n",
              "\n",
              "<g class=\"displacy-arrow\">\n",
              "    <path class=\"displacy-arc\" id=\"arrow-80d60fffce1942b2a807b5f7ef262a84-0-11\" stroke-width=\"2px\" d=\"M1488,302.0 1488,282.0 1572.0,282.0 1572.0,302.0\" fill=\"none\" stroke=\"currentColor\"/>\n",
              "    <text dy=\"1.25em\" style=\"font-size: 0.8em; letter-spacing: 1px\">\n",
              "        <textPath xlink:href=\"#arrow-80d60fffce1942b2a807b5f7ef262a84-0-11\" class=\"displacy-label\" startOffset=\"50%\" side=\"left\" fill=\"currentColor\" text-anchor=\"middle\">det</textPath>\n",
              "    </text>\n",
              "    <path class=\"displacy-arrowhead\" d=\"M1488,304.0 L1484,296.0 1492,296.0\" fill=\"currentColor\"/>\n",
              "</g>\n",
              "\n",
              "<g class=\"displacy-arrow\">\n",
              "    <path class=\"displacy-arc\" id=\"arrow-80d60fffce1942b2a807b5f7ef262a84-0-12\" stroke-width=\"2px\" d=\"M1248,302.0 1248,242.0 1581.0,242.0 1581.0,302.0\" fill=\"none\" stroke=\"currentColor\"/>\n",
              "    <text dy=\"1.25em\" style=\"font-size: 0.8em; letter-spacing: 1px\">\n",
              "        <textPath xlink:href=\"#arrow-80d60fffce1942b2a807b5f7ef262a84-0-12\" class=\"displacy-label\" startOffset=\"50%\" side=\"left\" fill=\"currentColor\" text-anchor=\"middle\">obl</textPath>\n",
              "    </text>\n",
              "    <path class=\"displacy-arrowhead\" d=\"M1581.0,304.0 L1585.0,296.0 1577.0,296.0\" fill=\"currentColor\"/>\n",
              "</g>\n",
              "\n",
              "<g class=\"displacy-arrow\">\n",
              "    <path class=\"displacy-arc\" id=\"arrow-80d60fffce1942b2a807b5f7ef262a84-0-13\" stroke-width=\"2px\" d=\"M1608,302.0 1608,282.0 1692.0,282.0 1692.0,302.0\" fill=\"none\" stroke=\"currentColor\"/>\n",
              "    <text dy=\"1.25em\" style=\"font-size: 0.8em; letter-spacing: 1px\">\n",
              "        <textPath xlink:href=\"#arrow-80d60fffce1942b2a807b5f7ef262a84-0-13\" class=\"displacy-label\" startOffset=\"50%\" side=\"left\" fill=\"currentColor\" text-anchor=\"middle\">acl</textPath>\n",
              "    </text>\n",
              "    <path class=\"displacy-arrowhead\" d=\"M1692.0,304.0 L1696.0,296.0 1688.0,296.0\" fill=\"currentColor\"/>\n",
              "</g>\n",
              "\n",
              "<g class=\"displacy-arrow\">\n",
              "    <path class=\"displacy-arc\" id=\"arrow-80d60fffce1942b2a807b5f7ef262a84-0-14\" stroke-width=\"2px\" d=\"M1848,302.0 1848,282.0 1932.0,282.0 1932.0,302.0\" fill=\"none\" stroke=\"currentColor\"/>\n",
              "    <text dy=\"1.25em\" style=\"font-size: 0.8em; letter-spacing: 1px\">\n",
              "        <textPath xlink:href=\"#arrow-80d60fffce1942b2a807b5f7ef262a84-0-14\" class=\"displacy-label\" startOffset=\"50%\" side=\"left\" fill=\"currentColor\" text-anchor=\"middle\">case</textPath>\n",
              "    </text>\n",
              "    <path class=\"displacy-arrowhead\" d=\"M1848,304.0 L1844,296.0 1852,296.0\" fill=\"currentColor\"/>\n",
              "</g>\n",
              "\n",
              "<g class=\"displacy-arrow\">\n",
              "    <path class=\"displacy-arc\" id=\"arrow-80d60fffce1942b2a807b5f7ef262a84-0-15\" stroke-width=\"2px\" d=\"M1728,302.0 1728,262.0 1936.5,262.0 1936.5,302.0\" fill=\"none\" stroke=\"currentColor\"/>\n",
              "    <text dy=\"1.25em\" style=\"font-size: 0.8em; letter-spacing: 1px\">\n",
              "        <textPath xlink:href=\"#arrow-80d60fffce1942b2a807b5f7ef262a84-0-15\" class=\"displacy-label\" startOffset=\"50%\" side=\"left\" fill=\"currentColor\" text-anchor=\"middle\">obl</textPath>\n",
              "    </text>\n",
              "    <path class=\"displacy-arrowhead\" d=\"M1936.5,304.0 L1940.5,296.0 1932.5,296.0\" fill=\"currentColor\"/>\n",
              "</g>\n",
              "\n",
              "<g class=\"displacy-arrow\">\n",
              "    <path class=\"displacy-arc\" id=\"arrow-80d60fffce1942b2a807b5f7ef262a84-0-16\" stroke-width=\"2px\" d=\"M2088,302.0 2088,282.0 2172.0,282.0 2172.0,302.0\" fill=\"none\" stroke=\"currentColor\"/>\n",
              "    <text dy=\"1.25em\" style=\"font-size: 0.8em; letter-spacing: 1px\">\n",
              "        <textPath xlink:href=\"#arrow-80d60fffce1942b2a807b5f7ef262a84-0-16\" class=\"displacy-label\" startOffset=\"50%\" side=\"left\" fill=\"currentColor\" text-anchor=\"middle\">case</textPath>\n",
              "    </text>\n",
              "    <path class=\"displacy-arrowhead\" d=\"M2088,304.0 L2084,296.0 2092,296.0\" fill=\"currentColor\"/>\n",
              "</g>\n",
              "\n",
              "<g class=\"displacy-arrow\">\n",
              "    <path class=\"displacy-arc\" id=\"arrow-80d60fffce1942b2a807b5f7ef262a84-0-17\" stroke-width=\"2px\" d=\"M1968,302.0 1968,262.0 2176.5,262.0 2176.5,302.0\" fill=\"none\" stroke=\"currentColor\"/>\n",
              "    <text dy=\"1.25em\" style=\"font-size: 0.8em; letter-spacing: 1px\">\n",
              "        <textPath xlink:href=\"#arrow-80d60fffce1942b2a807b5f7ef262a84-0-17\" class=\"displacy-label\" startOffset=\"50%\" side=\"left\" fill=\"currentColor\" text-anchor=\"middle\">nmod</textPath>\n",
              "    </text>\n",
              "    <path class=\"displacy-arrowhead\" d=\"M2176.5,304.0 L2180.5,296.0 2172.5,296.0\" fill=\"currentColor\"/>\n",
              "</g>\n",
              "\n",
              "<g class=\"displacy-arrow\">\n",
              "    <path class=\"displacy-arc\" id=\"arrow-80d60fffce1942b2a807b5f7ef262a84-0-18\" stroke-width=\"2px\" d=\"M2208,302.0 2208,282.0 2292.0,282.0 2292.0,302.0\" fill=\"none\" stroke=\"currentColor\"/>\n",
              "    <text dy=\"1.25em\" style=\"font-size: 0.8em; letter-spacing: 1px\">\n",
              "        <textPath xlink:href=\"#arrow-80d60fffce1942b2a807b5f7ef262a84-0-18\" class=\"displacy-label\" startOffset=\"50%\" side=\"left\" fill=\"currentColor\" text-anchor=\"middle\">flat:name</textPath>\n",
              "    </text>\n",
              "    <path class=\"displacy-arrowhead\" d=\"M2292.0,304.0 L2296.0,296.0 2288.0,296.0\" fill=\"currentColor\"/>\n",
              "</g>\n",
              "\n",
              "<g class=\"displacy-arrow\">\n",
              "    <path class=\"displacy-arc\" id=\"arrow-80d60fffce1942b2a807b5f7ef262a84-0-19\" stroke-width=\"2px\" d=\"M2448,302.0 2448,262.0 2656.5,262.0 2656.5,302.0\" fill=\"none\" stroke=\"currentColor\"/>\n",
              "    <text dy=\"1.25em\" style=\"font-size: 0.8em; letter-spacing: 1px\">\n",
              "        <textPath xlink:href=\"#arrow-80d60fffce1942b2a807b5f7ef262a84-0-19\" class=\"displacy-label\" startOffset=\"50%\" side=\"left\" fill=\"currentColor\" text-anchor=\"middle\">nsubj</textPath>\n",
              "    </text>\n",
              "    <path class=\"displacy-arrowhead\" d=\"M2448,304.0 L2444,296.0 2452,296.0\" fill=\"currentColor\"/>\n",
              "</g>\n",
              "\n",
              "<g class=\"displacy-arrow\">\n",
              "    <path class=\"displacy-arc\" id=\"arrow-80d60fffce1942b2a807b5f7ef262a84-0-20\" stroke-width=\"2px\" d=\"M2568,302.0 2568,282.0 2652.0,282.0 2652.0,302.0\" fill=\"none\" stroke=\"currentColor\"/>\n",
              "    <text dy=\"1.25em\" style=\"font-size: 0.8em; letter-spacing: 1px\">\n",
              "        <textPath xlink:href=\"#arrow-80d60fffce1942b2a807b5f7ef262a84-0-20\" class=\"displacy-label\" startOffset=\"50%\" side=\"left\" fill=\"currentColor\" text-anchor=\"middle\">advmod</textPath>\n",
              "    </text>\n",
              "    <path class=\"displacy-arrowhead\" d=\"M2568,304.0 L2564,296.0 2572,296.0\" fill=\"currentColor\"/>\n",
              "</g>\n",
              "\n",
              "<g class=\"displacy-arrow\">\n",
              "    <path class=\"displacy-arc\" id=\"arrow-80d60fffce1942b2a807b5f7ef262a84-0-21\" stroke-width=\"2px\" d=\"M1968,302.0 1968,242.0 2661.0,242.0 2661.0,302.0\" fill=\"none\" stroke=\"currentColor\"/>\n",
              "    <text dy=\"1.25em\" style=\"font-size: 0.8em; letter-spacing: 1px\">\n",
              "        <textPath xlink:href=\"#arrow-80d60fffce1942b2a807b5f7ef262a84-0-21\" class=\"displacy-label\" startOffset=\"50%\" side=\"left\" fill=\"currentColor\" text-anchor=\"middle\">acl:relcl</textPath>\n",
              "    </text>\n",
              "    <path class=\"displacy-arrowhead\" d=\"M2661.0,304.0 L2665.0,296.0 2657.0,296.0\" fill=\"currentColor\"/>\n",
              "</g>\n",
              "\n",
              "<g class=\"displacy-arrow\">\n",
              "    <path class=\"displacy-arc\" id=\"arrow-80d60fffce1942b2a807b5f7ef262a84-0-22\" stroke-width=\"2px\" d=\"M2808,302.0 2808,282.0 2892.0,282.0 2892.0,302.0\" fill=\"none\" stroke=\"currentColor\"/>\n",
              "    <text dy=\"1.25em\" style=\"font-size: 0.8em; letter-spacing: 1px\">\n",
              "        <textPath xlink:href=\"#arrow-80d60fffce1942b2a807b5f7ef262a84-0-22\" class=\"displacy-label\" startOffset=\"50%\" side=\"left\" fill=\"currentColor\" text-anchor=\"middle\">case</textPath>\n",
              "    </text>\n",
              "    <path class=\"displacy-arrowhead\" d=\"M2808,304.0 L2804,296.0 2812,296.0\" fill=\"currentColor\"/>\n",
              "</g>\n",
              "\n",
              "<g class=\"displacy-arrow\">\n",
              "    <path class=\"displacy-arc\" id=\"arrow-80d60fffce1942b2a807b5f7ef262a84-0-23\" stroke-width=\"2px\" d=\"M2688,302.0 2688,262.0 2896.5,262.0 2896.5,302.0\" fill=\"none\" stroke=\"currentColor\"/>\n",
              "    <text dy=\"1.25em\" style=\"font-size: 0.8em; letter-spacing: 1px\">\n",
              "        <textPath xlink:href=\"#arrow-80d60fffce1942b2a807b5f7ef262a84-0-23\" class=\"displacy-label\" startOffset=\"50%\" side=\"left\" fill=\"currentColor\" text-anchor=\"middle\">obl</textPath>\n",
              "    </text>\n",
              "    <path class=\"displacy-arrowhead\" d=\"M2896.5,304.0 L2900.5,296.0 2892.5,296.0\" fill=\"currentColor\"/>\n",
              "</g>\n",
              "\n",
              "<g class=\"displacy-arrow\">\n",
              "    <path class=\"displacy-arc\" id=\"arrow-80d60fffce1942b2a807b5f7ef262a84-0-24\" stroke-width=\"2px\" d=\"M2928,302.0 2928,282.0 3012.0,282.0 3012.0,302.0\" fill=\"none\" stroke=\"currentColor\"/>\n",
              "    <text dy=\"1.25em\" style=\"font-size: 0.8em; letter-spacing: 1px\">\n",
              "        <textPath xlink:href=\"#arrow-80d60fffce1942b2a807b5f7ef262a84-0-24\" class=\"displacy-label\" startOffset=\"50%\" side=\"left\" fill=\"currentColor\" text-anchor=\"middle\">amod</textPath>\n",
              "    </text>\n",
              "    <path class=\"displacy-arrowhead\" d=\"M3012.0,304.0 L3016.0,296.0 3008.0,296.0\" fill=\"currentColor\"/>\n",
              "</g>\n",
              "\n",
              "<g class=\"displacy-arrow\">\n",
              "    <path class=\"displacy-arc\" id=\"arrow-80d60fffce1942b2a807b5f7ef262a84-0-25\" stroke-width=\"2px\" d=\"M3168,302.0 3168,262.0 3496.5,262.0 3496.5,302.0\" fill=\"none\" stroke=\"currentColor\"/>\n",
              "    <text dy=\"1.25em\" style=\"font-size: 0.8em; letter-spacing: 1px\">\n",
              "        <textPath xlink:href=\"#arrow-80d60fffce1942b2a807b5f7ef262a84-0-25\" class=\"displacy-label\" startOffset=\"50%\" side=\"left\" fill=\"currentColor\" text-anchor=\"middle\">obl</textPath>\n",
              "    </text>\n",
              "    <path class=\"displacy-arrowhead\" d=\"M3168,304.0 L3164,296.0 3172,296.0\" fill=\"currentColor\"/>\n",
              "</g>\n",
              "\n",
              "<g class=\"displacy-arrow\">\n",
              "    <path class=\"displacy-arc\" id=\"arrow-80d60fffce1942b2a807b5f7ef262a84-0-26\" stroke-width=\"2px\" d=\"M3288,302.0 3288,282.0 3372.0,282.0 3372.0,302.0\" fill=\"none\" stroke=\"currentColor\"/>\n",
              "    <text dy=\"1.25em\" style=\"font-size: 0.8em; letter-spacing: 1px\">\n",
              "        <textPath xlink:href=\"#arrow-80d60fffce1942b2a807b5f7ef262a84-0-26\" class=\"displacy-label\" startOffset=\"50%\" side=\"left\" fill=\"currentColor\" text-anchor=\"middle\">det</textPath>\n",
              "    </text>\n",
              "    <path class=\"displacy-arrowhead\" d=\"M3288,304.0 L3284,296.0 3292,296.0\" fill=\"currentColor\"/>\n",
              "</g>\n",
              "\n",
              "<g class=\"displacy-arrow\">\n",
              "    <path class=\"displacy-arc\" id=\"arrow-80d60fffce1942b2a807b5f7ef262a84-0-27\" stroke-width=\"2px\" d=\"M3408,302.0 3408,282.0 3492.0,282.0 3492.0,302.0\" fill=\"none\" stroke=\"currentColor\"/>\n",
              "    <text dy=\"1.25em\" style=\"font-size: 0.8em; letter-spacing: 1px\">\n",
              "        <textPath xlink:href=\"#arrow-80d60fffce1942b2a807b5f7ef262a84-0-27\" class=\"displacy-label\" startOffset=\"50%\" side=\"left\" fill=\"currentColor\" text-anchor=\"middle\">nsubj</textPath>\n",
              "    </text>\n",
              "    <path class=\"displacy-arrowhead\" d=\"M3408,304.0 L3404,296.0 3412,296.0\" fill=\"currentColor\"/>\n",
              "</g>\n",
              "\n",
              "<g class=\"displacy-arrow\">\n",
              "    <path class=\"displacy-arc\" id=\"arrow-80d60fffce1942b2a807b5f7ef262a84-0-28\" stroke-width=\"2px\" d=\"M2928,302.0 2928,242.0 3501.0,242.0 3501.0,302.0\" fill=\"none\" stroke=\"currentColor\"/>\n",
              "    <text dy=\"1.25em\" style=\"font-size: 0.8em; letter-spacing: 1px\">\n",
              "        <textPath xlink:href=\"#arrow-80d60fffce1942b2a807b5f7ef262a84-0-28\" class=\"displacy-label\" startOffset=\"50%\" side=\"left\" fill=\"currentColor\" text-anchor=\"middle\">acl:relcl</textPath>\n",
              "    </text>\n",
              "    <path class=\"displacy-arrowhead\" d=\"M3501.0,304.0 L3505.0,296.0 3497.0,296.0\" fill=\"currentColor\"/>\n",
              "</g>\n",
              "\n",
              "<g class=\"displacy-arrow\">\n",
              "    <path class=\"displacy-arc\" id=\"arrow-80d60fffce1942b2a807b5f7ef262a84-0-29\" stroke-width=\"2px\" d=\"M3648,302.0 3648,282.0 3732.0,282.0 3732.0,302.0\" fill=\"none\" stroke=\"currentColor\"/>\n",
              "    <text dy=\"1.25em\" style=\"font-size: 0.8em; letter-spacing: 1px\">\n",
              "        <textPath xlink:href=\"#arrow-80d60fffce1942b2a807b5f7ef262a84-0-29\" class=\"displacy-label\" startOffset=\"50%\" side=\"left\" fill=\"currentColor\" text-anchor=\"middle\">det</textPath>\n",
              "    </text>\n",
              "    <path class=\"displacy-arrowhead\" d=\"M3648,304.0 L3644,296.0 3652,296.0\" fill=\"currentColor\"/>\n",
              "</g>\n",
              "\n",
              "<g class=\"displacy-arrow\">\n",
              "    <path class=\"displacy-arc\" id=\"arrow-80d60fffce1942b2a807b5f7ef262a84-0-30\" stroke-width=\"2px\" d=\"M3528,302.0 3528,262.0 3736.5,262.0 3736.5,302.0\" fill=\"none\" stroke=\"currentColor\"/>\n",
              "    <text dy=\"1.25em\" style=\"font-size: 0.8em; letter-spacing: 1px\">\n",
              "        <textPath xlink:href=\"#arrow-80d60fffce1942b2a807b5f7ef262a84-0-30\" class=\"displacy-label\" startOffset=\"50%\" side=\"left\" fill=\"currentColor\" text-anchor=\"middle\">obj</textPath>\n",
              "    </text>\n",
              "    <path class=\"displacy-arrowhead\" d=\"M3736.5,304.0 L3740.5,296.0 3732.5,296.0\" fill=\"currentColor\"/>\n",
              "</g>\n",
              "\n",
              "<g class=\"displacy-arrow\">\n",
              "    <path class=\"displacy-arc\" id=\"arrow-80d60fffce1942b2a807b5f7ef262a84-0-31\" stroke-width=\"2px\" d=\"M3888,302.0 3888,262.0 4096.5,262.0 4096.5,302.0\" fill=\"none\" stroke=\"currentColor\"/>\n",
              "    <text dy=\"1.25em\" style=\"font-size: 0.8em; letter-spacing: 1px\">\n",
              "        <textPath xlink:href=\"#arrow-80d60fffce1942b2a807b5f7ef262a84-0-31\" class=\"displacy-label\" startOffset=\"50%\" side=\"left\" fill=\"currentColor\" text-anchor=\"middle\">case</textPath>\n",
              "    </text>\n",
              "    <path class=\"displacy-arrowhead\" d=\"M3888,304.0 L3884,296.0 3892,296.0\" fill=\"currentColor\"/>\n",
              "</g>\n",
              "\n",
              "<g class=\"displacy-arrow\">\n",
              "    <path class=\"displacy-arc\" id=\"arrow-80d60fffce1942b2a807b5f7ef262a84-0-32\" stroke-width=\"2px\" d=\"M4008,302.0 4008,282.0 4092.0,282.0 4092.0,302.0\" fill=\"none\" stroke=\"currentColor\"/>\n",
              "    <text dy=\"1.25em\" style=\"font-size: 0.8em; letter-spacing: 1px\">\n",
              "        <textPath xlink:href=\"#arrow-80d60fffce1942b2a807b5f7ef262a84-0-32\" class=\"displacy-label\" startOffset=\"50%\" side=\"left\" fill=\"currentColor\" text-anchor=\"middle\">amod</textPath>\n",
              "    </text>\n",
              "    <path class=\"displacy-arrowhead\" d=\"M4008,304.0 L4004,296.0 4012,296.0\" fill=\"currentColor\"/>\n",
              "</g>\n",
              "\n",
              "<g class=\"displacy-arrow\">\n",
              "    <path class=\"displacy-arc\" id=\"arrow-80d60fffce1942b2a807b5f7ef262a84-0-33\" stroke-width=\"2px\" d=\"M3768,302.0 3768,242.0 4101.0,242.0 4101.0,302.0\" fill=\"none\" stroke=\"currentColor\"/>\n",
              "    <text dy=\"1.25em\" style=\"font-size: 0.8em; letter-spacing: 1px\">\n",
              "        <textPath xlink:href=\"#arrow-80d60fffce1942b2a807b5f7ef262a84-0-33\" class=\"displacy-label\" startOffset=\"50%\" side=\"left\" fill=\"currentColor\" text-anchor=\"middle\">nmod</textPath>\n",
              "    </text>\n",
              "    <path class=\"displacy-arrowhead\" d=\"M4101.0,304.0 L4105.0,296.0 4097.0,296.0\" fill=\"currentColor\"/>\n",
              "</g>\n",
              "\n",
              "<g class=\"displacy-arrow\">\n",
              "    <path class=\"displacy-arc\" id=\"arrow-80d60fffce1942b2a807b5f7ef262a84-0-34\" stroke-width=\"2px\" d=\"M4248,302.0 4248,262.0 4456.5,262.0 4456.5,302.0\" fill=\"none\" stroke=\"currentColor\"/>\n",
              "    <text dy=\"1.25em\" style=\"font-size: 0.8em; letter-spacing: 1px\">\n",
              "        <textPath xlink:href=\"#arrow-80d60fffce1942b2a807b5f7ef262a84-0-34\" class=\"displacy-label\" startOffset=\"50%\" side=\"left\" fill=\"currentColor\" text-anchor=\"middle\">case</textPath>\n",
              "    </text>\n",
              "    <path class=\"displacy-arrowhead\" d=\"M4248,304.0 L4244,296.0 4252,296.0\" fill=\"currentColor\"/>\n",
              "</g>\n",
              "\n",
              "<g class=\"displacy-arrow\">\n",
              "    <path class=\"displacy-arc\" id=\"arrow-80d60fffce1942b2a807b5f7ef262a84-0-35\" stroke-width=\"2px\" d=\"M4368,302.0 4368,282.0 4452.0,282.0 4452.0,302.0\" fill=\"none\" stroke=\"currentColor\"/>\n",
              "    <text dy=\"1.25em\" style=\"font-size: 0.8em; letter-spacing: 1px\">\n",
              "        <textPath xlink:href=\"#arrow-80d60fffce1942b2a807b5f7ef262a84-0-35\" class=\"displacy-label\" startOffset=\"50%\" side=\"left\" fill=\"currentColor\" text-anchor=\"middle\">det</textPath>\n",
              "    </text>\n",
              "    <path class=\"displacy-arrowhead\" d=\"M4368,304.0 L4364,296.0 4372,296.0\" fill=\"currentColor\"/>\n",
              "</g>\n",
              "\n",
              "<g class=\"displacy-arrow\">\n",
              "    <path class=\"displacy-arc\" id=\"arrow-80d60fffce1942b2a807b5f7ef262a84-0-36\" stroke-width=\"2px\" d=\"M4128,302.0 4128,242.0 4461.0,242.0 4461.0,302.0\" fill=\"none\" stroke=\"currentColor\"/>\n",
              "    <text dy=\"1.25em\" style=\"font-size: 0.8em; letter-spacing: 1px\">\n",
              "        <textPath xlink:href=\"#arrow-80d60fffce1942b2a807b5f7ef262a84-0-36\" class=\"displacy-label\" startOffset=\"50%\" side=\"left\" fill=\"currentColor\" text-anchor=\"middle\">nmod</textPath>\n",
              "    </text>\n",
              "    <path class=\"displacy-arrowhead\" d=\"M4461.0,304.0 L4465.0,296.0 4457.0,296.0\" fill=\"currentColor\"/>\n",
              "</g>\n",
              "\n",
              "<g class=\"displacy-arrow\">\n",
              "    <path class=\"displacy-arc\" id=\"arrow-80d60fffce1942b2a807b5f7ef262a84-0-37\" stroke-width=\"2px\" d=\"M3528,302.0 3528,222.0 4585.5,222.0 4585.5,302.0\" fill=\"none\" stroke=\"currentColor\"/>\n",
              "    <text dy=\"1.25em\" style=\"font-size: 0.8em; letter-spacing: 1px\">\n",
              "        <textPath xlink:href=\"#arrow-80d60fffce1942b2a807b5f7ef262a84-0-37\" class=\"displacy-label\" startOffset=\"50%\" side=\"left\" fill=\"currentColor\" text-anchor=\"middle\">advcl</textPath>\n",
              "    </text>\n",
              "    <path class=\"displacy-arrowhead\" d=\"M4585.5,304.0 L4589.5,296.0 4581.5,296.0\" fill=\"currentColor\"/>\n",
              "</g>\n",
              "\n",
              "<g class=\"displacy-arrow\">\n",
              "    <path class=\"displacy-arc\" id=\"arrow-80d60fffce1942b2a807b5f7ef262a84-0-38\" stroke-width=\"2px\" d=\"M4728,302.0 4728,262.0 4936.5,262.0 4936.5,302.0\" fill=\"none\" stroke=\"currentColor\"/>\n",
              "    <text dy=\"1.25em\" style=\"font-size: 0.8em; letter-spacing: 1px\">\n",
              "        <textPath xlink:href=\"#arrow-80d60fffce1942b2a807b5f7ef262a84-0-38\" class=\"displacy-label\" startOffset=\"50%\" side=\"left\" fill=\"currentColor\" text-anchor=\"middle\">det</textPath>\n",
              "    </text>\n",
              "    <path class=\"displacy-arrowhead\" d=\"M4728,304.0 L4724,296.0 4732,296.0\" fill=\"currentColor\"/>\n",
              "</g>\n",
              "\n",
              "<g class=\"displacy-arrow\">\n",
              "    <path class=\"displacy-arc\" id=\"arrow-80d60fffce1942b2a807b5f7ef262a84-0-39\" stroke-width=\"2px\" d=\"M4848,302.0 4848,282.0 4932.0,282.0 4932.0,302.0\" fill=\"none\" stroke=\"currentColor\"/>\n",
              "    <text dy=\"1.25em\" style=\"font-size: 0.8em; letter-spacing: 1px\">\n",
              "        <textPath xlink:href=\"#arrow-80d60fffce1942b2a807b5f7ef262a84-0-39\" class=\"displacy-label\" startOffset=\"50%\" side=\"left\" fill=\"currentColor\" text-anchor=\"middle\">amod</textPath>\n",
              "    </text>\n",
              "    <path class=\"displacy-arrowhead\" d=\"M4848,304.0 L4844,296.0 4852,296.0\" fill=\"currentColor\"/>\n",
              "</g>\n",
              "\n",
              "<g class=\"displacy-arrow\">\n",
              "    <path class=\"displacy-arc\" id=\"arrow-80d60fffce1942b2a807b5f7ef262a84-0-40\" stroke-width=\"2px\" d=\"M4608,302.0 4608,242.0 4941.0,242.0 4941.0,302.0\" fill=\"none\" stroke=\"currentColor\"/>\n",
              "    <text dy=\"1.25em\" style=\"font-size: 0.8em; letter-spacing: 1px\">\n",
              "        <textPath xlink:href=\"#arrow-80d60fffce1942b2a807b5f7ef262a84-0-40\" class=\"displacy-label\" startOffset=\"50%\" side=\"left\" fill=\"currentColor\" text-anchor=\"middle\">obj</textPath>\n",
              "    </text>\n",
              "    <path class=\"displacy-arrowhead\" d=\"M4941.0,304.0 L4945.0,296.0 4937.0,296.0\" fill=\"currentColor\"/>\n",
              "</g>\n",
              "\n",
              "<g class=\"displacy-arrow\">\n",
              "    <path class=\"displacy-arc\" id=\"arrow-80d60fffce1942b2a807b5f7ef262a84-0-41\" stroke-width=\"2px\" d=\"M5088,302.0 5088,262.0 5296.5,262.0 5296.5,302.0\" fill=\"none\" stroke=\"currentColor\"/>\n",
              "    <text dy=\"1.25em\" style=\"font-size: 0.8em; letter-spacing: 1px\">\n",
              "        <textPath xlink:href=\"#arrow-80d60fffce1942b2a807b5f7ef262a84-0-41\" class=\"displacy-label\" startOffset=\"50%\" side=\"left\" fill=\"currentColor\" text-anchor=\"middle\">case</textPath>\n",
              "    </text>\n",
              "    <path class=\"displacy-arrowhead\" d=\"M5088,304.0 L5084,296.0 5092,296.0\" fill=\"currentColor\"/>\n",
              "</g>\n",
              "\n",
              "<g class=\"displacy-arrow\">\n",
              "    <path class=\"displacy-arc\" id=\"arrow-80d60fffce1942b2a807b5f7ef262a84-0-42\" stroke-width=\"2px\" d=\"M5208,302.0 5208,282.0 5292.0,282.0 5292.0,302.0\" fill=\"none\" stroke=\"currentColor\"/>\n",
              "    <text dy=\"1.25em\" style=\"font-size: 0.8em; letter-spacing: 1px\">\n",
              "        <textPath xlink:href=\"#arrow-80d60fffce1942b2a807b5f7ef262a84-0-42\" class=\"displacy-label\" startOffset=\"50%\" side=\"left\" fill=\"currentColor\" text-anchor=\"middle\">det</textPath>\n",
              "    </text>\n",
              "    <path class=\"displacy-arrowhead\" d=\"M5208,304.0 L5204,296.0 5212,296.0\" fill=\"currentColor\"/>\n",
              "</g>\n",
              "\n",
              "<g class=\"displacy-arrow\">\n",
              "    <path class=\"displacy-arc\" id=\"arrow-80d60fffce1942b2a807b5f7ef262a84-0-43\" stroke-width=\"2px\" d=\"M4968,302.0 4968,242.0 5301.0,242.0 5301.0,302.0\" fill=\"none\" stroke=\"currentColor\"/>\n",
              "    <text dy=\"1.25em\" style=\"font-size: 0.8em; letter-spacing: 1px\">\n",
              "        <textPath xlink:href=\"#arrow-80d60fffce1942b2a807b5f7ef262a84-0-43\" class=\"displacy-label\" startOffset=\"50%\" side=\"left\" fill=\"currentColor\" text-anchor=\"middle\">nmod</textPath>\n",
              "    </text>\n",
              "    <path class=\"displacy-arrowhead\" d=\"M5301.0,304.0 L5305.0,296.0 5297.0,296.0\" fill=\"currentColor\"/>\n",
              "</g>\n",
              "\n",
              "<g class=\"displacy-arrow\">\n",
              "    <path class=\"displacy-arc\" id=\"arrow-80d60fffce1942b2a807b5f7ef262a84-0-44\" stroke-width=\"2px\" d=\"M1248,302.0 1248,202.0 5430.0,202.0 5430.0,302.0\" fill=\"none\" stroke=\"currentColor\"/>\n",
              "    <text dy=\"1.25em\" style=\"font-size: 0.8em; letter-spacing: 1px\">\n",
              "        <textPath xlink:href=\"#arrow-80d60fffce1942b2a807b5f7ef262a84-0-44\" class=\"displacy-label\" startOffset=\"50%\" side=\"left\" fill=\"currentColor\" text-anchor=\"middle\">advcl</textPath>\n",
              "    </text>\n",
              "    <path class=\"displacy-arrowhead\" d=\"M5430.0,304.0 L5434.0,296.0 5426.0,296.0\" fill=\"currentColor\"/>\n",
              "</g>\n",
              "\n",
              "<g class=\"displacy-arrow\">\n",
              "    <path class=\"displacy-arc\" id=\"arrow-80d60fffce1942b2a807b5f7ef262a84-0-45\" stroke-width=\"2px\" d=\"M5448,302.0 5448,282.0 5532.0,282.0 5532.0,302.0\" fill=\"none\" stroke=\"currentColor\"/>\n",
              "    <text dy=\"1.25em\" style=\"font-size: 0.8em; letter-spacing: 1px\">\n",
              "        <textPath xlink:href=\"#arrow-80d60fffce1942b2a807b5f7ef262a84-0-45\" class=\"displacy-label\" startOffset=\"50%\" side=\"left\" fill=\"currentColor\" text-anchor=\"middle\">obj</textPath>\n",
              "    </text>\n",
              "    <path class=\"displacy-arrowhead\" d=\"M5532.0,304.0 L5536.0,296.0 5528.0,296.0\" fill=\"currentColor\"/>\n",
              "</g>\n",
              "</svg></span>"
            ]
          },
          "metadata": {}
        }
      ]
    },
    {
      "cell_type": "markdown",
      "source": [
        "## ***9. Managing Pipelines***"
      ],
      "metadata": {
        "id": "JEeZqGHWwKit"
      }
    },
    {
      "cell_type": "code",
      "source": [
        "print(f'Default Pipeline: ', nlp.pipe_names)"
      ],
      "metadata": {
        "colab": {
          "base_uri": "https://localhost:8080/"
        },
        "id": "Pb7kPWuFwzuX",
        "outputId": "95484526-f0fb-43bb-f678-996948d7edfe"
      },
      "execution_count": 42,
      "outputs": [
        {
          "output_type": "stream",
          "name": "stdout",
          "text": [
            "Default Pipeline:  ['tok2vec', 'morphologizer', 'parser', 'lemmatizer', 'attribute_ruler', 'ner']\n"
          ]
        }
      ]
    },
    {
      "cell_type": "code",
      "source": [
        "# Removing a process\n",
        "nlp.remove_pipe('tok2vec')\n",
        "print(f'Default Pipeline: ', nlp.pipe_names)"
      ],
      "metadata": {
        "colab": {
          "base_uri": "https://localhost:8080/"
        },
        "id": "9hyuvoEGxKDG",
        "outputId": "bf7314dd-d62c-4d56-f066-a7bc55f8076d"
      },
      "execution_count": 43,
      "outputs": [
        {
          "output_type": "stream",
          "name": "stdout",
          "text": [
            "Default Pipeline:  ['morphologizer', 'parser', 'lemmatizer', 'attribute_ruler', 'ner']\n"
          ]
        }
      ]
    },
    {
      "cell_type": "code",
      "source": [
        "# Adding a process\n",
        "nlp.add_pipe('tok2vec', after='morphologizer')\n",
        "print(f'Default Pipeline: ', nlp.pipe_names)"
      ],
      "metadata": {
        "colab": {
          "base_uri": "https://localhost:8080/"
        },
        "id": "FEMKOyjLxlo4",
        "outputId": "98124041-735e-41b9-a7d0-146e2395faf3"
      },
      "execution_count": 44,
      "outputs": [
        {
          "output_type": "stream",
          "name": "stdout",
          "text": [
            "Default Pipeline:  ['morphologizer', 'tok2vec', 'parser', 'lemmatizer', 'attribute_ruler', 'ner']\n"
          ]
        }
      ]
    }
  ]
}