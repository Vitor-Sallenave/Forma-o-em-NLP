{
  "cells": [
    {
      "cell_type": "markdown",
      "metadata": {
        "id": "view-in-github",
        "colab_type": "text"
      },
      "source": [
        "<a href=\"https://colab.research.google.com/github/Vitor-Sallenave/Formacao-em-NLP/blob/main/Spark/NLP_Spark.ipynb\" target=\"_parent\"><img src=\"https://colab.research.google.com/assets/colab-badge.svg\" alt=\"Open In Colab\"/></a>"
      ]
    },
    {
      "cell_type": "markdown",
      "source": [
        "## ***⚠️ The following code must be runned in a big data plataform! Use the software Databricks notebooks to help you on it:***\n",
        "\n",
        "<br>\n",
        "\n",
        "## [Databricks Community Edition](https://community.cloud.databricks.com/login.html)"
      ],
      "metadata": {
        "id": "UEM340kZgkw-"
      }
    },
    {
      "cell_type": "code",
      "source": [
        "!pip install pyspark"
      ],
      "metadata": {
        "id": "qGLunJJ2cMJo"
      },
      "execution_count": null,
      "outputs": []
    },
    {
      "cell_type": "code",
      "execution_count": 3,
      "metadata": {
        "application/vnd.databricks.v1+cell": {
          "cellMetadata": {
            "byteLimit": 2048000,
            "rowLimit": 10000
          },
          "inputWidgets": {},
          "nuid": "3205a423-e543-4d6d-b666-b23a5c664a75",
          "showTitle": false,
          "title": ""
        },
        "id": "NXYyxjlfbzKr"
      },
      "outputs": [],
      "source": [
        "from pyspark.sql import SparkSession\n",
        "from pyspark.ml.classification import RandomForestClassifier\n",
        "from pyspark.ml.feature import Tokenizer, StringIndexer, Word2Vec\n",
        "from pyspark.ml.evaluation import BinaryClassificationEvaluator\n",
        "# This object \"spark\" is the session name\n",
        "spark = SparkSession.builder.appName(\"nlp\").getOrCreate()"
      ]
    },
    {
      "cell_type": "code",
      "execution_count": null,
      "metadata": {
        "application/vnd.databricks.v1+cell": {
          "cellMetadata": {
            "byteLimit": 2048000,
            "rowLimit": 10000
          },
          "inputWidgets": {},
          "nuid": "a9608be9-afe6-4dc6-8d27-2e0de6119720",
          "showTitle": false,
          "title": ""
        },
        "id": "JToTzpuUbzKt"
      },
      "outputs": [],
      "source": [
        "# Here, we are doing a SQL query from the table \"spam\"\n",
        "spam = spark.sql(\"select * from spam\")"
      ]
    },
    {
      "cell_type": "code",
      "execution_count": null,
      "metadata": {
        "application/vnd.databricks.v1+cell": {
          "cellMetadata": {
            "byteLimit": 2048000,
            "rowLimit": 10000
          },
          "inputWidgets": {},
          "nuid": "3af57f08-f186-465d-9cea-00830eee02ea",
          "showTitle": false,
          "title": ""
        },
        "id": "ZyTSAqvybzKt",
        "outputId": "b4a63223-ec19-42b8-c21f-5ad2212375fa"
      },
      "outputs": [
        {
          "output_type": "stream",
          "name": "stdout",
          "text": [
            "+--------+--------------------+\n|Category|             Message|\n+--------+--------------------+\n|     ham|Go until jurong p...|\n|     ham|Ok lar... Joking ...|\n|    spam|Free entry in 2 a...|\n|     ham|U dun say so earl...|\n|     ham|Nah I don't think...|\n+--------+--------------------+\nonly showing top 5 rows\n\n"
          ]
        }
      ],
      "source": [
        "# Showing the table\n",
        "spam.show(5, truncate=True)"
      ]
    },
    {
      "cell_type": "code",
      "execution_count": null,
      "metadata": {
        "application/vnd.databricks.v1+cell": {
          "cellMetadata": {
            "byteLimit": 2048000,
            "rowLimit": 10000
          },
          "inputWidgets": {},
          "nuid": "67792de2-f28d-4b8c-8da2-26193a734d25",
          "showTitle": false,
          "title": ""
        },
        "id": "5KHt9lKsbzKu",
        "outputId": "35f07b09-df1d-4fec-8669-1be136a649ec"
      },
      "outputs": [
        {
          "output_type": "stream",
          "name": "stdout",
          "text": [
            "+--------+--------------------+-------------+\n|Category|             Message|CategoryIndex|\n+--------+--------------------+-------------+\n|     ham|Go until jurong p...|          0.0|\n|     ham|Ok lar... Joking ...|          0.0|\n|    spam|Free entry in 2 a...|          1.0|\n|     ham|U dun say so earl...|          0.0|\n|     ham|Nah I don't think...|          0.0|\n+--------+--------------------+-------------+\nonly showing top 5 rows\n\n"
          ]
        }
      ],
      "source": [
        "# Transforming the category column into numbers\n",
        "stringIdx = StringIndexer(inputCol=\"Category\", outputCol=\"CategoryIndex\")\n",
        "spam_indexed = stringIdx.fit(spam).transform(spam)\n",
        "spam_indexed.show(5)"
      ]
    },
    {
      "cell_type": "code",
      "execution_count": null,
      "metadata": {
        "application/vnd.databricks.v1+cell": {
          "cellMetadata": {
            "byteLimit": 2048000,
            "rowLimit": 10000
          },
          "inputWidgets": {},
          "nuid": "a30bd8ee-dbef-4249-a6c0-b6b8c4d64a64",
          "showTitle": false,
          "title": ""
        },
        "id": "19Nxc4tsbzKu",
        "outputId": "130c0c5d-12cd-46fb-adbc-83dc3dccb11f"
      },
      "outputs": [
        {
          "output_type": "stream",
          "name": "stdout",
          "text": [
            "+--------+--------------------+-------------+--------------------+\n|Category|             Message|CategoryIndex|       MessageTokens|\n+--------+--------------------+-------------+--------------------+\n|     ham|Go until jurong p...|          0.0|[go, until, juron...|\n|     ham|Ok lar... Joking ...|          0.0|[ok, lar..., joki...|\n|    spam|Free entry in 2 a...|          1.0|[free, entry, in,...|\n|     ham|U dun say so earl...|          0.0|[u, dun, say, so,...|\n|     ham|Nah I don't think...|          0.0|[nah, i, don't, t...|\n+--------+--------------------+-------------+--------------------+\nonly showing top 5 rows\n\n"
          ]
        }
      ],
      "source": [
        "# Creating tokens\n",
        "tk = Tokenizer(inputCol=\"Message\", outputCol=\"MessageTokens\")\n",
        "spam_tokens = tk.transform(spam_indexed)\n",
        "spam_tokens.show(5)"
      ]
    },
    {
      "cell_type": "code",
      "execution_count": null,
      "metadata": {
        "application/vnd.databricks.v1+cell": {
          "cellMetadata": {
            "byteLimit": 2048000,
            "rowLimit": 10000
          },
          "inputWidgets": {},
          "nuid": "ecd7353c-1cc7-4402-8a4c-97dbdbd3e706",
          "showTitle": false,
          "title": ""
        },
        "id": "N3AoBVo0bzKu",
        "outputId": "b084130a-4285-4827-cb8a-ca104cb6f88c"
      },
      "outputs": [
        {
          "output_type": "stream",
          "name": "stdout",
          "text": [
            "+--------------------+\n|       MessageTokens|\n+--------------------+\n|[go, until, juron...|\n|[ok, lar..., joki...|\n|[free, entry, in,...|\n|[u, dun, say, so,...|\n|[nah, i, don't, t...|\n+--------------------+\nonly showing top 5 rows\n\n"
          ]
        }
      ],
      "source": [
        "# Selecting a column\n",
        "spam_tokens.select(\"MessageTokens\").show(5)"
      ]
    },
    {
      "cell_type": "code",
      "execution_count": null,
      "metadata": {
        "application/vnd.databricks.v1+cell": {
          "cellMetadata": {},
          "inputWidgets": {},
          "nuid": "22f81ad3-b07a-465c-8b0a-77d252eabe1e",
          "showTitle": false,
          "title": ""
        },
        "id": "N6rqV5pfbzKv"
      },
      "outputs": [],
      "source": [
        "# Creating the vectors\n",
        "word2vec = Word2Vec(inputCol=\"MessageTokens\", outputCol=\"Messages2Vec\")\n",
        "spam_vectors = word2vec.fit(spam_tokens).transform(spam_tokens)\n",
        "spam_vectors.show(5)"
      ]
    },
    {
      "cell_type": "code",
      "execution_count": null,
      "metadata": {
        "application/vnd.databricks.v1+cell": {
          "cellMetadata": {},
          "inputWidgets": {},
          "nuid": "17c85b02-7525-4182-bf1a-4b473dc4e289",
          "showTitle": false,
          "title": ""
        },
        "id": "yoo2Ix7fbzKv"
      },
      "outputs": [],
      "source": [
        "spam_tokens.select(\"Messages2Vec\").show(5)"
      ]
    },
    {
      "cell_type": "code",
      "execution_count": null,
      "metadata": {
        "application/vnd.databricks.v1+cell": {
          "cellMetadata": {},
          "inputWidgets": {},
          "nuid": "92146016-d506-4004-8159-a243ee438b51",
          "showTitle": false,
          "title": ""
        },
        "id": "MsIljDaCbzKv"
      },
      "outputs": [],
      "source": [
        "# Spliting the data into train and test\n",
        "spam_train, spam_test = spam_vectors.randomSplit([0.7, 0.3])"
      ]
    },
    {
      "cell_type": "code",
      "execution_count": null,
      "metadata": {
        "application/vnd.databricks.v1+cell": {
          "cellMetadata": {},
          "inputWidgets": {},
          "nuid": "769ec962-a5a1-4022-bd53-5c88ebe0b410",
          "showTitle": false,
          "title": ""
        },
        "id": "S4bsOUW-bzKv"
      },
      "outputs": [],
      "source": [
        "# Creating the model\n",
        "rf = RandomForest(labelCol=\"CategoryIndex\", featuresCol=\"Messages2Vec\", numTrees=500)\n",
        "rf.fit(spam_train)"
      ]
    },
    {
      "cell_type": "code",
      "execution_count": null,
      "metadata": {
        "application/vnd.databricks.v1+cell": {
          "cellMetadata": {},
          "inputWidgets": {},
          "nuid": "b1279fe3-a807-4c6e-872e-88562906cd89",
          "showTitle": false,
          "title": ""
        },
        "id": "lwLU87A6bzKv"
      },
      "outputs": [],
      "source": [
        "predictions = rf.transform(spam_test)\n",
        "predictions.show(10)"
      ]
    },
    {
      "cell_type": "code",
      "execution_count": null,
      "metadata": {
        "application/vnd.databricks.v1+cell": {
          "cellMetadata": {},
          "inputWidgets": {},
          "nuid": "e0030398-0659-4d6d-8d9c-e6c23ffa20e9",
          "showTitle": false,
          "title": ""
        },
        "id": "3YAPJuovbzKv"
      },
      "outputs": [],
      "source": [
        "# Evaluating the model\n",
        "bce = BinaryClassificationEvaluator(rawPredictionCol=\"prediction\",\n",
        "                                        labelCol=\"CategoryIndex\",\n",
        "                                        metricName=\"areaUnderROC\")\n",
        "result = bce.evaluate(predictions)\n",
        "print(result)"
      ]
    }
  ],
  "metadata": {
    "application/vnd.databricks.v1+notebook": {
      "dashboards": [],
      "language": "python",
      "notebookMetadata": {
        "pythonIndentUnit": 4
      },
      "notebookName": "NLP Spark",
      "widgets": {}
    },
    "colab": {
      "provenance": [],
      "include_colab_link": true
    },
    "language_info": {
      "name": "python"
    },
    "kernelspec": {
      "name": "python3",
      "display_name": "Python 3"
    }
  },
  "nbformat": 4,
  "nbformat_minor": 0
}