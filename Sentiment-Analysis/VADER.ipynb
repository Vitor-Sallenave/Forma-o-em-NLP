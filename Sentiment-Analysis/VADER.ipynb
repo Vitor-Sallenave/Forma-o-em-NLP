{
  "nbformat": 4,
  "nbformat_minor": 0,
  "metadata": {
    "colab": {
      "provenance": [],
      "authorship_tag": "ABX9TyMMrIPoqMet+qNEdCLlUt3k",
      "include_colab_link": true
    },
    "kernelspec": {
      "name": "python3",
      "display_name": "Python 3"
    },
    "language_info": {
      "name": "python"
    }
  },
  "cells": [
    {
      "cell_type": "markdown",
      "metadata": {
        "id": "view-in-github",
        "colab_type": "text"
      },
      "source": [
        "<a href=\"https://colab.research.google.com/github/Vitor-Sallenave/Formacao-em-NLP/blob/main/Sentiment-Analysis/VADER.ipynb\" target=\"_parent\"><img src=\"https://colab.research.google.com/assets/colab-badge.svg\" alt=\"Open In Colab\"/></a>"
      ]
    },
    {
      "cell_type": "code",
      "source": [
        "!pip install translate"
      ],
      "metadata": {
        "id": "D1cR9FOJyViF"
      },
      "execution_count": null,
      "outputs": []
    },
    {
      "cell_type": "code",
      "execution_count": null,
      "metadata": {
        "colab": {
          "base_uri": "https://localhost:8080/"
        },
        "id": "QqYkCiQAljF0",
        "outputId": "73f08980-d9c6-4cd0-c203-e05b55e33bb5"
      },
      "outputs": [
        {
          "output_type": "stream",
          "name": "stderr",
          "text": [
            "[nltk_data] Downloading package vader_lexicon to /root/nltk_data...\n",
            "[nltk_data]   Package vader_lexicon is already up-to-date!\n"
          ]
        }
      ],
      "source": [
        "import nltk\n",
        "nltk.download('vader_lexicon')\n",
        "from textblob import TextBlob\n",
        "from translate import Translator"
      ]
    },
    {
      "cell_type": "code",
      "source": [
        "from nltk.sentiment.vader import SentimentIntensityAnalyzer"
      ],
      "metadata": {
        "id": "XDdcwCtAsuGG"
      },
      "execution_count": null,
      "outputs": []
    },
    {
      "cell_type": "code",
      "source": [
        "# Model\n",
        "sia = SentimentIntensityAnalyzer()"
      ],
      "metadata": {
        "id": "M4nZNpa-upOR"
      },
      "execution_count": null,
      "outputs": []
    },
    {
      "cell_type": "code",
      "source": [
        "# Example 1: literality\n",
        "sample = 'I hate this product!'\n",
        "print(sia.polarity_scores(sample))"
      ],
      "metadata": {
        "colab": {
          "base_uri": "https://localhost:8080/"
        },
        "id": "7_JJrPS2tJ3q",
        "outputId": "fca4305e-3d16-4d02-c9f2-18da52882533"
      },
      "execution_count": null,
      "outputs": [
        {
          "output_type": "stream",
          "name": "stdout",
          "text": [
            "{'neg': 0.666, 'neu': 0.334, 'pos': 0.0, 'compound': -0.6114}\n"
          ]
        }
      ]
    },
    {
      "cell_type": "code",
      "source": [
        "# Example 2: both emotions\n",
        "sample = 'I hate this product! However, there are some good points in it'\n",
        "print(sia.polarity_scores(sample))"
      ],
      "metadata": {
        "colab": {
          "base_uri": "https://localhost:8080/"
        },
        "id": "mABhFRdHvB8h",
        "outputId": "8820bee6-437c-4130-8aac-522d18a4b69a"
      },
      "execution_count": null,
      "outputs": [
        {
          "output_type": "stream",
          "name": "stdout",
          "text": [
            "{'neg': 0.251, 'neu': 0.566, 'pos': 0.182, 'compound': -0.2714}\n"
          ]
        }
      ]
    },
    {
      "cell_type": "code",
      "source": [
        "# Example 3: neutrality\n",
        "sample = \"I don't even know wether this movie is good or not\"\n",
        "print(max(sia.polarity_scores(sample)))"
      ],
      "metadata": {
        "colab": {
          "base_uri": "https://localhost:8080/"
        },
        "id": "IDMbcbBBv1oh",
        "outputId": "3481f42b-0891-4e4b-bd71-dc5985c5e214"
      },
      "execution_count": null,
      "outputs": [
        {
          "output_type": "stream",
          "name": "stdout",
          "text": [
            "pos\n"
          ]
        }
      ]
    },
    {
      "cell_type": "code",
      "source": [
        "# Example 4: emoticons\n",
        "sample = ':)'\n",
        "r = sia.polarity_scores(sample)\n",
        "print(r)"
      ],
      "metadata": {
        "colab": {
          "base_uri": "https://localhost:8080/"
        },
        "id": "0zx-Sf--wGoV",
        "outputId": "a5c68019-23be-43e4-bd4c-2eed84ebf061"
      },
      "execution_count": null,
      "outputs": [
        {
          "output_type": "stream",
          "name": "stdout",
          "text": [
            "{'neg': 0.0, 'neu': 0.0, 'pos': 1.0, 'compound': 0.4588}\n"
          ]
        }
      ]
    },
    {
      "cell_type": "code",
      "source": [
        "# Type of the element returned\n",
        "print(type(r))\n",
        "print(r['compound'])"
      ],
      "metadata": {
        "colab": {
          "base_uri": "https://localhost:8080/"
        },
        "id": "lAP_SSRiwU65",
        "outputId": "ca599be7-c1c0-420f-c710-4f056eb5873f"
      },
      "execution_count": null,
      "outputs": [
        {
          "output_type": "stream",
          "name": "stdout",
          "text": [
            "<class 'dict'>\n",
            "0.4588\n"
          ]
        }
      ]
    },
    {
      "cell_type": "code",
      "source": [
        "# Polarity and subjectivity\n",
        "r = TextBlob('the movie was awesome!')\n",
        "r.sentiment"
      ],
      "metadata": {
        "colab": {
          "base_uri": "https://localhost:8080/"
        },
        "id": "bSBFp24gwu2m",
        "outputId": "5f3b44c5-320f-4fb7-ec92-bd97e8363820"
      },
      "execution_count": null,
      "outputs": [
        {
          "output_type": "execute_result",
          "data": {
            "text/plain": [
              "Sentiment(polarity=1.0, subjectivity=1.0)"
            ]
          },
          "metadata": {},
          "execution_count": 19
        }
      ]
    },
    {
      "cell_type": "code",
      "source": [
        "# Analyzing a movie in portuguese\n",
        "sample = 'O atendimento foi péssimo!'\n",
        "translator = Translator(from_lang='pt', to_lang='en')\n",
        "translation = translator.translate(sample)\n",
        "print(translation)"
      ],
      "metadata": {
        "colab": {
          "base_uri": "https://localhost:8080/"
        },
        "id": "D9PywzBDx7AL",
        "outputId": "92d3cc3e-6524-43f8-a956-66b34c0c7620"
      },
      "execution_count": null,
      "outputs": [
        {
          "output_type": "stream",
          "name": "stdout",
          "text": [
            "The service was terrible!\n"
          ]
        }
      ]
    },
    {
      "cell_type": "code",
      "source": [
        "r = sia.polarity_scores(translation)\n",
        "print(r)"
      ],
      "metadata": {
        "colab": {
          "base_uri": "https://localhost:8080/"
        },
        "id": "pErXtd3RzCRQ",
        "outputId": "37ff19c4-1080-4af6-c6df-ab865f519349"
      },
      "execution_count": null,
      "outputs": [
        {
          "output_type": "stream",
          "name": "stdout",
          "text": [
            "{'neg': 0.531, 'neu': 0.469, 'pos': 0.0, 'compound': -0.5255}\n"
          ]
        }
      ]
    }
  ]
}