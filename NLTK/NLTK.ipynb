{
  "nbformat": 4,
  "nbformat_minor": 0,
  "metadata": {
    "colab": {
      "provenance": [],
      "authorship_tag": "ABX9TyOtaFUcAC2n5Z3mrhZR3Vza",
      "include_colab_link": true
    },
    "kernelspec": {
      "name": "python3",
      "display_name": "Python 3"
    },
    "language_info": {
      "name": "python"
    }
  },
  "cells": [
    {
      "cell_type": "markdown",
      "metadata": {
        "id": "view-in-github",
        "colab_type": "text"
      },
      "source": [
        "<a href=\"https://colab.research.google.com/github/Vitor-Sallenave/Formacao-em-NLP/blob/main/NLTK/NLTK.ipynb\" target=\"_parent\"><img src=\"https://colab.research.google.com/assets/colab-badge.svg\" alt=\"Open In Colab\"/></a>"
      ]
    },
    {
      "cell_type": "code",
      "execution_count": 235,
      "metadata": {
        "id": "CCvg40ey_ab8"
      },
      "outputs": [],
      "source": [
        "import nltk"
      ]
    },
    {
      "cell_type": "code",
      "source": [
        "from nltk.tokenize import word_tokenize, sent_tokenize\n",
        "from nltk.corpus import stopwords\n",
        "from nltk.stem import PorterStemmer, SnowballStemmer, LancasterStemmer, WordNetLemmatizer\n",
        "from nltk.tag import pos_tag, pos_tag_sents\n",
        "import string"
      ],
      "metadata": {
        "id": "6UWtgYN2_rU7"
      },
      "execution_count": 236,
      "outputs": []
    },
    {
      "cell_type": "code",
      "source": [
        "# Downloading the packages\n",
        "nltk.download('stopwords')\n",
        "nltk.download('punkt')\n",
        "nltk.download('tagsets')\n",
        "nltk.download('wordnet')\n",
        "nltk.download('averaged_perceptron_tagger')\n",
        "nltk.download('maxent_ne_chunker')\n",
        "nltk.download('words')"
      ],
      "metadata": {
        "colab": {
          "base_uri": "https://localhost:8080/"
        },
        "id": "ePR-i2Z0uYOw",
        "outputId": "f77b1d41-54de-4bb3-d0dd-1ae09e5b7250"
      },
      "execution_count": 237,
      "outputs": [
        {
          "output_type": "stream",
          "name": "stderr",
          "text": [
            "[nltk_data] Downloading package stopwords to /root/nltk_data...\n",
            "[nltk_data]   Package stopwords is already up-to-date!\n",
            "[nltk_data] Downloading package punkt to /root/nltk_data...\n",
            "[nltk_data]   Package punkt is already up-to-date!\n",
            "[nltk_data] Downloading package tagsets to /root/nltk_data...\n",
            "[nltk_data]   Package tagsets is already up-to-date!\n",
            "[nltk_data] Downloading package wordnet to /root/nltk_data...\n",
            "[nltk_data]   Package wordnet is already up-to-date!\n",
            "[nltk_data] Downloading package averaged_perceptron_tagger to\n",
            "[nltk_data]     /root/nltk_data...\n",
            "[nltk_data]   Package averaged_perceptron_tagger is already up-to-\n",
            "[nltk_data]       date!\n",
            "[nltk_data] Downloading package maxent_ne_chunker to\n",
            "[nltk_data]     /root/nltk_data...\n",
            "[nltk_data]   Package maxent_ne_chunker is already up-to-date!\n",
            "[nltk_data] Downloading package words to /root/nltk_data...\n",
            "[nltk_data]   Package words is already up-to-date!\n"
          ]
        },
        {
          "output_type": "execute_result",
          "data": {
            "text/plain": [
              "True"
            ]
          },
          "metadata": {},
          "execution_count": 237
        }
      ]
    },
    {
      "cell_type": "markdown",
      "source": [
        "## ***1. Tokenizing***"
      ],
      "metadata": {
        "id": "Pzd_YX0Fxg7n"
      }
    },
    {
      "cell_type": "code",
      "source": [
        "sentence = 'A receita da empresa Adidas sofreu uma queda nos últimos dias. Houve uma diminuição nas vendas da Adidas'"
      ],
      "metadata": {
        "id": "Hbn7AFhl_rmx"
      },
      "execution_count": 238,
      "outputs": []
    },
    {
      "cell_type": "code",
      "source": [
        "tokens_sent = sent_tokenize(sentence, language='portuguese')\n",
        "tokens_sent"
      ],
      "metadata": {
        "colab": {
          "base_uri": "https://localhost:8080/"
        },
        "id": "-PP3UqKbxZUX",
        "outputId": "59f1ac4d-a68c-476f-dd13-147fe03771fa"
      },
      "execution_count": 239,
      "outputs": [
        {
          "output_type": "execute_result",
          "data": {
            "text/plain": [
              "['A receita da empresa Adidas sofreu uma queda nos últimos dias.',\n",
              " 'Houve uma diminuição nas vendas da Adidas']"
            ]
          },
          "metadata": {},
          "execution_count": 239
        }
      ]
    },
    {
      "cell_type": "code",
      "source": [
        "tokens = word_tokenize(sentence)\n",
        "tokens"
      ],
      "metadata": {
        "id": "2C8MIJ45B48r",
        "colab": {
          "base_uri": "https://localhost:8080/"
        },
        "outputId": "8fa5662c-02fc-4833-f62b-216ab278bd5a"
      },
      "execution_count": 240,
      "outputs": [
        {
          "output_type": "execute_result",
          "data": {
            "text/plain": [
              "['A',\n",
              " 'receita',\n",
              " 'da',\n",
              " 'empresa',\n",
              " 'Adidas',\n",
              " 'sofreu',\n",
              " 'uma',\n",
              " 'queda',\n",
              " 'nos',\n",
              " 'últimos',\n",
              " 'dias',\n",
              " '.',\n",
              " 'Houve',\n",
              " 'uma',\n",
              " 'diminuição',\n",
              " 'nas',\n",
              " 'vendas',\n",
              " 'da',\n",
              " 'Adidas']"
            ]
          },
          "metadata": {},
          "execution_count": 240
        }
      ]
    },
    {
      "cell_type": "markdown",
      "source": [
        "## ***2. Stopwords***"
      ],
      "metadata": {
        "id": "GKiUsyjIxk2T"
      }
    },
    {
      "cell_type": "code",
      "source": [
        "# Showing the default stopwords\n",
        "stop_words = set(stopwords.words('portuguese'))\n",
        "print(len(stop_words))\n",
        "stop_words"
      ],
      "metadata": {
        "colab": {
          "base_uri": "https://localhost:8080/"
        },
        "id": "AlMP8vtK6i-0",
        "outputId": "dd90e11a-9ebf-4b10-f9d3-b92f563bad4b"
      },
      "execution_count": 241,
      "outputs": [
        {
          "output_type": "stream",
          "name": "stdout",
          "text": [
            "207\n"
          ]
        },
        {
          "output_type": "execute_result",
          "data": {
            "text/plain": [
              "{'a',\n",
              " 'ao',\n",
              " 'aos',\n",
              " 'aquela',\n",
              " 'aquelas',\n",
              " 'aquele',\n",
              " 'aqueles',\n",
              " 'aquilo',\n",
              " 'as',\n",
              " 'até',\n",
              " 'com',\n",
              " 'como',\n",
              " 'da',\n",
              " 'das',\n",
              " 'de',\n",
              " 'dela',\n",
              " 'delas',\n",
              " 'dele',\n",
              " 'deles',\n",
              " 'depois',\n",
              " 'do',\n",
              " 'dos',\n",
              " 'e',\n",
              " 'ela',\n",
              " 'elas',\n",
              " 'ele',\n",
              " 'eles',\n",
              " 'em',\n",
              " 'entre',\n",
              " 'era',\n",
              " 'eram',\n",
              " 'essa',\n",
              " 'essas',\n",
              " 'esse',\n",
              " 'esses',\n",
              " 'esta',\n",
              " 'estamos',\n",
              " 'estar',\n",
              " 'estas',\n",
              " 'estava',\n",
              " 'estavam',\n",
              " 'este',\n",
              " 'esteja',\n",
              " 'estejam',\n",
              " 'estejamos',\n",
              " 'estes',\n",
              " 'esteve',\n",
              " 'estive',\n",
              " 'estivemos',\n",
              " 'estiver',\n",
              " 'estivera',\n",
              " 'estiveram',\n",
              " 'estiverem',\n",
              " 'estivermos',\n",
              " 'estivesse',\n",
              " 'estivessem',\n",
              " 'estivéramos',\n",
              " 'estivéssemos',\n",
              " 'estou',\n",
              " 'está',\n",
              " 'estávamos',\n",
              " 'estão',\n",
              " 'eu',\n",
              " 'foi',\n",
              " 'fomos',\n",
              " 'for',\n",
              " 'fora',\n",
              " 'foram',\n",
              " 'forem',\n",
              " 'formos',\n",
              " 'fosse',\n",
              " 'fossem',\n",
              " 'fui',\n",
              " 'fôramos',\n",
              " 'fôssemos',\n",
              " 'haja',\n",
              " 'hajam',\n",
              " 'hajamos',\n",
              " 'havemos',\n",
              " 'haver',\n",
              " 'hei',\n",
              " 'houve',\n",
              " 'houvemos',\n",
              " 'houver',\n",
              " 'houvera',\n",
              " 'houveram',\n",
              " 'houverei',\n",
              " 'houverem',\n",
              " 'houveremos',\n",
              " 'houveria',\n",
              " 'houveriam',\n",
              " 'houvermos',\n",
              " 'houverá',\n",
              " 'houverão',\n",
              " 'houveríamos',\n",
              " 'houvesse',\n",
              " 'houvessem',\n",
              " 'houvéramos',\n",
              " 'houvéssemos',\n",
              " 'há',\n",
              " 'hão',\n",
              " 'isso',\n",
              " 'isto',\n",
              " 'já',\n",
              " 'lhe',\n",
              " 'lhes',\n",
              " 'mais',\n",
              " 'mas',\n",
              " 'me',\n",
              " 'mesmo',\n",
              " 'meu',\n",
              " 'meus',\n",
              " 'minha',\n",
              " 'minhas',\n",
              " 'muito',\n",
              " 'na',\n",
              " 'nas',\n",
              " 'nem',\n",
              " 'no',\n",
              " 'nos',\n",
              " 'nossa',\n",
              " 'nossas',\n",
              " 'nosso',\n",
              " 'nossos',\n",
              " 'num',\n",
              " 'numa',\n",
              " 'não',\n",
              " 'nós',\n",
              " 'o',\n",
              " 'os',\n",
              " 'ou',\n",
              " 'para',\n",
              " 'pela',\n",
              " 'pelas',\n",
              " 'pelo',\n",
              " 'pelos',\n",
              " 'por',\n",
              " 'qual',\n",
              " 'quando',\n",
              " 'que',\n",
              " 'quem',\n",
              " 'se',\n",
              " 'seja',\n",
              " 'sejam',\n",
              " 'sejamos',\n",
              " 'sem',\n",
              " 'ser',\n",
              " 'serei',\n",
              " 'seremos',\n",
              " 'seria',\n",
              " 'seriam',\n",
              " 'será',\n",
              " 'serão',\n",
              " 'seríamos',\n",
              " 'seu',\n",
              " 'seus',\n",
              " 'somos',\n",
              " 'sou',\n",
              " 'sua',\n",
              " 'suas',\n",
              " 'são',\n",
              " 'só',\n",
              " 'também',\n",
              " 'te',\n",
              " 'tem',\n",
              " 'temos',\n",
              " 'tenha',\n",
              " 'tenham',\n",
              " 'tenhamos',\n",
              " 'tenho',\n",
              " 'terei',\n",
              " 'teremos',\n",
              " 'teria',\n",
              " 'teriam',\n",
              " 'terá',\n",
              " 'terão',\n",
              " 'teríamos',\n",
              " 'teu',\n",
              " 'teus',\n",
              " 'teve',\n",
              " 'tinha',\n",
              " 'tinham',\n",
              " 'tive',\n",
              " 'tivemos',\n",
              " 'tiver',\n",
              " 'tivera',\n",
              " 'tiveram',\n",
              " 'tiverem',\n",
              " 'tivermos',\n",
              " 'tivesse',\n",
              " 'tivessem',\n",
              " 'tivéramos',\n",
              " 'tivéssemos',\n",
              " 'tu',\n",
              " 'tua',\n",
              " 'tuas',\n",
              " 'tém',\n",
              " 'tínhamos',\n",
              " 'um',\n",
              " 'uma',\n",
              " 'você',\n",
              " 'vocês',\n",
              " 'vos',\n",
              " 'à',\n",
              " 'às',\n",
              " 'é',\n",
              " 'éramos'}"
            ]
          },
          "metadata": {},
          "execution_count": 241
        }
      ]
    },
    {
      "cell_type": "code",
      "source": [
        "# Removing stopwords\n",
        "tokens_nostops = [w for w in tokens if w not in stop_words]\n",
        "print(len(tokens_nostops))\n",
        "print(tokens_nostops)"
      ],
      "metadata": {
        "colab": {
          "base_uri": "https://localhost:8080/"
        },
        "id": "6rkDJL4tt8Vr",
        "outputId": "738d3eff-8abe-45d1-dc9f-ead8179ce897"
      },
      "execution_count": 242,
      "outputs": [
        {
          "output_type": "stream",
          "name": "stdout",
          "text": [
            "13\n",
            "['A', 'receita', 'empresa', 'Adidas', 'sofreu', 'queda', 'últimos', 'dias', '.', 'Houve', 'diminuição', 'vendas', 'Adidas']\n"
          ]
        }
      ]
    },
    {
      "cell_type": "code",
      "source": [
        "# Removing stopwords and punctuation\n",
        "tokens_nopunct = [w for w in tokens_nostops if w not in string.punctuation]\n",
        "print(len(tokens_nopunct))\n",
        "print(tokens_nopunct)"
      ],
      "metadata": {
        "colab": {
          "base_uri": "https://localhost:8080/"
        },
        "id": "iKhmAT0vvAWd",
        "outputId": "b962d067-c8f3-4827-a61e-161a94361969"
      },
      "execution_count": 243,
      "outputs": [
        {
          "output_type": "stream",
          "name": "stdout",
          "text": [
            "12\n",
            "['A', 'receita', 'empresa', 'Adidas', 'sofreu', 'queda', 'últimos', 'dias', 'Houve', 'diminuição', 'vendas', 'Adidas']\n"
          ]
        }
      ]
    },
    {
      "cell_type": "markdown",
      "source": [
        "## ***3. Metrics***"
      ],
      "metadata": {
        "id": "_eo1FvwWxqPR"
      }
    },
    {
      "cell_type": "code",
      "source": [
        "frequence = nltk.FreqDist(tokens_nopunct)\n",
        "frequence"
      ],
      "metadata": {
        "colab": {
          "base_uri": "https://localhost:8080/"
        },
        "id": "4l1Ysj7vxGU_",
        "outputId": "376f711e-6aba-4eb5-c669-10f2e0c9cd47"
      },
      "execution_count": 244,
      "outputs": [
        {
          "output_type": "execute_result",
          "data": {
            "text/plain": [
              "FreqDist({'Adidas': 2, 'A': 1, 'receita': 1, 'empresa': 1, 'sofreu': 1, 'queda': 1, 'últimos': 1, 'dias': 1, 'Houve': 1, 'diminuição': 1, ...})"
            ]
          },
          "metadata": {},
          "execution_count": 244
        }
      ]
    },
    {
      "cell_type": "code",
      "source": [
        "most_frequent = frequence.most_common()\n",
        "most_frequent"
      ],
      "metadata": {
        "colab": {
          "base_uri": "https://localhost:8080/"
        },
        "id": "eIPCc9cyyGFd",
        "outputId": "6f34f467-d1f8-43c2-81ea-b79d78672d0e"
      },
      "execution_count": 245,
      "outputs": [
        {
          "output_type": "execute_result",
          "data": {
            "text/plain": [
              "[('Adidas', 2),\n",
              " ('A', 1),\n",
              " ('receita', 1),\n",
              " ('empresa', 1),\n",
              " ('sofreu', 1),\n",
              " ('queda', 1),\n",
              " ('últimos', 1),\n",
              " ('dias', 1),\n",
              " ('Houve', 1),\n",
              " ('diminuição', 1),\n",
              " ('vendas', 1)]"
            ]
          },
          "metadata": {},
          "execution_count": 245
        }
      ]
    },
    {
      "cell_type": "markdown",
      "source": [
        "## ***4. Stemming***"
      ],
      "metadata": {
        "id": "Y9HkVmvAza5u"
      }
    },
    {
      "cell_type": "code",
      "source": [
        "# Techniques\n",
        "ps = PorterStemmer()\n",
        "ls = LancasterStemmer()\n",
        "ss = SnowballStemmer(language='portuguese')"
      ],
      "metadata": {
        "id": "r5ro9eN0zaLu"
      },
      "execution_count": 246,
      "outputs": []
    },
    {
      "cell_type": "code",
      "source": [
        "stem_ps = [ps.stem(w) for w in tokens_nopunct]\n",
        "\n",
        "print(tokens_nopunct)\n",
        "print('Stem: ', stem_ps)"
      ],
      "metadata": {
        "colab": {
          "base_uri": "https://localhost:8080/"
        },
        "id": "dwdrnPnqyue9",
        "outputId": "bd78abed-c415-42fe-b508-c7fb4373f898"
      },
      "execution_count": 247,
      "outputs": [
        {
          "output_type": "stream",
          "name": "stdout",
          "text": [
            "['A', 'receita', 'empresa', 'Adidas', 'sofreu', 'queda', 'últimos', 'dias', 'Houve', 'diminuição', 'vendas', 'Adidas']\n",
            "Stem:  ['a', 'receita', 'empresa', 'adida', 'sofreu', 'queda', 'último', 'dia', 'houv', 'diminuição', 'venda', 'adida']\n"
          ]
        }
      ]
    },
    {
      "cell_type": "code",
      "source": [
        "stem_ls = [ls.stem(w) for w in tokens_nopunct]\n",
        "\n",
        "print(tokens_nopunct)\n",
        "print('Stem: ', stem_ls)"
      ],
      "metadata": {
        "colab": {
          "base_uri": "https://localhost:8080/"
        },
        "id": "3fkndcyf0g8N",
        "outputId": "ae22faa3-36ad-408e-b349-f7f6a948d6ac"
      },
      "execution_count": 248,
      "outputs": [
        {
          "output_type": "stream",
          "name": "stdout",
          "text": [
            "['A', 'receita', 'empresa', 'Adidas', 'sofreu', 'queda', 'últimos', 'dias', 'Houve', 'diminuição', 'vendas', 'Adidas']\n",
            "Stem:  ['a', 'receit', 'empres', 'adida', 'sofreu', 'qued', 'últimos', 'dia', 'houv', 'diminuição', 'venda', 'adida']\n"
          ]
        }
      ]
    },
    {
      "cell_type": "code",
      "source": [
        "ss_stem = [ss.stem(w) for w in tokens_nopunct]\n",
        "\n",
        "print(tokens_nopunct)\n",
        "print(ss_stem)"
      ],
      "metadata": {
        "colab": {
          "base_uri": "https://localhost:8080/"
        },
        "id": "rnIwCGJR0pVA",
        "outputId": "b860321c-fb85-4816-e83d-de3d700c4658"
      },
      "execution_count": 249,
      "outputs": [
        {
          "output_type": "stream",
          "name": "stdout",
          "text": [
            "['A', 'receita', 'empresa', 'Adidas', 'sofreu', 'queda', 'últimos', 'dias', 'Houve', 'diminuição', 'vendas', 'Adidas']\n",
            "['a', 'receit', 'empres', 'adid', 'sofr', 'qued', 'últim', 'dias', 'houv', 'diminuiçã', 'vend', 'adid']\n"
          ]
        }
      ]
    },
    {
      "cell_type": "markdown",
      "source": [
        "## ***5. Pos-tagging***"
      ],
      "metadata": {
        "id": "OUFhth8R18fE"
      }
    },
    {
      "cell_type": "code",
      "source": [
        "# Consulting the tags meaning\n",
        "nltk.help.upenn_tagset()"
      ],
      "metadata": {
        "colab": {
          "base_uri": "https://localhost:8080/"
        },
        "id": "4h5JcWPy2CS9",
        "outputId": "49327a30-1818-4946-abe9-6160bb7cbd61"
      },
      "execution_count": 250,
      "outputs": [
        {
          "output_type": "stream",
          "name": "stdout",
          "text": [
            "$: dollar\n",
            "    $ -$ --$ A$ C$ HK$ M$ NZ$ S$ U.S.$ US$\n",
            "'': closing quotation mark\n",
            "    ' ''\n",
            "(: opening parenthesis\n",
            "    ( [ {\n",
            "): closing parenthesis\n",
            "    ) ] }\n",
            ",: comma\n",
            "    ,\n",
            "--: dash\n",
            "    --\n",
            ".: sentence terminator\n",
            "    . ! ?\n",
            ":: colon or ellipsis\n",
            "    : ; ...\n",
            "CC: conjunction, coordinating\n",
            "    & 'n and both but either et for less minus neither nor or plus so\n",
            "    therefore times v. versus vs. whether yet\n",
            "CD: numeral, cardinal\n",
            "    mid-1890 nine-thirty forty-two one-tenth ten million 0.5 one forty-\n",
            "    seven 1987 twenty '79 zero two 78-degrees eighty-four IX '60s .025\n",
            "    fifteen 271,124 dozen quintillion DM2,000 ...\n",
            "DT: determiner\n",
            "    all an another any both del each either every half la many much nary\n",
            "    neither no some such that the them these this those\n",
            "EX: existential there\n",
            "    there\n",
            "FW: foreign word\n",
            "    gemeinschaft hund ich jeux habeas Haementeria Herr K'ang-si vous\n",
            "    lutihaw alai je jour objets salutaris fille quibusdam pas trop Monte\n",
            "    terram fiche oui corporis ...\n",
            "IN: preposition or conjunction, subordinating\n",
            "    astride among uppon whether out inside pro despite on by throughout\n",
            "    below within for towards near behind atop around if like until below\n",
            "    next into if beside ...\n",
            "JJ: adjective or numeral, ordinal\n",
            "    third ill-mannered pre-war regrettable oiled calamitous first separable\n",
            "    ectoplasmic battery-powered participatory fourth still-to-be-named\n",
            "    multilingual multi-disciplinary ...\n",
            "JJR: adjective, comparative\n",
            "    bleaker braver breezier briefer brighter brisker broader bumper busier\n",
            "    calmer cheaper choosier cleaner clearer closer colder commoner costlier\n",
            "    cozier creamier crunchier cuter ...\n",
            "JJS: adjective, superlative\n",
            "    calmest cheapest choicest classiest cleanest clearest closest commonest\n",
            "    corniest costliest crassest creepiest crudest cutest darkest deadliest\n",
            "    dearest deepest densest dinkiest ...\n",
            "LS: list item marker\n",
            "    A A. B B. C C. D E F First G H I J K One SP-44001 SP-44002 SP-44005\n",
            "    SP-44007 Second Third Three Two * a b c d first five four one six three\n",
            "    two\n",
            "MD: modal auxiliary\n",
            "    can cannot could couldn't dare may might must need ought shall should\n",
            "    shouldn't will would\n",
            "NN: noun, common, singular or mass\n",
            "    common-carrier cabbage knuckle-duster Casino afghan shed thermostat\n",
            "    investment slide humour falloff slick wind hyena override subhumanity\n",
            "    machinist ...\n",
            "NNP: noun, proper, singular\n",
            "    Motown Venneboerger Czestochwa Ranzer Conchita Trumplane Christos\n",
            "    Oceanside Escobar Kreisler Sawyer Cougar Yvette Ervin ODI Darryl CTCA\n",
            "    Shannon A.K.C. Meltex Liverpool ...\n",
            "NNPS: noun, proper, plural\n",
            "    Americans Americas Amharas Amityvilles Amusements Anarcho-Syndicalists\n",
            "    Andalusians Andes Andruses Angels Animals Anthony Antilles Antiques\n",
            "    Apache Apaches Apocrypha ...\n",
            "NNS: noun, common, plural\n",
            "    undergraduates scotches bric-a-brac products bodyguards facets coasts\n",
            "    divestitures storehouses designs clubs fragrances averages\n",
            "    subjectivists apprehensions muses factory-jobs ...\n",
            "PDT: pre-determiner\n",
            "    all both half many quite such sure this\n",
            "POS: genitive marker\n",
            "    ' 's\n",
            "PRP: pronoun, personal\n",
            "    hers herself him himself hisself it itself me myself one oneself ours\n",
            "    ourselves ownself self she thee theirs them themselves they thou thy us\n",
            "PRP$: pronoun, possessive\n",
            "    her his mine my our ours their thy your\n",
            "RB: adverb\n",
            "    occasionally unabatingly maddeningly adventurously professedly\n",
            "    stirringly prominently technologically magisterially predominately\n",
            "    swiftly fiscally pitilessly ...\n",
            "RBR: adverb, comparative\n",
            "    further gloomier grander graver greater grimmer harder harsher\n",
            "    healthier heavier higher however larger later leaner lengthier less-\n",
            "    perfectly lesser lonelier longer louder lower more ...\n",
            "RBS: adverb, superlative\n",
            "    best biggest bluntest earliest farthest first furthest hardest\n",
            "    heartiest highest largest least less most nearest second tightest worst\n",
            "RP: particle\n",
            "    aboard about across along apart around aside at away back before behind\n",
            "    by crop down ever fast for forth from go high i.e. in into just later\n",
            "    low more off on open out over per pie raising start teeth that through\n",
            "    under unto up up-pp upon whole with you\n",
            "SYM: symbol\n",
            "    % & ' '' ''. ) ). * + ,. < = > @ A[fj] U.S U.S.S.R * ** ***\n",
            "TO: \"to\" as preposition or infinitive marker\n",
            "    to\n",
            "UH: interjection\n",
            "    Goodbye Goody Gosh Wow Jeepers Jee-sus Hubba Hey Kee-reist Oops amen\n",
            "    huh howdy uh dammit whammo shucks heck anyways whodunnit honey golly\n",
            "    man baby diddle hush sonuvabitch ...\n",
            "VB: verb, base form\n",
            "    ask assemble assess assign assume atone attention avoid bake balkanize\n",
            "    bank begin behold believe bend benefit bevel beware bless boil bomb\n",
            "    boost brace break bring broil brush build ...\n",
            "VBD: verb, past tense\n",
            "    dipped pleaded swiped regummed soaked tidied convened halted registered\n",
            "    cushioned exacted snubbed strode aimed adopted belied figgered\n",
            "    speculated wore appreciated contemplated ...\n",
            "VBG: verb, present participle or gerund\n",
            "    telegraphing stirring focusing angering judging stalling lactating\n",
            "    hankerin' alleging veering capping approaching traveling besieging\n",
            "    encrypting interrupting erasing wincing ...\n",
            "VBN: verb, past participle\n",
            "    multihulled dilapidated aerosolized chaired languished panelized used\n",
            "    experimented flourished imitated reunifed factored condensed sheared\n",
            "    unsettled primed dubbed desired ...\n",
            "VBP: verb, present tense, not 3rd person singular\n",
            "    predominate wrap resort sue twist spill cure lengthen brush terminate\n",
            "    appear tend stray glisten obtain comprise detest tease attract\n",
            "    emphasize mold postpone sever return wag ...\n",
            "VBZ: verb, present tense, 3rd person singular\n",
            "    bases reconstructs marks mixes displeases seals carps weaves snatches\n",
            "    slumps stretches authorizes smolders pictures emerges stockpiles\n",
            "    seduces fizzes uses bolsters slaps speaks pleads ...\n",
            "WDT: WH-determiner\n",
            "    that what whatever which whichever\n",
            "WP: WH-pronoun\n",
            "    that what whatever whatsoever which who whom whosoever\n",
            "WP$: WH-pronoun, possessive\n",
            "    whose\n",
            "WRB: Wh-adverb\n",
            "    how however whence whenever where whereby whereever wherein whereof why\n",
            "``: opening quotation mark\n",
            "    ` ``\n"
          ]
        }
      ]
    },
    {
      "cell_type": "code",
      "source": [
        "tags = nltk.pos_tag(tokens)\n",
        "tags"
      ],
      "metadata": {
        "colab": {
          "base_uri": "https://localhost:8080/"
        },
        "id": "0BgSOedY3SxG",
        "outputId": "919be6eb-8519-43e6-ff35-e9950525400d"
      },
      "execution_count": 251,
      "outputs": [
        {
          "output_type": "execute_result",
          "data": {
            "text/plain": [
              "[('A', 'DT'),\n",
              " ('receita', 'JJ'),\n",
              " ('da', 'NN'),\n",
              " ('empresa', 'NN'),\n",
              " ('Adidas', 'NNP'),\n",
              " ('sofreu', 'NN'),\n",
              " ('uma', 'JJ'),\n",
              " ('queda', 'NN'),\n",
              " ('nos', 'NNS'),\n",
              " ('últimos', 'VBP'),\n",
              " ('dias', 'NN'),\n",
              " ('.', '.'),\n",
              " ('Houve', 'NNP'),\n",
              " ('uma', 'JJ'),\n",
              " ('diminuição', 'NN'),\n",
              " ('nas', 'NNS'),\n",
              " ('vendas', 'VBP'),\n",
              " ('da', 'NN'),\n",
              " ('Adidas', 'NN')]"
            ]
          },
          "metadata": {},
          "execution_count": 251
        }
      ]
    },
    {
      "cell_type": "code",
      "source": [
        "# Tagging sentences\n",
        "tags_sents = pos_tag_sents([word_tokenize(sent) for sent in tokens_sent])\n",
        "tags_sents"
      ],
      "metadata": {
        "colab": {
          "base_uri": "https://localhost:8080/"
        },
        "id": "9tFAPLxH3u4g",
        "outputId": "fb3e4370-b4ae-45b5-ca59-358d93cadf7f"
      },
      "execution_count": 252,
      "outputs": [
        {
          "output_type": "execute_result",
          "data": {
            "text/plain": [
              "[[('A', 'DT'),\n",
              "  ('receita', 'JJ'),\n",
              "  ('da', 'NN'),\n",
              "  ('empresa', 'NN'),\n",
              "  ('Adidas', 'NNP'),\n",
              "  ('sofreu', 'NN'),\n",
              "  ('uma', 'JJ'),\n",
              "  ('queda', 'NN'),\n",
              "  ('nos', 'NNS'),\n",
              "  ('últimos', 'VBP'),\n",
              "  ('dias', 'NN'),\n",
              "  ('.', '.')],\n",
              " [('Houve', 'NNP'),\n",
              "  ('uma', 'JJ'),\n",
              "  ('diminuição', 'NN'),\n",
              "  ('nas', 'NNS'),\n",
              "  ('vendas', 'VBP'),\n",
              "  ('da', 'NN'),\n",
              "  ('Adidas', 'NN')]]"
            ]
          },
          "metadata": {},
          "execution_count": 252
        }
      ]
    },
    {
      "cell_type": "markdown",
      "source": [
        "## ***6. Lemmatizing***"
      ],
      "metadata": {
        "id": "dZjxBRzl6yD1"
      }
    },
    {
      "cell_type": "code",
      "source": [
        "lemmatizer = WordNetLemmatizer()"
      ],
      "metadata": {
        "id": "nu-f7JNF61UY"
      },
      "execution_count": 253,
      "outputs": []
    },
    {
      "cell_type": "code",
      "source": [
        "lemmas = [lemmatizer.lemmatize(w) for w in tokens]\n",
        "print(tokens)\n",
        "print('Lemmas: ', lemmas)"
      ],
      "metadata": {
        "colab": {
          "base_uri": "https://localhost:8080/"
        },
        "id": "C0L_eQM07L3_",
        "outputId": "a801c203-e09b-4c71-8f02-22196a196cb0"
      },
      "execution_count": 254,
      "outputs": [
        {
          "output_type": "stream",
          "name": "stdout",
          "text": [
            "['A', 'receita', 'da', 'empresa', 'Adidas', 'sofreu', 'uma', 'queda', 'nos', 'últimos', 'dias', '.', 'Houve', 'uma', 'diminuição', 'nas', 'vendas', 'da', 'Adidas']\n",
            "Lemmas:  ['A', 'receita', 'da', 'empresa', 'Adidas', 'sofreu', 'uma', 'queda', 'no', 'últimos', 'dia', '.', 'Houve', 'uma', 'diminuição', 'na', 'vendas', 'da', 'Adidas']\n"
          ]
        }
      ]
    },
    {
      "cell_type": "markdown",
      "source": [
        "## ***7. Named Entities Recognition***"
      ],
      "metadata": {
        "id": "KjpAcoL677EJ"
      }
    },
    {
      "cell_type": "code",
      "source": [
        "named_entities = nltk.ne_chunk(tags)\n",
        "print(named_entities)"
      ],
      "metadata": {
        "id": "Qymc7iOB7_bR",
        "colab": {
          "base_uri": "https://localhost:8080/"
        },
        "outputId": "5e467a40-22f3-4e22-8176-cbd93a6387d9"
      },
      "execution_count": 255,
      "outputs": [
        {
          "output_type": "stream",
          "name": "stdout",
          "text": [
            "(S\n",
            "  A/DT\n",
            "  receita/JJ\n",
            "  da/NN\n",
            "  empresa/NN\n",
            "  (PERSON Adidas/NNP)\n",
            "  sofreu/NN\n",
            "  uma/JJ\n",
            "  queda/NN\n",
            "  nos/NNS\n",
            "  últimos/VBP\n",
            "  dias/NN\n",
            "  ./.\n",
            "  (PERSON Houve/NNP)\n",
            "  uma/JJ\n",
            "  diminuição/NN\n",
            "  nas/NNS\n",
            "  vendas/VBP\n",
            "  da/NN\n",
            "  (PERSON Adidas/NN))\n"
          ]
        }
      ]
    }
  ]
}