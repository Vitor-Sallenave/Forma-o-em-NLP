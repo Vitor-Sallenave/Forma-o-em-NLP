{
  "nbformat": 4,
  "nbformat_minor": 0,
  "metadata": {
    "colab": {
      "provenance": [],
      "authorship_tag": "ABX9TyPbDPf5LFViZCamsM2wlVKg",
      "include_colab_link": true
    },
    "kernelspec": {
      "name": "python3",
      "display_name": "Python 3"
    },
    "language_info": {
      "name": "python"
    }
  },
  "cells": [
    {
      "cell_type": "markdown",
      "metadata": {
        "id": "view-in-github",
        "colab_type": "text"
      },
      "source": [
        "<a href=\"https://colab.research.google.com/github/Vitor-Sallenave/Formacao-em-NLP/blob/main/Transformers-BERT-GPT/Fill_Mask.ipynb\" target=\"_parent\"><img src=\"https://colab.research.google.com/assets/colab-badge.svg\" alt=\"Open In Colab\"/></a>"
      ]
    },
    {
      "cell_type": "code",
      "execution_count": null,
      "metadata": {
        "colab": {
          "base_uri": "https://localhost:8080/"
        },
        "id": "foM1Xb8pIFO1",
        "outputId": "1a66c7e9-c7e7-467d-daa6-1f10eee4228f"
      },
      "outputs": [
        {
          "output_type": "stream",
          "name": "stdout",
          "text": [
            "Requirement already satisfied: transformers in /usr/local/lib/python3.10/dist-packages (4.33.2)\n",
            "Requirement already satisfied: filelock in /usr/local/lib/python3.10/dist-packages (from transformers) (3.12.2)\n",
            "Requirement already satisfied: huggingface-hub<1.0,>=0.15.1 in /usr/local/lib/python3.10/dist-packages (from transformers) (0.17.3)\n",
            "Requirement already satisfied: numpy>=1.17 in /usr/local/lib/python3.10/dist-packages (from transformers) (1.23.5)\n",
            "Requirement already satisfied: packaging>=20.0 in /usr/local/lib/python3.10/dist-packages (from transformers) (23.1)\n",
            "Requirement already satisfied: pyyaml>=5.1 in /usr/local/lib/python3.10/dist-packages (from transformers) (6.0.1)\n",
            "Requirement already satisfied: regex!=2019.12.17 in /usr/local/lib/python3.10/dist-packages (from transformers) (2023.6.3)\n",
            "Requirement already satisfied: requests in /usr/local/lib/python3.10/dist-packages (from transformers) (2.31.0)\n",
            "Requirement already satisfied: tokenizers!=0.11.3,<0.14,>=0.11.1 in /usr/local/lib/python3.10/dist-packages (from transformers) (0.13.3)\n",
            "Requirement already satisfied: safetensors>=0.3.1 in /usr/local/lib/python3.10/dist-packages (from transformers) (0.3.3)\n",
            "Requirement already satisfied: tqdm>=4.27 in /usr/local/lib/python3.10/dist-packages (from transformers) (4.66.1)\n",
            "Requirement already satisfied: fsspec in /usr/local/lib/python3.10/dist-packages (from huggingface-hub<1.0,>=0.15.1->transformers) (2023.6.0)\n",
            "Requirement already satisfied: typing-extensions>=3.7.4.3 in /usr/local/lib/python3.10/dist-packages (from huggingface-hub<1.0,>=0.15.1->transformers) (4.5.0)\n",
            "Requirement already satisfied: charset-normalizer<4,>=2 in /usr/local/lib/python3.10/dist-packages (from requests->transformers) (3.2.0)\n",
            "Requirement already satisfied: idna<4,>=2.5 in /usr/local/lib/python3.10/dist-packages (from requests->transformers) (3.4)\n",
            "Requirement already satisfied: urllib3<3,>=1.21.1 in /usr/local/lib/python3.10/dist-packages (from requests->transformers) (2.0.4)\n",
            "Requirement already satisfied: certifi>=2017.4.17 in /usr/local/lib/python3.10/dist-packages (from requests->transformers) (2023.7.22)\n"
          ]
        }
      ],
      "source": [
        "!pip install transformers"
      ]
    },
    {
      "cell_type": "code",
      "source": [
        "from transformers import pipeline"
      ],
      "metadata": {
        "id": "_BF4q-XZIsNs"
      },
      "execution_count": null,
      "outputs": []
    },
    {
      "cell_type": "code",
      "source": [
        "model_path = 'neuralmind/bert-base-portuguese-cased'\n",
        "pipe = pipeline(task='fill-mask', model=model_path)"
      ],
      "metadata": {
        "colab": {
          "base_uri": "https://localhost:8080/"
        },
        "id": "N48WUGxlKasT",
        "outputId": "143871d5-72c1-445f-a750-a4e673f78a87"
      },
      "execution_count": null,
      "outputs": [
        {
          "output_type": "stream",
          "name": "stderr",
          "text": [
            "Some weights of the model checkpoint at neuralmind/bert-base-portuguese-cased were not used when initializing BertForMaskedLM: ['bert.pooler.dense.bias', 'bert.pooler.dense.weight', 'cls.seq_relationship.bias', 'cls.seq_relationship.weight']\n",
            "- This IS expected if you are initializing BertForMaskedLM from the checkpoint of a model trained on another task or with another architecture (e.g. initializing a BertForSequenceClassification model from a BertForPreTraining model).\n",
            "- This IS NOT expected if you are initializing BertForMaskedLM from the checkpoint of a model that you expect to be exactly identical (initializing a BertForSequenceClassification model from a BertForSequenceClassification model).\n"
          ]
        }
      ]
    },
    {
      "cell_type": "code",
      "source": [
        "ph1 = 'é um passáro ou é um [MASK]?'\n",
        "ph2 = 'Você deveria ter fechado a [MASK]'"
      ],
      "metadata": {
        "id": "76kXM8BXKrKS"
      },
      "execution_count": null,
      "outputs": []
    },
    {
      "cell_type": "code",
      "source": [
        "predictions = pipe(ph1)\n",
        "for prediction in predictions:\n",
        "    print(prediction, '\\n')"
      ],
      "metadata": {
        "colab": {
          "base_uri": "https://localhost:8080/"
        },
        "id": "qclXWQn4LdEe",
        "outputId": "6a4d185f-d145-4d9c-9e15-3f32b4fe588c"
      },
      "execution_count": null,
      "outputs": [
        {
          "output_type": "stream",
          "name": "stdout",
          "text": [
            "{'score': 0.021053429692983627, 'token': 8271, 'token_str': 'cavalo', 'sequence': 'é um passáro ou é um cavalo?'} \n",
            "\n",
            "{'score': 0.018475646153092384, 'token': 6032, 'token_str': 'animal', 'sequence': 'é um passáro ou é um animal?'} \n",
            "\n",
            "{'score': 0.01794680766761303, 'token': 15997, 'token_str': 'gato', 'sequence': 'é um passáro ou é um gato?'} \n",
            "\n",
            "{'score': 0.014417811296880245, 'token': 17912, 'token_str': 'pato', 'sequence': 'é um passáro ou é um pato?'} \n",
            "\n",
            "{'score': 0.013337258249521255, 'token': 2397, 'token_str': 'homem', 'sequence': 'é um passáro ou é um homem?'} \n",
            "\n"
          ]
        }
      ]
    },
    {
      "cell_type": "code",
      "source": [
        "predictions = pipe(ph2)\n",
        "for prediction in predictions:\n",
        "    print(prediction, '\\n')"
      ],
      "metadata": {
        "colab": {
          "base_uri": "https://localhost:8080/"
        },
        "id": "ZpyQWXPcLuyp",
        "outputId": "0813f314-4479-48ff-e579-6dbeed6326db"
      },
      "execution_count": null,
      "outputs": [
        {
          "output_type": "stream",
          "name": "stdout",
          "text": [
            "{'score': 0.22666341066360474, 'token': 4303, 'token_str': 'porta', 'sequence': 'Você deveria ter fechado a porta'} \n",
            "\n",
            "{'score': 0.06831830739974976, 'token': 9463, 'token_str': 'boca', 'sequence': 'Você deveria ter fechado a boca'} \n",
            "\n",
            "{'score': 0.05758418142795563, 'token': 7841, 'token_str': 'loja', 'sequence': 'Você deveria ter fechado a loja'} \n",
            "\n",
            "{'score': 0.03459542989730835, 'token': 1284, 'token_str': 'conta', 'sequence': 'Você deveria ter fechado a conta'} \n",
            "\n",
            "{'score': 0.03412800654768944, 'token': 11471, 'token_str': 'janela', 'sequence': 'Você deveria ter fechado a janela'} \n",
            "\n"
          ]
        }
      ]
    }
  ]
}