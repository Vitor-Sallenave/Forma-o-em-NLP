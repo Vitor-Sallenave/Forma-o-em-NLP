{
  "nbformat": 4,
  "nbformat_minor": 0,
  "metadata": {
    "colab": {
      "provenance": [],
      "authorship_tag": "ABX9TyNK+Na0BA9sKzU/F2SLFKKY",
      "include_colab_link": true
    },
    "kernelspec": {
      "name": "python3",
      "display_name": "Python 3"
    },
    "language_info": {
      "name": "python"
    }
  },
  "cells": [
    {
      "cell_type": "markdown",
      "metadata": {
        "id": "view-in-github",
        "colab_type": "text"
      },
      "source": [
        "<a href=\"https://colab.research.google.com/github/Vitor-Sallenave/Formacao-em-NLP/blob/main/Transformers-BERT-GPT/Question_Answering.ipynb\" target=\"_parent\"><img src=\"https://colab.research.google.com/assets/colab-badge.svg\" alt=\"Open In Colab\"/></a>"
      ]
    },
    {
      "cell_type": "code",
      "execution_count": null,
      "metadata": {
        "id": "USbb549LY_Zf"
      },
      "outputs": [],
      "source": [
        "!pip install transformers"
      ]
    },
    {
      "cell_type": "code",
      "source": [
        "import transformers"
      ],
      "metadata": {
        "id": "yMSofnS0ZQ_B"
      },
      "execution_count": null,
      "outputs": []
    },
    {
      "cell_type": "code",
      "source": [
        "# Pipeline is a high-level helper\n",
        "pipe = pipeline(task='question-answering',\n",
        "                model='pierreguillou/bert-base-cased-squad-v1.1-portuguese')"
      ],
      "metadata": {
        "id": "hPm01pJbbKJX"
      },
      "execution_count": null,
      "outputs": []
    },
    {
      "cell_type": "code",
      "source": [
        "text = 'Angenor de Oliveira, mais conhecido como Cartola, foi um cantor, compositor, poeta e violonista brasileiro. Tendo como seus maiores sucessos as músicas As Rosas não Falam, O Mundo É um Moinho e Alvorada, é considerado por diversos músicos e críticos musicais como o maior sambista da história da música brasileira.'\n",
        "question1 = 'Qual era o gênero musical de Cartola?'\n",
        "question2 = 'Qual era o apelido de Angenor de Oliveira?'\n",
        "answer1 = pipe(question=question1, context=text)\n",
        "answer2 = pipe(question=question2, context=text)"
      ],
      "metadata": {
        "id": "H6jdI79htyVT"
      },
      "execution_count": null,
      "outputs": []
    },
    {
      "cell_type": "code",
      "source": [
        "answer1"
      ],
      "metadata": {
        "colab": {
          "base_uri": "https://localhost:8080/"
        },
        "id": "SoHC1EYCxOkT",
        "outputId": "bded56a0-8c01-49cc-c958-8d1f340004e4"
      },
      "execution_count": null,
      "outputs": [
        {
          "output_type": "execute_result",
          "data": {
            "text/plain": [
              "{'score': 0.2882578670978546, 'start': 272, 'end': 280, 'answer': 'sambista'}"
            ]
          },
          "metadata": {},
          "execution_count": 28
        }
      ]
    },
    {
      "cell_type": "code",
      "source": [
        "answer2"
      ],
      "metadata": {
        "colab": {
          "base_uri": "https://localhost:8080/"
        },
        "id": "SN1GkE6dyNNa",
        "outputId": "f672334c-0d46-4b4f-f2ea-5f5dc72abc85"
      },
      "execution_count": null,
      "outputs": [
        {
          "output_type": "execute_result",
          "data": {
            "text/plain": [
              "{'score': 0.9900363683700562, 'start': 41, 'end': 48, 'answer': 'Cartola'}"
            ]
          },
          "metadata": {},
          "execution_count": 29
        }
      ]
    },
    {
      "cell_type": "code",
      "source": [
        "print(f'Pergunta 1: {question1}\\nResposta 1: {answer1[\"answer\"]}')\n",
        "print(f'Pergunta 2: {question2}\\nResposta 2: {answer2[\"answer\"]}')"
      ],
      "metadata": {
        "colab": {
          "base_uri": "https://localhost:8080/"
        },
        "id": "S5MBi44swYDj",
        "outputId": "87d28c95-8507-45d6-c737-2bc79724fb90"
      },
      "execution_count": null,
      "outputs": [
        {
          "output_type": "stream",
          "name": "stdout",
          "text": [
            "Pergunta 1: Qual era o gênero musical de Cartola?\n",
            "Resposta 1: sambista\n",
            "Pergunta 2: Qual era o apelido de Angenor de Oliveira\n",
            "Resposta 2: Cartola\n"
          ]
        }
      ]
    }
  ]
}